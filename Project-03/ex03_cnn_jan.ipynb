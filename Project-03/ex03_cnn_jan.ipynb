{
  "nbformat": 4,
  "nbformat_minor": 0,
  "metadata": {
    "accelerator": "GPU",
    "colab": {
      "name": "ex03_cnn_jan.ipynb",
      "provenance": [],
      "collapsed_sections": [],
      "include_colab_link": true
    },
    "kernelspec": {
      "display_name": "Python 3",
      "language": "python",
      "name": "python3"
    },
    "language_info": {
      "codemirror_mode": {
        "name": "ipython",
        "version": 3
      },
      "file_extension": ".py",
      "mimetype": "text/x-python",
      "name": "python",
      "nbconvert_exporter": "python",
      "pygments_lexer": "ipython3",
      "version": "3.7.6"
    }
  },
  "cells": [
    {
      "cell_type": "markdown",
      "metadata": {
        "id": "view-in-github",
        "colab_type": "text"
      },
      "source": [
        "<a href=\"https://colab.research.google.com/github/jan-kreischer/EPFL_ANN_Projects/blob/main/Project-03/ex03_cnn_jan.ipynb\" target=\"_parent\"><img src=\"https://colab.research.google.com/assets/colab-badge.svg\" alt=\"Open In Colab\"/></a>"
      ]
    },
    {
      "cell_type": "markdown",
      "metadata": {
        "id": "5mUlNUnJ4Ljk"
      },
      "source": [
        "# Project 3 - Language Identification (Reloaded and Convoluted)\n",
        "## 1. Setup\n",
        "### 1.1 Dependencies"
      ]
    },
    {
      "cell_type": "code",
      "metadata": {
        "colab": {
          "base_uri": "https://localhost:8080/"
        },
        "id": "qj4iNDiWO-XC",
        "outputId": "3b90cea4-4728-4e86-fdea-4e0d4576eb18"
      },
      "source": [
        "!pip install talos"
      ],
      "execution_count": 1,
      "outputs": [
        {
          "output_type": "stream",
          "name": "stdout",
          "text": [
            "Collecting talos\n",
            "  Downloading talos-1.0-py3-none-any.whl (53 kB)\n",
            "\u001b[K     |████████████████████████████████| 53 kB 1.3 MB/s \n",
            "\u001b[?25hCollecting statsmodels>=0.11.0\n",
            "  Downloading statsmodels-0.13.0-cp37-cp37m-manylinux_2_17_x86_64.manylinux2014_x86_64.whl (9.8 MB)\n",
            "\u001b[K     |████████████████████████████████| 9.8 MB 16.0 MB/s \n",
            "\u001b[?25hRequirement already satisfied: sklearn in /usr/local/lib/python3.7/dist-packages (from talos) (0.0)\n",
            "Requirement already satisfied: tensorflow>=2.0.0 in /usr/local/lib/python3.7/dist-packages (from talos) (2.6.0)\n",
            "Requirement already satisfied: numpy in /usr/local/lib/python3.7/dist-packages (from talos) (1.19.5)\n",
            "Collecting astetik\n",
            "  Downloading astetik-1.11.1-py3-none-any.whl (5.4 MB)\n",
            "\u001b[K     |████████████████████████████████| 5.4 MB 20.9 MB/s \n",
            "\u001b[?25hRequirement already satisfied: pandas in /usr/local/lib/python3.7/dist-packages (from talos) (1.1.5)\n",
            "Requirement already satisfied: tqdm in /usr/local/lib/python3.7/dist-packages (from talos) (4.62.3)\n",
            "Collecting kerasplotlib\n",
            "  Downloading kerasplotlib-0.1.6.tar.gz (3.5 kB)\n",
            "Collecting wrangle\n",
            "  Downloading wrangle-0.6.9-py3-none-any.whl (51 kB)\n",
            "\u001b[K     |████████████████████████████████| 51 kB 668 kB/s \n",
            "\u001b[?25hRequirement already satisfied: requests in /usr/local/lib/python3.7/dist-packages (from talos) (2.23.0)\n",
            "Collecting chances\n",
            "  Downloading chances-0.1.9.tar.gz (35 kB)\n",
            "Requirement already satisfied: patsy>=0.5.2 in /usr/local/lib/python3.7/dist-packages (from statsmodels>=0.11.0->talos) (0.5.2)\n",
            "Requirement already satisfied: scipy>=1.3 in /usr/local/lib/python3.7/dist-packages (from statsmodels>=0.11.0->talos) (1.4.1)\n",
            "Requirement already satisfied: pytz>=2017.2 in /usr/local/lib/python3.7/dist-packages (from pandas->talos) (2018.9)\n",
            "Requirement already satisfied: python-dateutil>=2.7.3 in /usr/local/lib/python3.7/dist-packages (from pandas->talos) (2.8.2)\n",
            "Requirement already satisfied: six in /usr/local/lib/python3.7/dist-packages (from patsy>=0.5.2->statsmodels>=0.11.0->talos) (1.15.0)\n",
            "Requirement already satisfied: wheel~=0.35 in /usr/local/lib/python3.7/dist-packages (from tensorflow>=2.0.0->talos) (0.37.0)\n",
            "Requirement already satisfied: keras~=2.6 in /usr/local/lib/python3.7/dist-packages (from tensorflow>=2.0.0->talos) (2.6.0)\n",
            "Requirement already satisfied: wrapt~=1.12.1 in /usr/local/lib/python3.7/dist-packages (from tensorflow>=2.0.0->talos) (1.12.1)\n",
            "Requirement already satisfied: termcolor~=1.1.0 in /usr/local/lib/python3.7/dist-packages (from tensorflow>=2.0.0->talos) (1.1.0)\n",
            "Requirement already satisfied: grpcio<2.0,>=1.37.0 in /usr/local/lib/python3.7/dist-packages (from tensorflow>=2.0.0->talos) (1.41.0)\n",
            "Requirement already satisfied: tensorboard~=2.6 in /usr/local/lib/python3.7/dist-packages (from tensorflow>=2.0.0->talos) (2.6.0)\n",
            "Requirement already satisfied: keras-preprocessing~=1.1.2 in /usr/local/lib/python3.7/dist-packages (from tensorflow>=2.0.0->talos) (1.1.2)\n",
            "Requirement already satisfied: google-pasta~=0.2 in /usr/local/lib/python3.7/dist-packages (from tensorflow>=2.0.0->talos) (0.2.0)\n",
            "Requirement already satisfied: tensorflow-estimator~=2.6 in /usr/local/lib/python3.7/dist-packages (from tensorflow>=2.0.0->talos) (2.6.0)\n",
            "Requirement already satisfied: typing-extensions~=3.7.4 in /usr/local/lib/python3.7/dist-packages (from tensorflow>=2.0.0->talos) (3.7.4.3)\n",
            "Requirement already satisfied: astunparse~=1.6.3 in /usr/local/lib/python3.7/dist-packages (from tensorflow>=2.0.0->talos) (1.6.3)\n",
            "Requirement already satisfied: opt-einsum~=3.3.0 in /usr/local/lib/python3.7/dist-packages (from tensorflow>=2.0.0->talos) (3.3.0)\n",
            "Requirement already satisfied: h5py~=3.1.0 in /usr/local/lib/python3.7/dist-packages (from tensorflow>=2.0.0->talos) (3.1.0)\n",
            "Requirement already satisfied: gast==0.4.0 in /usr/local/lib/python3.7/dist-packages (from tensorflow>=2.0.0->talos) (0.4.0)\n",
            "Requirement already satisfied: flatbuffers~=1.12.0 in /usr/local/lib/python3.7/dist-packages (from tensorflow>=2.0.0->talos) (1.12)\n",
            "Requirement already satisfied: protobuf>=3.9.2 in /usr/local/lib/python3.7/dist-packages (from tensorflow>=2.0.0->talos) (3.17.3)\n",
            "Requirement already satisfied: clang~=5.0 in /usr/local/lib/python3.7/dist-packages (from tensorflow>=2.0.0->talos) (5.0)\n",
            "Requirement already satisfied: absl-py~=0.10 in /usr/local/lib/python3.7/dist-packages (from tensorflow>=2.0.0->talos) (0.12.0)\n",
            "Requirement already satisfied: cached-property in /usr/local/lib/python3.7/dist-packages (from h5py~=3.1.0->tensorflow>=2.0.0->talos) (1.5.2)\n",
            "Requirement already satisfied: markdown>=2.6.8 in /usr/local/lib/python3.7/dist-packages (from tensorboard~=2.6->tensorflow>=2.0.0->talos) (3.3.4)\n",
            "Requirement already satisfied: setuptools>=41.0.0 in /usr/local/lib/python3.7/dist-packages (from tensorboard~=2.6->tensorflow>=2.0.0->talos) (57.4.0)\n",
            "Requirement already satisfied: tensorboard-data-server<0.7.0,>=0.6.0 in /usr/local/lib/python3.7/dist-packages (from tensorboard~=2.6->tensorflow>=2.0.0->talos) (0.6.1)\n",
            "Requirement already satisfied: werkzeug>=0.11.15 in /usr/local/lib/python3.7/dist-packages (from tensorboard~=2.6->tensorflow>=2.0.0->talos) (1.0.1)\n",
            "Requirement already satisfied: tensorboard-plugin-wit>=1.6.0 in /usr/local/lib/python3.7/dist-packages (from tensorboard~=2.6->tensorflow>=2.0.0->talos) (1.8.0)\n",
            "Requirement already satisfied: google-auth<2,>=1.6.3 in /usr/local/lib/python3.7/dist-packages (from tensorboard~=2.6->tensorflow>=2.0.0->talos) (1.35.0)\n",
            "Requirement already satisfied: google-auth-oauthlib<0.5,>=0.4.1 in /usr/local/lib/python3.7/dist-packages (from tensorboard~=2.6->tensorflow>=2.0.0->talos) (0.4.6)\n",
            "Requirement already satisfied: pyasn1-modules>=0.2.1 in /usr/local/lib/python3.7/dist-packages (from google-auth<2,>=1.6.3->tensorboard~=2.6->tensorflow>=2.0.0->talos) (0.2.8)\n",
            "Requirement already satisfied: cachetools<5.0,>=2.0.0 in /usr/local/lib/python3.7/dist-packages (from google-auth<2,>=1.6.3->tensorboard~=2.6->tensorflow>=2.0.0->talos) (4.2.4)\n",
            "Requirement already satisfied: rsa<5,>=3.1.4 in /usr/local/lib/python3.7/dist-packages (from google-auth<2,>=1.6.3->tensorboard~=2.6->tensorflow>=2.0.0->talos) (4.7.2)\n",
            "Requirement already satisfied: requests-oauthlib>=0.7.0 in /usr/local/lib/python3.7/dist-packages (from google-auth-oauthlib<0.5,>=0.4.1->tensorboard~=2.6->tensorflow>=2.0.0->talos) (1.3.0)\n",
            "Requirement already satisfied: importlib-metadata in /usr/local/lib/python3.7/dist-packages (from markdown>=2.6.8->tensorboard~=2.6->tensorflow>=2.0.0->talos) (4.8.1)\n",
            "Requirement already satisfied: pyasn1<0.5.0,>=0.4.6 in /usr/local/lib/python3.7/dist-packages (from pyasn1-modules>=0.2.1->google-auth<2,>=1.6.3->tensorboard~=2.6->tensorflow>=2.0.0->talos) (0.4.8)\n",
            "Requirement already satisfied: chardet<4,>=3.0.2 in /usr/local/lib/python3.7/dist-packages (from requests->talos) (3.0.4)\n",
            "Requirement already satisfied: urllib3!=1.25.0,!=1.25.1,<1.26,>=1.21.1 in /usr/local/lib/python3.7/dist-packages (from requests->talos) (1.24.3)\n",
            "Requirement already satisfied: idna<3,>=2.5 in /usr/local/lib/python3.7/dist-packages (from requests->talos) (2.10)\n",
            "Requirement already satisfied: certifi>=2017.4.17 in /usr/local/lib/python3.7/dist-packages (from requests->talos) (2021.5.30)\n",
            "Requirement already satisfied: oauthlib>=3.0.0 in /usr/local/lib/python3.7/dist-packages (from requests-oauthlib>=0.7.0->google-auth-oauthlib<0.5,>=0.4.1->tensorboard~=2.6->tensorflow>=2.0.0->talos) (3.1.1)\n",
            "Requirement already satisfied: IPython in /usr/local/lib/python3.7/dist-packages (from astetik->talos) (5.5.0)\n",
            "Collecting geonamescache\n",
            "  Downloading geonamescache-1.2.0-py3-none-any.whl (2.6 MB)\n",
            "\u001b[K     |████████████████████████████████| 2.6 MB 20.9 MB/s \n",
            "\u001b[?25hRequirement already satisfied: seaborn in /usr/local/lib/python3.7/dist-packages (from astetik->talos) (0.11.2)\n",
            "Requirement already satisfied: zipp>=0.5 in /usr/local/lib/python3.7/dist-packages (from importlib-metadata->markdown>=2.6.8->tensorboard~=2.6->tensorflow>=2.0.0->talos) (3.6.0)\n",
            "Requirement already satisfied: pygments in /usr/local/lib/python3.7/dist-packages (from IPython->astetik->talos) (2.6.1)\n",
            "Requirement already satisfied: prompt-toolkit<2.0.0,>=1.0.4 in /usr/local/lib/python3.7/dist-packages (from IPython->astetik->talos) (1.0.18)\n",
            "Requirement already satisfied: decorator in /usr/local/lib/python3.7/dist-packages (from IPython->astetik->talos) (4.4.2)\n",
            "Requirement already satisfied: pexpect in /usr/local/lib/python3.7/dist-packages (from IPython->astetik->talos) (4.8.0)\n",
            "Requirement already satisfied: simplegeneric>0.8 in /usr/local/lib/python3.7/dist-packages (from IPython->astetik->talos) (0.8.1)\n",
            "Requirement already satisfied: pickleshare in /usr/local/lib/python3.7/dist-packages (from IPython->astetik->talos) (0.7.5)\n",
            "Requirement already satisfied: traitlets>=4.2 in /usr/local/lib/python3.7/dist-packages (from IPython->astetik->talos) (5.1.0)\n",
            "Requirement already satisfied: wcwidth in /usr/local/lib/python3.7/dist-packages (from prompt-toolkit<2.0.0,>=1.0.4->IPython->astetik->talos) (0.2.5)\n",
            "Requirement already satisfied: ptyprocess>=0.5 in /usr/local/lib/python3.7/dist-packages (from pexpect->IPython->astetik->talos) (0.7.0)\n",
            "Requirement already satisfied: matplotlib>=2.2 in /usr/local/lib/python3.7/dist-packages (from seaborn->astetik->talos) (3.2.2)\n",
            "Requirement already satisfied: kiwisolver>=1.0.1 in /usr/local/lib/python3.7/dist-packages (from matplotlib>=2.2->seaborn->astetik->talos) (1.3.2)\n",
            "Requirement already satisfied: cycler>=0.10 in /usr/local/lib/python3.7/dist-packages (from matplotlib>=2.2->seaborn->astetik->talos) (0.10.0)\n",
            "Requirement already satisfied: pyparsing!=2.0.4,!=2.1.2,!=2.1.6,>=2.0.1 in /usr/local/lib/python3.7/dist-packages (from matplotlib>=2.2->seaborn->astetik->talos) (2.4.7)\n",
            "Requirement already satisfied: scikit-learn in /usr/local/lib/python3.7/dist-packages (from sklearn->talos) (0.22.2.post1)\n",
            "Requirement already satisfied: joblib>=0.11 in /usr/local/lib/python3.7/dist-packages (from scikit-learn->sklearn->talos) (1.0.1)\n",
            "Building wheels for collected packages: chances, kerasplotlib\n",
            "  Building wheel for chances (setup.py) ... \u001b[?25l\u001b[?25hdone\n",
            "  Created wheel for chances: filename=chances-0.1.9-py3-none-any.whl size=41609 sha256=d55712658d95684a14243dcbabf179693cb26ec6b0159ed2693310360ae13481\n",
            "  Stored in directory: /root/.cache/pip/wheels/f3/2e/7e/316f7da11ccf2195ff05e4a0186a4b5975be9bd0b0004198b6\n",
            "  Building wheel for kerasplotlib (setup.py) ... \u001b[?25l\u001b[?25hdone\n",
            "  Created wheel for kerasplotlib: filename=kerasplotlib-0.1.6-py3-none-any.whl size=3603 sha256=b20b3475347649c1a11639150e376a32f33f56db72a558c3acaa2a52a64b71c8\n",
            "  Stored in directory: /root/.cache/pip/wheels/1c/b4/c8/d1533d85f7fc617e3201c3f41b79fe49ae9284c8fc4a5bd4b2\n",
            "Successfully built chances kerasplotlib\n",
            "Installing collected packages: statsmodels, wrangle, geonamescache, kerasplotlib, chances, astetik, talos\n",
            "  Attempting uninstall: statsmodels\n",
            "    Found existing installation: statsmodels 0.10.2\n",
            "    Uninstalling statsmodels-0.10.2:\n",
            "      Successfully uninstalled statsmodels-0.10.2\n",
            "Successfully installed astetik-1.11.1 chances-0.1.9 geonamescache-1.2.0 kerasplotlib-0.1.6 statsmodels-0.13.0 talos-1.0 wrangle-0.6.9\n"
          ]
        }
      ]
    },
    {
      "cell_type": "code",
      "metadata": {
        "colab": {
          "base_uri": "https://localhost:8080/"
        },
        "id": "wP6cVOXj5Rsd",
        "outputId": "2ac08330-c660-4d10-deaa-07ba5e221e0c"
      },
      "source": [
        "!pip install demoji"
      ],
      "execution_count": 2,
      "outputs": [
        {
          "output_type": "stream",
          "name": "stdout",
          "text": [
            "Collecting demoji\n",
            "  Downloading demoji-1.1.0-py3-none-any.whl (42 kB)\n",
            "\u001b[?25l\r\u001b[K     |███████▋                        | 10 kB 29.3 MB/s eta 0:00:01\r\u001b[K     |███████████████▎                | 20 kB 26.4 MB/s eta 0:00:01\r\u001b[K     |███████████████████████         | 30 kB 20.5 MB/s eta 0:00:01\r\u001b[K     |██████████████████████████████▋ | 40 kB 16.6 MB/s eta 0:00:01\r\u001b[K     |████████████████████████████████| 42 kB 1.1 MB/s \n",
            "\u001b[?25hInstalling collected packages: demoji\n",
            "Successfully installed demoji-1.1.0\n"
          ]
        }
      ]
    },
    {
      "cell_type": "code",
      "metadata": {
        "colab": {
          "base_uri": "https://localhost:8080/"
        },
        "id": "cQfrfb-95Vd_",
        "outputId": "86050719-1652-48e0-9777-f713b629ae40"
      },
      "source": [
        "!pip install googletrans==4.0.0rc1"
      ],
      "execution_count": 3,
      "outputs": [
        {
          "output_type": "stream",
          "name": "stdout",
          "text": [
            "Collecting googletrans==4.0.0rc1\n",
            "  Downloading googletrans-4.0.0rc1.tar.gz (20 kB)\n",
            "Collecting httpx==0.13.3\n",
            "  Downloading httpx-0.13.3-py3-none-any.whl (55 kB)\n",
            "\u001b[K     |████████████████████████████████| 55 kB 2.9 MB/s \n",
            "\u001b[?25hRequirement already satisfied: certifi in /usr/local/lib/python3.7/dist-packages (from httpx==0.13.3->googletrans==4.0.0rc1) (2021.5.30)\n",
            "Collecting hstspreload\n",
            "  Downloading hstspreload-2021.11.1-py3-none-any.whl (1.3 MB)\n",
            "\u001b[K     |████████████████████████████████| 1.3 MB 15.3 MB/s \n",
            "\u001b[?25hRequirement already satisfied: chardet==3.* in /usr/local/lib/python3.7/dist-packages (from httpx==0.13.3->googletrans==4.0.0rc1) (3.0.4)\n",
            "Collecting rfc3986<2,>=1.3\n",
            "  Downloading rfc3986-1.5.0-py2.py3-none-any.whl (31 kB)\n",
            "Collecting httpcore==0.9.*\n",
            "  Downloading httpcore-0.9.1-py3-none-any.whl (42 kB)\n",
            "\u001b[K     |████████████████████████████████| 42 kB 1.1 MB/s \n",
            "\u001b[?25hCollecting sniffio\n",
            "  Downloading sniffio-1.2.0-py3-none-any.whl (10 kB)\n",
            "Requirement already satisfied: idna==2.* in /usr/local/lib/python3.7/dist-packages (from httpx==0.13.3->googletrans==4.0.0rc1) (2.10)\n",
            "Collecting h11<0.10,>=0.8\n",
            "  Downloading h11-0.9.0-py2.py3-none-any.whl (53 kB)\n",
            "\u001b[K     |████████████████████████████████| 53 kB 1.8 MB/s \n",
            "\u001b[?25hCollecting h2==3.*\n",
            "  Downloading h2-3.2.0-py2.py3-none-any.whl (65 kB)\n",
            "\u001b[K     |████████████████████████████████| 65 kB 3.5 MB/s \n",
            "\u001b[?25hCollecting hyperframe<6,>=5.2.0\n",
            "  Downloading hyperframe-5.2.0-py2.py3-none-any.whl (12 kB)\n",
            "Collecting hpack<4,>=3.0\n",
            "  Downloading hpack-3.0.0-py2.py3-none-any.whl (38 kB)\n",
            "Building wheels for collected packages: googletrans\n",
            "  Building wheel for googletrans (setup.py) ... \u001b[?25l\u001b[?25hdone\n",
            "  Created wheel for googletrans: filename=googletrans-4.0.0rc1-py3-none-any.whl size=17415 sha256=d71dce6e3c7c57cc19c8a1b987832ee5becdf0bce0e66991b26b183132226303\n",
            "  Stored in directory: /root/.cache/pip/wheels/43/34/00/4fe71786ea6d12314b29037620c36d857e5d104ac2748bf82a\n",
            "Successfully built googletrans\n",
            "Installing collected packages: hyperframe, hpack, sniffio, h2, h11, rfc3986, httpcore, hstspreload, httpx, googletrans\n",
            "Successfully installed googletrans-4.0.0rc1 h11-0.9.0 h2-3.2.0 hpack-3.0.0 hstspreload-2021.11.1 httpcore-0.9.1 httpx-0.13.3 hyperframe-5.2.0 rfc3986-1.5.0 sniffio-1.2.0\n"
          ]
        }
      ]
    },
    {
      "cell_type": "markdown",
      "metadata": {
        "id": "9JKzqZBcvbJk"
      },
      "source": [
        "\n",
        "### 1.2 Imports"
      ]
    },
    {
      "cell_type": "code",
      "metadata": {
        "id": "iUp-pcgyvk7K"
      },
      "source": [
        "import csv\n",
        "import re\n",
        "from io import StringIO\n",
        "import requests\n",
        "import string\n",
        "from sklearn.model_selection import train_test_split\n",
        "import matplotlib.pyplot as plt  \n",
        "from keras.preprocessing.text import Tokenizer\n",
        "import numpy as np\n",
        "import pandas as pd\n",
        "from keras.models import Sequential\n",
        "import warnings\n",
        "from keras.layers import Embedding\n",
        "from keras.preprocessing.sequence import pad_sequences\n",
        "from sklearn.metrics import accuracy_score\n",
        "from keras.layers import Conv1D, GlobalMaxPooling1D\n",
        "from keras.layers import Dense\n",
        "from keras.layers import Dropout\n",
        "from keras.layers import Activation\n",
        "from keras import backend as K\n",
        "from keras.callbacks import EarlyStopping\n",
        "#from keras.utils import to_categorical\n",
        "from tensorflow.keras.utils import to_categorical\n",
        "import talos\n",
        "\n",
        "#import talos\n",
        "from sklearn.metrics import classification_report, confusion_matrix, accuracy_score\n",
        "\n",
        "warnings.filterwarnings('ignore')\n",
        "\n",
        "pd.set_option('display.max_rows', 100)\n",
        "pd.options.display.max_rows = 1000\n",
        "pd.options.display.max_columns = 1000\n",
        "\n",
        "from googletrans import Translator\n",
        "translator = Translator()\n",
        "\n",
        "import csv\n",
        "import re\n",
        "import numpy as np\n",
        "\n",
        "import pandas as pd\n",
        "pd.set_option('display.max_rows', 200)  \n",
        "pd.set_option('display.max_columns', 200)   \n",
        "pd.set_option('display.width', 4000)\n",
        "\n",
        "import torch\n",
        "\n",
        "from io import StringIO\n",
        "import requests\n",
        "import matplotlib.pyplot as plt\n",
        "\n",
        "import demoji\n",
        "\n",
        "from sklearn.utils import resample\n",
        "from sklearn.feature_extraction.text import TfidfVectorizer\n",
        "\n",
        "from sklearn.pipeline import Pipeline\n",
        "from sklearn.linear_model import SGDClassifier\n",
        "from sklearn.naive_bayes import MultinomialNB\n",
        "\n",
        "from sklearn.model_selection import GridSearchCV\n",
        "from sklearn.model_selection import train_test_split\n",
        "\n",
        "from sklearn.metrics import confusion_matrix\n",
        "from sklearn.metrics import classification_report\n",
        "from sklearn.metrics import accuracy_score"
      ],
      "execution_count": 139,
      "outputs": []
    },
    {
      "cell_type": "markdown",
      "metadata": {
        "id": "bKjgo1cEEQPw"
      },
      "source": [
        "### 1.2 Environment"
      ]
    },
    {
      "cell_type": "code",
      "metadata": {
        "colab": {
          "base_uri": "https://localhost:8080/"
        },
        "id": "j9Tszg7FdPrZ",
        "outputId": "9f8a14aa-74a1-417d-f1ef-552855fb9fb0"
      },
      "source": [
        "# Check if device supports CUDA interface\n",
        "CUDA = torch.cuda.is_available()\n",
        "# Make program run on gpu (cuda:0) if available\n",
        "device = torch.device('cuda:0' if torch.cuda.is_available() else 'cpu:0')\n",
        "torch.cuda.set_device(device)\n",
        "print('Using device:', device)"
      ],
      "execution_count": 5,
      "outputs": [
        {
          "output_type": "stream",
          "name": "stdout",
          "text": [
            "Using device: cuda:0\n"
          ]
        }
      ]
    },
    {
      "cell_type": "code",
      "metadata": {
        "colab": {
          "base_uri": "https://localhost:8080/"
        },
        "id": "v4ZgunZ9qSvu",
        "outputId": "2a977932-92fd-4e22-e6be-461df739188c"
      },
      "source": [
        "# Check and print information about available GPU\n",
        "gpu_info = !nvidia-smi\n",
        "gpu_info = '\\n'.join(gpu_info)\n",
        "if gpu_info.find('failed') >= 0:\n",
        "  print('Not connected to a GPU')\n",
        "else:\n",
        "  print(gpu_info)"
      ],
      "execution_count": 6,
      "outputs": [
        {
          "output_type": "stream",
          "name": "stdout",
          "text": [
            "Tue Nov  2 06:59:03 2021       \n",
            "+-----------------------------------------------------------------------------+\n",
            "| NVIDIA-SMI 495.29.05    Driver Version: 460.32.03    CUDA Version: 11.2     |\n",
            "|-------------------------------+----------------------+----------------------+\n",
            "| GPU  Name        Persistence-M| Bus-Id        Disp.A | Volatile Uncorr. ECC |\n",
            "| Fan  Temp  Perf  Pwr:Usage/Cap|         Memory-Usage | GPU-Util  Compute M. |\n",
            "|                               |                      |               MIG M. |\n",
            "|===============================+======================+======================|\n",
            "|   0  Tesla P100-PCIE...  Off  | 00000000:00:04.0 Off |                    0 |\n",
            "| N/A   42C    P0    28W / 250W |      2MiB / 16280MiB |      0%      Default |\n",
            "|                               |                      |                  N/A |\n",
            "+-------------------------------+----------------------+----------------------+\n",
            "                                                                               \n",
            "+-----------------------------------------------------------------------------+\n",
            "| Processes:                                                                  |\n",
            "|  GPU   GI   CI        PID   Type   Process name                  GPU Memory |\n",
            "|        ID   ID                                                   Usage      |\n",
            "|=============================================================================|\n",
            "|  No running processes found                                                 |\n",
            "+-----------------------------------------------------------------------------+\n"
          ]
        }
      ]
    },
    {
      "cell_type": "code",
      "metadata": {
        "colab": {
          "base_uri": "https://localhost:8080/"
        },
        "id": "keYYVJLbnpbD",
        "outputId": "ddbf4533-356f-45ea-ac51-841f9e1178a6"
      },
      "source": [
        "# Get GPU name\n",
        "!nvidia-smi -L"
      ],
      "execution_count": 7,
      "outputs": [
        {
          "output_type": "stream",
          "name": "stdout",
          "text": [
            "GPU 0: Tesla P100-PCIE-16GB (UUID: GPU-a388a977-dfb7-c9d3-4cec-d24429f7002c)\n"
          ]
        }
      ]
    },
    {
      "cell_type": "code",
      "metadata": {
        "colab": {
          "base_uri": "https://localhost:8080/"
        },
        "id": "eGFVru-nqX1n",
        "outputId": "5860d647-75d0-4054-bf5c-646d5e5e3b39"
      },
      "source": [
        "# Check Memory\n",
        "from psutil import virtual_memory\n",
        "ram_gb = virtual_memory().total / 1e9\n",
        "print('Your runtime has {:.1f} gigabytes of available RAM\\n'.format(ram_gb))\n",
        "\n",
        "if ram_gb < 20:\n",
        "  print('Not using a high-RAM runtime')\n",
        "else:\n",
        "  print('You are using a high-RAM runtime!')"
      ],
      "execution_count": 8,
      "outputs": [
        {
          "output_type": "stream",
          "name": "stdout",
          "text": [
            "Your runtime has 13.6 gigabytes of available RAM\n",
            "\n",
            "Not using a high-RAM runtime\n"
          ]
        }
      ]
    },
    {
      "cell_type": "markdown",
      "metadata": {
        "id": "RkIJ7QuNv_lt"
      },
      "source": [
        "### 1.4 Constants"
      ]
    },
    {
      "cell_type": "code",
      "metadata": {
        "id": "DYruJqdrsPOS"
      },
      "source": [
        "TARGET_COLUMN = 'label'\n",
        "TWEET_COLUMN = 'tweet'\n",
        "SAMPLE_THRESHOLD = 20\n",
        "MAX_SEQ_LEN = 80"
      ],
      "execution_count": 42,
      "outputs": []
    },
    {
      "cell_type": "markdown",
      "metadata": {
        "id": "DErvchvGwKwa"
      },
      "source": [
        "## 2. Data Acquisition"
      ]
    },
    {
      "cell_type": "code",
      "metadata": {
        "id": "kj4_cIgho3Qt"
      },
      "source": [
        "url_train = 'https://docs.google.com/spreadsheets/d/e/2PACX-1vTOZ2rC82rhNsJduoyKYTsVeH6ukd7Bpxvxn_afOibn3R-eadZGXu82eCU9IRpl4CK_gefEGsYrA_oM/pub?gid=1863430984&single=true&output=tsv'\n",
        "url_test = 'https://docs.google.com/spreadsheets/d/e/2PACX-1vT-KNR9nuYatLkSbzSRgpz6Ku1n4TN4w6kKmFLkA6QJHTfQzmX0puBsLF7PAAQJQAxUpgruDd_RRgK7/pub?gid=417546901&single=true&output=tsv'"
      ],
      "execution_count": 10,
      "outputs": []
    },
    {
      "cell_type": "code",
      "metadata": {
        "id": "bRMJtZczzfOl"
      },
      "source": [
        "def load_dataset(url):\n",
        "  r = requests.get(url)\n",
        "  data = r.content.decode('utf8')\n",
        "  df = pd.read_csv(StringIO(data), sep='\\t')\n",
        "  df.columns = ['tweet', 'label']\n",
        "  return df"
      ],
      "execution_count": 11,
      "outputs": []
    },
    {
      "cell_type": "code",
      "metadata": {
        "id": "BCLdrs43pJC1"
      },
      "source": [
        "df_train = load_dataset(url_train)\n",
        "df_test = load_dataset(url_test)"
      ],
      "execution_count": 12,
      "outputs": []
    },
    {
      "cell_type": "code",
      "metadata": {
        "id": "oHETxIlp1QC7"
      },
      "source": [
        "dataset = pd.concat([df_train, df_test], axis=0) # Merge into one dataset for the pre-processing"
      ],
      "execution_count": 13,
      "outputs": []
    },
    {
      "cell_type": "code",
      "metadata": {
        "colab": {
          "base_uri": "https://localhost:8080/"
        },
        "id": "L0r9fja-1Xn8",
        "outputId": "76c956c9-d1d1-41c1-a949-636f87aac534"
      },
      "source": [
        "print(\"The length of the combined dataset is {0} training samples + {1} test samples = {2} samples\".format(len(df_train), len(df_test), len(dataset)))"
      ],
      "execution_count": 14,
      "outputs": [
        {
          "output_type": "stream",
          "name": "stdout",
          "text": [
            "The length of the combined dataset is 52675 training samples + 13279 test samples = 65954 samples\n"
          ]
        }
      ]
    },
    {
      "cell_type": "code",
      "metadata": {
        "id": "vUvnhpzX1xAg"
      },
      "source": [
        "dataset = dataset.sample(frac=1).reset_index(drop=True) # Randomly shuffle the data"
      ],
      "execution_count": 15,
      "outputs": []
    },
    {
      "cell_type": "code",
      "metadata": {
        "colab": {
          "base_uri": "https://localhost:8080/",
          "height": 350
        },
        "id": "uywVxiRt1kDt",
        "outputId": "89607973-8de1-4342-b489-39140131e465"
      },
      "source": [
        "dataset.head(10) # Show some sample tweets"
      ],
      "execution_count": 16,
      "outputs": [
        {
          "output_type": "execute_result",
          "data": {
            "text/html": [
              "<div>\n",
              "<style scoped>\n",
              "    .dataframe tbody tr th:only-of-type {\n",
              "        vertical-align: middle;\n",
              "    }\n",
              "\n",
              "    .dataframe tbody tr th {\n",
              "        vertical-align: top;\n",
              "    }\n",
              "\n",
              "    .dataframe thead th {\n",
              "        text-align: right;\n",
              "    }\n",
              "</style>\n",
              "<table border=\"1\" class=\"dataframe\">\n",
              "  <thead>\n",
              "    <tr style=\"text-align: right;\">\n",
              "      <th></th>\n",
              "      <th>tweet</th>\n",
              "      <th>label</th>\n",
              "    </tr>\n",
              "  </thead>\n",
              "  <tbody>\n",
              "    <tr>\n",
              "      <th>0</th>\n",
              "      <td>@CLOI_A ㅋㅋㅋ</td>\n",
              "      <td>ko</td>\n",
              "    </tr>\n",
              "    <tr>\n",
              "      <th>1</th>\n",
              "      <td>Megaespecial Fairy Tail 3/150. Admin Sirene ht...</td>\n",
              "      <td>und</td>\n",
              "    </tr>\n",
              "    <tr>\n",
              "      <th>2</th>\n",
              "      <td>http://t.co/0EeyF6Hk1Z</td>\n",
              "      <td>und</td>\n",
              "    </tr>\n",
              "    <tr>\n",
              "      <th>3</th>\n",
              "      <td>RNS RT @Dame_Lillard: I always find myself wat...</td>\n",
              "      <td>en</td>\n",
              "    </tr>\n",
              "    <tr>\n",
              "      <th>4</th>\n",
              "      <td>¡He reunido 29,015 monedas de oro! ¿A ver quie...</td>\n",
              "      <td>es</td>\n",
              "    </tr>\n",
              "    <tr>\n",
              "      <th>5</th>\n",
              "      <td>ㅠㅠㅠㅠㅠㅠㅠㅠㅠㅠㅠㅠㅠㅠㅠㅠㅠㅠㅠㅠㅠㅠㅠㅠㅠㅠㅠㅠㅠㅠㅠㅠㅠㅠㅠㅠㅠㅠㅠㅠㅠㅠㅠㅠㅠㅠ...</td>\n",
              "      <td>ko</td>\n",
              "    </tr>\n",
              "    <tr>\n",
              "      <th>6</th>\n",
              "      <td>ไอ้สุกข้าสวยมั้ยเองรูปตัวเองขึ้นเลยนะ #투하트</td>\n",
              "      <td>th</td>\n",
              "    </tr>\n",
              "    <tr>\n",
              "      <th>7</th>\n",
              "      <td>Ngimpi koe tapi kok iseh seneng karo mantan, y...</td>\n",
              "      <td>id</td>\n",
              "    </tr>\n",
              "    <tr>\n",
              "      <th>8</th>\n",
              "      <td>http://t.co/eIwlijGogj Vertebrate Palaeontolog...</td>\n",
              "      <td>und</td>\n",
              "    </tr>\n",
              "    <tr>\n",
              "      <th>9</th>\n",
              "      <td>1 Shakifans x Ritabots #MTVHottest Rita Ora #M...</td>\n",
              "      <td>und</td>\n",
              "    </tr>\n",
              "  </tbody>\n",
              "</table>\n",
              "</div>"
            ],
            "text/plain": [
              "                                               tweet label\n",
              "0                                        @CLOI_A ㅋㅋㅋ    ko\n",
              "1  Megaespecial Fairy Tail 3/150. Admin Sirene ht...   und\n",
              "2                             http://t.co/0EeyF6Hk1Z   und\n",
              "3  RNS RT @Dame_Lillard: I always find myself wat...    en\n",
              "4  ¡He reunido 29,015 monedas de oro! ¿A ver quie...    es\n",
              "5  ㅠㅠㅠㅠㅠㅠㅠㅠㅠㅠㅠㅠㅠㅠㅠㅠㅠㅠㅠㅠㅠㅠㅠㅠㅠㅠㅠㅠㅠㅠㅠㅠㅠㅠㅠㅠㅠㅠㅠㅠㅠㅠㅠㅠㅠㅠ...    ko\n",
              "6         ไอ้สุกข้าสวยมั้ยเองรูปตัวเองขึ้นเลยนะ #투하트    th\n",
              "7  Ngimpi koe tapi kok iseh seneng karo mantan, y...    id\n",
              "8  http://t.co/eIwlijGogj Vertebrate Palaeontolog...   und\n",
              "9  1 Shakifans x Ritabots #MTVHottest Rita Ora #M...   und"
            ]
          },
          "metadata": {},
          "execution_count": 16
        }
      ]
    },
    {
      "cell_type": "markdown",
      "metadata": {
        "id": "7OZ3EaAQ6Ahq"
      },
      "source": [
        "## 3. Data Exploration"
      ]
    },
    {
      "cell_type": "code",
      "metadata": {
        "id": "heZh4YHxhhQA"
      },
      "source": [
        "def data_exploration(df):\n",
        "  n_labels = len(np.unique(df[\"label\"]))\n",
        "  df = df.sort_values('label')\n",
        "  print(\"Dataset contains the columns: {}\".format(list(df.keys())))\n",
        "  print(\"with a total of {} observations\".format(len(df)))\n",
        "  print(\"and {} different possible labels.\".format(n_labels))\n",
        "  print(\"The unique labels are {}\".format(df[\"label\"].unique()))\n",
        "  plt.figure(figsize=(15, 3))\n",
        "  plt.hist(df[\"label\"], bins=n_labels)\n",
        "  plt.xticks(rotation=90)\n",
        "  plt.yscale(\"log\")\n",
        "  plt.xlabel(\"Language\")\n",
        "  plt.ylabel(\"#Occurences\")\n",
        "  plt.show()"
      ],
      "execution_count": 17,
      "outputs": []
    },
    {
      "cell_type": "code",
      "metadata": {
        "id": "G4Z5fpaX76xr"
      },
      "source": [
        "# This function checks which lanugages occur in the full dataset less than 'SAMPLE_THRESHOLD' times.\n",
        "# These languages are then returned as the list of underrepresented languages\n",
        "def get_underrepresented_languages(df, target_column, sample_threshold):\n",
        "    df = df.groupby(target_column).size().to_frame().reset_index(drop=False).rename(columns={0: 'occurences'})\n",
        "    underrepresented_languages = list(df[df['occurences'] < SAMPLE_THRESHOLD][target_column])\n",
        "    return underrepresented_languages"
      ],
      "execution_count": 18,
      "outputs": []
    },
    {
      "cell_type": "code",
      "metadata": {
        "id": "Syyazhl683ZK"
      },
      "source": [
        "def print_number_of_underrepresented_languages(df, target_column, sample_threshold):\n",
        "  underrepresented_languages = get_underrepresented_languages(df, target_column, sample_threshold)\n",
        "  print(\"There are {} languages in this data set with less then {} samples.\".format(len(underrepresented_languages), sample_threshold))"
      ],
      "execution_count": 19,
      "outputs": []
    },
    {
      "cell_type": "code",
      "metadata": {
        "colab": {
          "base_uri": "https://localhost:8080/",
          "height": 418
        },
        "id": "IZtCEi7_hYQW",
        "outputId": "116cc4d5-ac64-4ba9-8ec3-397cd7a34392"
      },
      "source": [
        "data_exploration(dataset)"
      ],
      "execution_count": 20,
      "outputs": [
        {
          "output_type": "stream",
          "name": "stdout",
          "text": [
            "Dataset contains the columns: ['tweet', 'label']\n",
            "with a total of 65954 observations\n",
            "and 78 different possible labels.\n",
            "The unique labels are ['ar' 'ar_LATN' 'az' 'bg' 'bn' 'bs' 'ca' 'cs' 'cy' 'da' 'de' 'dv' 'el'\n",
            " 'en' 'es' 'et' 'eu' 'fa' 'fi' 'fr' 'gl' 'ha' 'he' 'hi' 'hi-Latn' 'hr'\n",
            " 'ht' 'hu' 'hy' 'id' 'is' 'it' 'ja' 'ja_LATN' 'jv' 'km' 'ko' 'ko_LATN'\n",
            " 'la' 'lv' 'mk' 'mn' 'mr' 'ms' 'ne' 'nl' 'no' 'pl' 'ps' 'ps_LATN' 'pt'\n",
            " 'ro' 'ru' 'si' 'sk' 'sl' 'sq' 'sr' 'su' 'sv' 'sw' 'ta' 'ta_LATN' 'th'\n",
            " 'tl' 'tn' 'tr' 'uk' 'und' 'ur' 'ur_LATN' 'vi' 'wo' 'xh' 'yo' 'zh-CN'\n",
            " 'zh-TW' 'zu']\n"
          ]
        },
        {
          "output_type": "display_data",
          "data": {
            "image/png": "[encoded data removed]",
            "text/plain": [
              "<Figure size 1080x216 with 1 Axes>"
            ]
          },
          "metadata": {
            "needs_background": "light"
          }
        }
      ]
    },
    {
      "cell_type": "code",
      "metadata": {
        "id": "DLPZXkaLCH3s",
        "colab": {
          "base_uri": "https://localhost:8080/"
        },
        "outputId": "3b9a847b-911e-4f11-8047-83f46be00787"
      },
      "source": [
        "print_number_of_underrepresented_languages(dataset, TARGET_COLUMN, SAMPLE_THRESHOLD)"
      ],
      "execution_count": 21,
      "outputs": [
        {
          "output_type": "stream",
          "name": "stdout",
          "text": [
            "There are 50 languages in this data set with less then 20 samples.\n"
          ]
        }
      ]
    },
    {
      "cell_type": "code",
      "metadata": {
        "id": "G1S1KOKWqy1E",
        "colab": {
          "base_uri": "https://localhost:8080/",
          "height": 1000
        },
        "outputId": "02420870-31d2-405b-9270-a535879b4c02"
      },
      "source": [
        "# Display all languages and their absolute number off occurences in descending order\n",
        "language_count=dataset[TARGET_COLUMN].value_counts().reset_index()\n",
        "language_count\n",
        "df = pd.DataFrame(language_count)\n",
        "df.columns = ['language', 'occurences']\n",
        "df"
      ],
      "execution_count": 22,
      "outputs": [
        {
          "output_type": "execute_result",
          "data": {
            "text/html": [
              "<div>\n",
              "<style scoped>\n",
              "    .dataframe tbody tr th:only-of-type {\n",
              "        vertical-align: middle;\n",
              "    }\n",
              "\n",
              "    .dataframe tbody tr th {\n",
              "        vertical-align: top;\n",
              "    }\n",
              "\n",
              "    .dataframe thead th {\n",
              "        text-align: right;\n",
              "    }\n",
              "</style>\n",
              "<table border=\"1\" class=\"dataframe\">\n",
              "  <thead>\n",
              "    <tr style=\"text-align: right;\">\n",
              "      <th></th>\n",
              "      <th>language</th>\n",
              "      <th>occurences</th>\n",
              "    </tr>\n",
              "  </thead>\n",
              "  <tbody>\n",
              "    <tr>\n",
              "      <th>0</th>\n",
              "      <td>en</td>\n",
              "      <td>23266</td>\n",
              "    </tr>\n",
              "    <tr>\n",
              "      <th>1</th>\n",
              "      <td>ja</td>\n",
              "      <td>12899</td>\n",
              "    </tr>\n",
              "    <tr>\n",
              "      <th>2</th>\n",
              "      <td>es</td>\n",
              "      <td>7406</td>\n",
              "    </tr>\n",
              "    <tr>\n",
              "      <th>3</th>\n",
              "      <td>und</td>\n",
              "      <td>5766</td>\n",
              "    </tr>\n",
              "    <tr>\n",
              "      <th>4</th>\n",
              "      <td>id</td>\n",
              "      <td>3823</td>\n",
              "    </tr>\n",
              "    <tr>\n",
              "      <th>5</th>\n",
              "      <td>pt</td>\n",
              "      <td>3577</td>\n",
              "    </tr>\n",
              "    <tr>\n",
              "      <th>6</th>\n",
              "      <td>ar</td>\n",
              "      <td>2728</td>\n",
              "    </tr>\n",
              "    <tr>\n",
              "      <th>7</th>\n",
              "      <td>ru</td>\n",
              "      <td>1221</td>\n",
              "    </tr>\n",
              "    <tr>\n",
              "      <th>8</th>\n",
              "      <td>fr</td>\n",
              "      <td>1170</td>\n",
              "    </tr>\n",
              "    <tr>\n",
              "      <th>9</th>\n",
              "      <td>tr</td>\n",
              "      <td>843</td>\n",
              "    </tr>\n",
              "    <tr>\n",
              "      <th>10</th>\n",
              "      <td>ko</td>\n",
              "      <td>568</td>\n",
              "    </tr>\n",
              "    <tr>\n",
              "      <th>11</th>\n",
              "      <td>th</td>\n",
              "      <td>560</td>\n",
              "    </tr>\n",
              "    <tr>\n",
              "      <th>12</th>\n",
              "      <td>it</td>\n",
              "      <td>415</td>\n",
              "    </tr>\n",
              "    <tr>\n",
              "      <th>13</th>\n",
              "      <td>tl</td>\n",
              "      <td>409</td>\n",
              "    </tr>\n",
              "    <tr>\n",
              "      <th>14</th>\n",
              "      <td>nl</td>\n",
              "      <td>225</td>\n",
              "    </tr>\n",
              "    <tr>\n",
              "      <th>15</th>\n",
              "      <td>de</td>\n",
              "      <td>221</td>\n",
              "    </tr>\n",
              "    <tr>\n",
              "      <th>16</th>\n",
              "      <td>ms</td>\n",
              "      <td>150</td>\n",
              "    </tr>\n",
              "    <tr>\n",
              "      <th>17</th>\n",
              "      <td>pl</td>\n",
              "      <td>119</td>\n",
              "    </tr>\n",
              "    <tr>\n",
              "      <th>18</th>\n",
              "      <td>sv</td>\n",
              "      <td>69</td>\n",
              "    </tr>\n",
              "    <tr>\n",
              "      <th>19</th>\n",
              "      <td>he</td>\n",
              "      <td>41</td>\n",
              "    </tr>\n",
              "    <tr>\n",
              "      <th>20</th>\n",
              "      <td>el</td>\n",
              "      <td>39</td>\n",
              "    </tr>\n",
              "    <tr>\n",
              "      <th>21</th>\n",
              "      <td>sr</td>\n",
              "      <td>29</td>\n",
              "    </tr>\n",
              "    <tr>\n",
              "      <th>22</th>\n",
              "      <td>zh-CN</td>\n",
              "      <td>26</td>\n",
              "    </tr>\n",
              "    <tr>\n",
              "      <th>23</th>\n",
              "      <td>ca</td>\n",
              "      <td>25</td>\n",
              "    </tr>\n",
              "    <tr>\n",
              "      <th>24</th>\n",
              "      <td>fa</td>\n",
              "      <td>23</td>\n",
              "    </tr>\n",
              "    <tr>\n",
              "      <th>25</th>\n",
              "      <td>fi</td>\n",
              "      <td>23</td>\n",
              "    </tr>\n",
              "    <tr>\n",
              "      <th>26</th>\n",
              "      <td>vi</td>\n",
              "      <td>21</td>\n",
              "    </tr>\n",
              "    <tr>\n",
              "      <th>27</th>\n",
              "      <td>hi</td>\n",
              "      <td>20</td>\n",
              "    </tr>\n",
              "    <tr>\n",
              "      <th>28</th>\n",
              "      <td>hi-Latn</td>\n",
              "      <td>19</td>\n",
              "    </tr>\n",
              "    <tr>\n",
              "      <th>29</th>\n",
              "      <td>uk</td>\n",
              "      <td>18</td>\n",
              "    </tr>\n",
              "    <tr>\n",
              "      <th>30</th>\n",
              "      <td>hu</td>\n",
              "      <td>15</td>\n",
              "    </tr>\n",
              "    <tr>\n",
              "      <th>31</th>\n",
              "      <td>ar_LATN</td>\n",
              "      <td>15</td>\n",
              "    </tr>\n",
              "    <tr>\n",
              "      <th>32</th>\n",
              "      <td>ro</td>\n",
              "      <td>14</td>\n",
              "    </tr>\n",
              "    <tr>\n",
              "      <th>33</th>\n",
              "      <td>zh-TW</td>\n",
              "      <td>14</td>\n",
              "    </tr>\n",
              "    <tr>\n",
              "      <th>34</th>\n",
              "      <td>ur_LATN</td>\n",
              "      <td>13</td>\n",
              "    </tr>\n",
              "    <tr>\n",
              "      <th>35</th>\n",
              "      <td>ur</td>\n",
              "      <td>12</td>\n",
              "    </tr>\n",
              "    <tr>\n",
              "      <th>36</th>\n",
              "      <td>ta</td>\n",
              "      <td>12</td>\n",
              "    </tr>\n",
              "    <tr>\n",
              "      <th>37</th>\n",
              "      <td>no</td>\n",
              "      <td>12</td>\n",
              "    </tr>\n",
              "    <tr>\n",
              "      <th>38</th>\n",
              "      <td>jv</td>\n",
              "      <td>11</td>\n",
              "    </tr>\n",
              "    <tr>\n",
              "      <th>39</th>\n",
              "      <td>su</td>\n",
              "      <td>10</td>\n",
              "    </tr>\n",
              "    <tr>\n",
              "      <th>40</th>\n",
              "      <td>sq</td>\n",
              "      <td>9</td>\n",
              "    </tr>\n",
              "    <tr>\n",
              "      <th>41</th>\n",
              "      <td>sw</td>\n",
              "      <td>8</td>\n",
              "    </tr>\n",
              "    <tr>\n",
              "      <th>42</th>\n",
              "      <td>da</td>\n",
              "      <td>8</td>\n",
              "    </tr>\n",
              "    <tr>\n",
              "      <th>43</th>\n",
              "      <td>bn</td>\n",
              "      <td>8</td>\n",
              "    </tr>\n",
              "    <tr>\n",
              "      <th>44</th>\n",
              "      <td>hr</td>\n",
              "      <td>6</td>\n",
              "    </tr>\n",
              "    <tr>\n",
              "      <th>45</th>\n",
              "      <td>bs</td>\n",
              "      <td>5</td>\n",
              "    </tr>\n",
              "    <tr>\n",
              "      <th>46</th>\n",
              "      <td>lv</td>\n",
              "      <td>5</td>\n",
              "    </tr>\n",
              "    <tr>\n",
              "      <th>47</th>\n",
              "      <td>cs</td>\n",
              "      <td>5</td>\n",
              "    </tr>\n",
              "    <tr>\n",
              "      <th>48</th>\n",
              "      <td>ne</td>\n",
              "      <td>5</td>\n",
              "    </tr>\n",
              "    <tr>\n",
              "      <th>49</th>\n",
              "      <td>bg</td>\n",
              "      <td>4</td>\n",
              "    </tr>\n",
              "    <tr>\n",
              "      <th>50</th>\n",
              "      <td>az</td>\n",
              "      <td>3</td>\n",
              "    </tr>\n",
              "    <tr>\n",
              "      <th>51</th>\n",
              "      <td>km</td>\n",
              "      <td>3</td>\n",
              "    </tr>\n",
              "    <tr>\n",
              "      <th>52</th>\n",
              "      <td>ht</td>\n",
              "      <td>3</td>\n",
              "    </tr>\n",
              "    <tr>\n",
              "      <th>53</th>\n",
              "      <td>gl</td>\n",
              "      <td>3</td>\n",
              "    </tr>\n",
              "    <tr>\n",
              "      <th>54</th>\n",
              "      <td>ja_LATN</td>\n",
              "      <td>2</td>\n",
              "    </tr>\n",
              "    <tr>\n",
              "      <th>55</th>\n",
              "      <td>hy</td>\n",
              "      <td>2</td>\n",
              "    </tr>\n",
              "    <tr>\n",
              "      <th>56</th>\n",
              "      <td>ta_LATN</td>\n",
              "      <td>2</td>\n",
              "    </tr>\n",
              "    <tr>\n",
              "      <th>57</th>\n",
              "      <td>ko_LATN</td>\n",
              "      <td>2</td>\n",
              "    </tr>\n",
              "    <tr>\n",
              "      <th>58</th>\n",
              "      <td>et</td>\n",
              "      <td>2</td>\n",
              "    </tr>\n",
              "    <tr>\n",
              "      <th>59</th>\n",
              "      <td>eu</td>\n",
              "      <td>2</td>\n",
              "    </tr>\n",
              "    <tr>\n",
              "      <th>60</th>\n",
              "      <td>sl</td>\n",
              "      <td>2</td>\n",
              "    </tr>\n",
              "    <tr>\n",
              "      <th>61</th>\n",
              "      <td>xh</td>\n",
              "      <td>2</td>\n",
              "    </tr>\n",
              "    <tr>\n",
              "      <th>62</th>\n",
              "      <td>wo</td>\n",
              "      <td>1</td>\n",
              "    </tr>\n",
              "    <tr>\n",
              "      <th>63</th>\n",
              "      <td>ps_LATN</td>\n",
              "      <td>1</td>\n",
              "    </tr>\n",
              "    <tr>\n",
              "      <th>64</th>\n",
              "      <td>zu</td>\n",
              "      <td>1</td>\n",
              "    </tr>\n",
              "    <tr>\n",
              "      <th>65</th>\n",
              "      <td>mn</td>\n",
              "      <td>1</td>\n",
              "    </tr>\n",
              "    <tr>\n",
              "      <th>66</th>\n",
              "      <td>la</td>\n",
              "      <td>1</td>\n",
              "    </tr>\n",
              "    <tr>\n",
              "      <th>67</th>\n",
              "      <td>ps</td>\n",
              "      <td>1</td>\n",
              "    </tr>\n",
              "    <tr>\n",
              "      <th>68</th>\n",
              "      <td>dv</td>\n",
              "      <td>1</td>\n",
              "    </tr>\n",
              "    <tr>\n",
              "      <th>69</th>\n",
              "      <td>mk</td>\n",
              "      <td>1</td>\n",
              "    </tr>\n",
              "    <tr>\n",
              "      <th>70</th>\n",
              "      <td>ha</td>\n",
              "      <td>1</td>\n",
              "    </tr>\n",
              "    <tr>\n",
              "      <th>71</th>\n",
              "      <td>is</td>\n",
              "      <td>1</td>\n",
              "    </tr>\n",
              "    <tr>\n",
              "      <th>72</th>\n",
              "      <td>yo</td>\n",
              "      <td>1</td>\n",
              "    </tr>\n",
              "    <tr>\n",
              "      <th>73</th>\n",
              "      <td>mr</td>\n",
              "      <td>1</td>\n",
              "    </tr>\n",
              "    <tr>\n",
              "      <th>74</th>\n",
              "      <td>si</td>\n",
              "      <td>1</td>\n",
              "    </tr>\n",
              "    <tr>\n",
              "      <th>75</th>\n",
              "      <td>cy</td>\n",
              "      <td>1</td>\n",
              "    </tr>\n",
              "    <tr>\n",
              "      <th>76</th>\n",
              "      <td>sk</td>\n",
              "      <td>1</td>\n",
              "    </tr>\n",
              "    <tr>\n",
              "      <th>77</th>\n",
              "      <td>tn</td>\n",
              "      <td>1</td>\n",
              "    </tr>\n",
              "  </tbody>\n",
              "</table>\n",
              "</div>"
            ],
            "text/plain": [
              "   language  occurences\n",
              "0        en       23266\n",
              "1        ja       12899\n",
              "2        es        7406\n",
              "3       und        5766\n",
              "4        id        3823\n",
              "5        pt        3577\n",
              "6        ar        2728\n",
              "7        ru        1221\n",
              "8        fr        1170\n",
              "9        tr         843\n",
              "10       ko         568\n",
              "11       th         560\n",
              "12       it         415\n",
              "13       tl         409\n",
              "14       nl         225\n",
              "15       de         221\n",
              "16       ms         150\n",
              "17       pl         119\n",
              "18       sv          69\n",
              "19       he          41\n",
              "20       el          39\n",
              "21       sr          29\n",
              "22    zh-CN          26\n",
              "23       ca          25\n",
              "24       fa          23\n",
              "25       fi          23\n",
              "26       vi          21\n",
              "27       hi          20\n",
              "28  hi-Latn          19\n",
              "29       uk          18\n",
              "30       hu          15\n",
              "31  ar_LATN          15\n",
              "32       ro          14\n",
              "33    zh-TW          14\n",
              "34  ur_LATN          13\n",
              "35       ur          12\n",
              "36       ta          12\n",
              "37       no          12\n",
              "38       jv          11\n",
              "39       su          10\n",
              "40       sq           9\n",
              "41       sw           8\n",
              "42       da           8\n",
              "43       bn           8\n",
              "44       hr           6\n",
              "45       bs           5\n",
              "46       lv           5\n",
              "47       cs           5\n",
              "48       ne           5\n",
              "49       bg           4\n",
              "50       az           3\n",
              "51       km           3\n",
              "52       ht           3\n",
              "53       gl           3\n",
              "54  ja_LATN           2\n",
              "55       hy           2\n",
              "56  ta_LATN           2\n",
              "57  ko_LATN           2\n",
              "58       et           2\n",
              "59       eu           2\n",
              "60       sl           2\n",
              "61       xh           2\n",
              "62       wo           1\n",
              "63  ps_LATN           1\n",
              "64       zu           1\n",
              "65       mn           1\n",
              "66       la           1\n",
              "67       ps           1\n",
              "68       dv           1\n",
              "69       mk           1\n",
              "70       ha           1\n",
              "71       is           1\n",
              "72       yo           1\n",
              "73       mr           1\n",
              "74       si           1\n",
              "75       cy           1\n",
              "76       sk           1\n",
              "77       tn           1"
            ]
          },
          "metadata": {},
          "execution_count": 22
        }
      ]
    },
    {
      "cell_type": "markdown",
      "metadata": {
        "id": "IYLOL2_B5OrT"
      },
      "source": [
        "## 4. Text Cleaning"
      ]
    },
    {
      "cell_type": "markdown",
      "metadata": {
        "id": "np67DQkz5JEm"
      },
      "source": [
        "This is generally a good idea as many text classification tools rely on counting the occurrences of words. If both upper and lower case versions of the same word are found in the text then the algorithm will count them as different words even though the meaning is the same. Of course this does mean that where the capitalised versions of a word exists, that does have a different meaning. For example the company Apple vs the fruit apple. This could result in poorer performance for some data sets. This is one area of NLP where you may try different methods to see how they affect the overall performance of the model. We decided to transform our corpus into lowercase, since the case wont have\n",
        "a big influence on the language classification performance"
      ]
    },
    {
      "cell_type": "code",
      "metadata": {
        "id": "vsh1XvSsAwYL"
      },
      "source": [
        "def remove_all_emojis(text):\n",
        "  dem = demoji.findall(text)\n",
        "  for item in dem.keys():\n",
        "    text = text.replace(item, '')\n",
        "  return text"
      ],
      "execution_count": 23,
      "outputs": []
    },
    {
      "cell_type": "code",
      "metadata": {
        "id": "kQfxTUB36n4C"
      },
      "source": [
        "def clean_data(df, column):\n",
        "    df = df.copy(deep=True) # Make deep copy of tweets\n",
        "    df[column] = df[column].str.lower() # Transform into all lowercase\n",
        "    \n",
        "    patterns = []\n",
        "    retweet_pattern = '^RT'\n",
        "    patterns.append(retweet_pattern)\n",
        "    xml_pattern = '&\\S+;'\n",
        "    patterns.append(xml_pattern)\n",
        "    hashtag_pattern = '#[A-Za-z0-9_]+'\n",
        "    patterns.append(hashtag_pattern)\n",
        "    twitter_mention_pattern = '@[A-Za-z0-9_]+'\n",
        "    patterns.append(twitter_mention_pattern)\n",
        "    http_pattern = 'http\\S+'\n",
        "    patterns.append(http_pattern)\n",
        "    www_pattern = 'www\\S+'\n",
        "    patterns.append(www_pattern)\n",
        "    tab_pattern = '\\t'\n",
        "    patterns.append(tab_pattern)\n",
        "    punctuation_pattern = '[!\"#$%&\\\\()*+,-./:;<=>?@\\[\\]^_`\\'{}~]+'\n",
        "    patterns.append(punctuation_pattern)\n",
        "    numeric_pattern = '[0-9]+'\n",
        "    patterns.append(numeric_pattern)\n",
        "    regex = \"|\".join(patterns)\n",
        "\n",
        "    #df[column] = df[column].apply(lambda elem: re.sub(r\"(@[A-Za-z0-9]+)|([^0-9A-Za-z \\t])|(\\w+:\\/\\/\\S+)|^rt|http.+?\", \"\", elem)) \n",
        "    df[column] = df[column].apply(lambda elem: re.sub(r\"{}\".format(regex), \"\", elem))\n",
        "    df[column] = df[column].apply(remove_all_emojis)\n",
        "    \n",
        "    return df"
      ],
      "execution_count": 24,
      "outputs": []
    },
    {
      "cell_type": "code",
      "metadata": {
        "id": "JtIoEEyK8Dxx",
        "colab": {
          "base_uri": "https://localhost:8080/"
        },
        "outputId": "7a4e6392-7643-484e-c0cb-537991733286"
      },
      "source": [
        "# Now we want to find out which special characters need to be removed from tweets in order to make the prediction better.\n",
        "# We go over the printed list an not down the symbold which are not needed for language identification.\n",
        "# These will be removed in a later step.\n",
        "languages = list(np.unique(dataset[TARGET_COLUMN]))\n",
        "for language in languages:\n",
        "  localized_tweets = dataset[dataset[TARGET_COLUMN] == language]\n",
        "  # Clean and compare them\n",
        "  cleaned_localized_tweets = clean_data(localized_tweets, TWEET_COLUMN)\n",
        "  comparison_view = pd.concat([localized_tweets.drop([TARGET_COLUMN], axis=1), cleaned_localized_tweets], axis=1)\n",
        "  print(comparison_view.head(5))\n",
        "  #print(localized_tweets.head(5))\n",
        "  print(\"---\")\n",
        "\n",
        "# Symbols like @<mention>, #, http://link !, numeric values (e.g 16000), \" do not help for language identification."
      ],
      "execution_count": 25,
      "outputs": [
        {
          "output_type": "stream",
          "name": "stdout",
          "text": [
            "                                                 tweet                                              tweet label\n",
            "14   {كمثل الشيطان إذ قال للإنسان اكفر فلما كفر قال...  كمثل الشيطان إذ قال للإنسان اكفر فلما كفر قال ...    ar\n",
            "23                          وصدقني الدنيا دي متسواش.!!                            وصدقني الدنيا دي متسواش    ar\n",
            "46   @Neeef17  ياحررررام وقفوه هههههههههههههههههههه...    ياحررررام وقفوه هههههههههههههههههههههههههههه...    ar\n",
            "113  يا حي يا قيوم برحمتك أستغيث أصلح لي شأني كُله ...  يا حي يا قيوم برحمتك أستغيث أصلح لي شأني كُله ...    ar\n",
            "115  ذكر الله يرضي الرحمن ويسعد الإنسان ويذهب الأحز...  ذكر الله يرضي الرحمن ويسعد الإنسان ويذهب الأحز...    ar\n",
            "---\n",
            "                                                   tweet                                              tweet    label\n",
            "2827                           Wdi aktb shi bs mafeh shi                          wdi aktb shi bs mafeh shi  ar_LATN\n",
            "10873           @g56_ 7abeeebbbbbie enty ghalaaayyyy 😩❤️                     abeeebbbbbie enty ghalaaayyyy   ar_LATN\n",
            "18239  @mohamedsanhooty enta msh 3amel diet w h5es w ...   enta msh amel diet w hes w bta pizza eh ya walad  ar_LATN\n",
            "19898                               ya allah ya allah x)                                ya allah ya allah x  ar_LATN\n",
            "22923          @Sousou_Officiel wach hkayatha hadi Lucia                           wach hkayatha hadi lucia  ar_LATN\n",
            "---\n",
            "                                                   tweet                                              tweet label\n",
            "22371                @Akhundsoylu səsküyləri basır aləmi                             səsküyləri basır aləmi    az\n",
            "24018  Gözləmək səbrin imtahanıdır.Sevinc qapısının a...  gözləmək səbrin imtahanıdırsevinc qapısının aç...    az\n",
            "50114               özümü atılmış biri kimi hiss edirəm.                özümü atılmış biri kimi hiss edirəm    az\n",
            "---\n",
            "                                                   tweet                                              tweet label\n",
            "11615  Ботас може да стане изключителен пилот, смята ...  ботас може да стане изключителен пилот смята с...    bg\n",
            "13134  Най-добре се смее ,който се смее последен --дн...  найдобре се смее който се смее последен днес м...    bg\n",
            "21926  Публикувах нова снимка във Facebook. http://t....               публикувах нова снимка във facebook     bg\n",
            "35253  РЕГИСТРАЦИЯ на ФИРМА за 1 ден на ЕООД-ООД-100л...  регистрация на фирма за  ден на еоодоодлв етлв...    bg\n",
            "---\n",
            "                                                   tweet                                              tweet label\n",
            "5468   @66OV99: @taslimanasreen @AMITGKAMIT গ্লোবাল !...     গ্লোবাল  তাপস বাবুর ক্ষেত্রে শুধু গ্লো টা ব...    bn\n",
            "17610  5 মিনিটে বানিয়ে নিতে পার 100-200 বন্ধু । এর জ...   মিনিটে বানিয়ে নিতে পার  বন্ধু । এর জন্য প্রথ...    bn\n",
            "21929  ঢাকা-টাঙ্গাইল মহাসড়কে যান চলাচল শুরু:  http://...              ঢাকাটাঙ্গাইল মহাসড়কে যান চলাচল শুরু      bn\n",
            "24783  সাতখুনের মামলার তদন্ত করবে সিআইডি: নারায়ণগঞ্জে...  সাতখুনের মামলার তদন্ত করবে সিআইডি নারায়ণগঞ্জে ...    bn\n",
            "37385  আবারো রাসুল (স)কে কাফিরদের অপবাদের মেশিন 'আয়েশ...  আবারো রাসুল সকে কাফিরদের অপবাদের মেশিন আয়েশা ও...    bn\n",
            "---\n",
            "                                                   tweet                                              tweet label\n",
            "1910       Paparaci u akciji No 2 http://t.co/StoaBA6V87                             paparaci u akciji no      bs\n",
            "24492  Subotić oslobodjen optužbi za šverc cigareta- ...      subotić oslobodjen optužbi za šverc cigareta     bs\n",
            "49381  Italijanski novinar Vanoli(70) upozorava: VAKC...  italijanski novinar vanoli upozorava vakcinama...    bs\n",
            "53294              @samobakrac u septembru ulaze u vlast                          u septembru ulaze u vlast    bs\n",
            "58140  Najbolji 💟💟 blue angels berlin http://t.co/4wF...                      najbolji  blue angels berlin     bs\n",
            "---\n",
            "                                                  tweet                                              tweet label\n",
            "1765  No en tinc ni idea Teresa @llobetilla, esperem...  no en tinc ni idea teresa  esperem que respong...    ca\n",
            "1951  @elisendapineda tard de què? Em queden cinquan...   tard de què em queden cinquanta i pico anys d...    ca\n",
            "2961  Presentació Convocatòria per al món del Teatre...  presentació convocatòria per al món del teatre...    ca\n",
            "5388  @josefajram @8aldia i llàstima no poder vore-h...    i llàstima no poder voreho al país valencià ...    ca\n",
            "7337                 @Sergi9fcb sí, és bastant miracle.                              sí és bastant miracle    ca\n",
            "---\n",
            "                                                   tweet                                              tweet label\n",
            "3027            né, na oranžový foursquare si nezvyknu 😒             né na oranžový foursquare si nezvyknu     cs\n",
            "20512  Sestra nevěsty má dle maminky důležitou úlohu....  sestra nevěsty má dle maminky důležitou úlohu ...    cs\n",
            "26066  #ojeu #notice 33115100 €521k Český Krumlov:CT ...     €k český krumlovct skener dodávka ct skener...    cs\n",
            "27087  Mechanical Moth - Winternachtstraum texty a př...  mechanical moth  winternachtstraum texty a pře...    cs\n",
            "28199  Na Novotného lávce jsou k vidění Smetanovy kre...  na novotného lávce jsou k vidění smetanovy kre...    cs\n",
            "---\n",
            "                                                   tweet                                              tweet label\n",
            "33246  @AngharadV @jonesf09 @rhi_pri_bbc Dod adra'n w...     dod adran waglaw o fiwmares heb sgidia  oed...    cy\n",
            "---\n",
            "                                                   tweet                                              tweet label\n",
            "1250   Dagen bød på en 650kr City car park oplevelse....  dagen bød på en kr city car park oplevelse  je...    da\n",
            "4606                            @UnibetNorge 2-1 til arg                                            til arg    da\n",
            "5919   @mpbdavidsen Jeg har nydt hvert et minut. Men ...   jeg har nydt hvert et minut men jeg føler ikk...    da\n",
            "22483         @jesperdahl @kaarelbk det er jo helt vildt                               det er jo helt vildt    da\n",
            "32339  BB (Les) - Comme Un Loup sangtekster og oversæ...  bb les  comme un loup sangtekster og oversætte...    da\n",
            "---\n",
            "                                                 tweet                                              tweet label\n",
            "341                     @kittaeycore was labert die da                                  was labert die da    de\n",
            "376                  @Marek_Miller Gott war mit ihnen.                                 gott war mit ihnen    de\n",
            "562  @Ruegenwalder das haben sie jetzt nicht verrat...                das haben sie jetzt nicht verraten     de\n",
            "700  @kichernde_kate Aber meine 3 Brusthaare und de...   aber meine  brusthaare und den bart darf ich ...    de\n",
            "745  Ich habe 560 Nahrungseinheiten geerntet! http:...           ich habe  nahrungseinheiten geerntet        de\n",
            "---\n",
            "                                                   tweet                                              tweet label\n",
            "31966  @FrzRml ish pelik ngat aih. Bleh dok buat logh...   ish pelik ngat aih bleh dok buat loghat kedah...    dv\n",
            "---\n",
            "                                                   tweet                                              tweet label\n",
            "1705         @1wraiapetalouda σπασ τα μαρη να γουστας...                            σπασ τα μαρη να γουστας    el\n",
            "2488   Οκ εχει κίνηση φιλε οδηγέ μην το εκλαμβάνεις σ...  οκ εχει κίνηση φιλε οδηγέ μην το εκλαμβάνεις σ...    el\n",
            "5056   ΣΚΟΤΩΘΗΚΕ ΣΤΟ ΛΙΒΑΝΟ ΣΟΥΗΔΟΛΙΒΑΝΕΖΟΣ ΙΣΛΑΜΙΣΤΗ...  σκοτωθηκε στο λιβανο σουηδολιβανεζος ισλαμιστη...    el\n",
            "5147   [ Ταχύπλοο τραυμάτισε ψαροντουφεκά ] Διαβάστε ...   ταχύπλοο τραυμάτισε ψαροντουφεκά  διαβάστε πε...    el\n",
            "10331  Πάλι ληστεία στα ΕΛΤΑ!!! Επι τέλους κλείστε τα...  πάλι ληστεία στα ελτα επι τέλους κλείστε τα εί...    el\n",
            "---\n",
            "                                                tweet                                              tweet label\n",
            "3   RNS RT @Dame_Lillard: I always find myself wat...  rns rt  i always find myself watching b roy hi...    en\n",
            "12  “@JustReIatabIe: You'd never cheat if you were...            “ youd never cheat if you were in love     en\n",
            "15        At this point love me, or leave me alone...            at this point love me or leave me alone    en\n",
            "18  Sometake take a photo of a Canadian lobster......  sometake take a photo of a canadian lobster pl...    en\n",
            "20                               @LayupOnHoes_ on God                                             on god    en\n",
            "---\n",
            "                                                tweet                                              tweet label\n",
            "4   ¡He reunido 29,015 monedas de oro! ¿A ver quie...  ¡he reunido  monedas de oro ¿a ver quien es ca...    es\n",
            "11  Todo el mundo mira en el espejo, no les gusta ...  todo el mundo mira en el espejo no les gusta s...    es\n",
            "17                                 yo quiero esa taza                                 yo quiero esa taza    es\n",
            "22  Oye, tengo la casa sola. Uy qué miedo, enciend...  oye tengo la casa sola uy qué miedo enciende t...    es\n",
            "35  Desde aquí felicitar a un buen amigo y gran af...  desde aquí felicitar a un buen amigo y gran af...    es\n",
            "---\n",
            "                                                   tweet                                              tweet label\n",
            "31233                           @jinrriyaa maapin talle😣                                       maapin talle    et\n",
            "50817  Divina Enema - The Holy Holt teksti ja tõlke l...  divina enema  the holy holt teksti ja tõlke laul     et\n",
            "---\n",
            "                                                   tweet                                              tweet label\n",
            "6978   Bilbon gaur arratsaldean #PalestinaAskatu ! ht...                        bilbon gaur arratsaldean       eu\n",
            "19188  #Gasteiz  330 jardueratik gora Andre Maria Zur...     jardueratik gora andre maria zuriaren jaiet...    eu\n",
            "---\n",
            "                                                   tweet                                              tweet label\n",
            "1742   من كلن از ابتدايه خلقت سرد درد بودم بعد كم كم ...  من كلن از ابتدايه خلقت سرد درد بودم بعد كم كم ...    fa\n",
            "5497                           @shavoor تلاش خودت رو بکن                                   تلاش خودت رو بکن    fa\n",
            "7826   عاقا من در جریان نبودم مثل اینکه تتلو گفته خود...  عاقا من در جریان نبودم مثل اینکه تتلو گفته خود...    fa\n",
            "7962   @H02Man روش های بهتری رو فکر کنم انتخاب میکنن:)))              روش های بهتری رو فکر کنم انتخاب میکنن    fa\n",
            "11013  @VahidStar من جز ریتوئیت کردن کاری از دستم واق...   من جز ریتوئیت کردن کاری از دستم واقعا اینجا ب...    fa\n",
            "---\n",
            "                                                   tweet                                              tweet label\n",
            "9464   Vai että politiikka ja urheilu pitäisi erottaa...  vai että politiikka ja urheilu pitäisi erottaa...    fi\n",
            "9766   @TeemuNiikko akkuporakone + vessaharja toimii ...              akkuporakone  vessaharja toimii myös     fi\n",
            "10700  @veetikallio Vanhin lapsistani, tytär, sanoo o...   vanhin lapsistani tytär sanoo olevansa perhee...    fi\n",
            "14087  Kehittyminen edellyttää suunnitelmallista muut...  kehittyminen edellyttää suunnitelmallista muut...    fi\n",
            "15708  Opetushallinnon tutkinto suoritettu! Opiskelus...  opetushallinnon tutkinto suoritettu opiskelust...    fi\n",
            "---\n",
            "                                                 tweet                                              tweet label\n",
            "26   Salut il est 21:25 je meurs de faim depuis 18:...  salut il est  je meurs de faim depuis  mais ya...    fr\n",
            "55                  Jmange et jnehess directos rapidos                 jmange et jnehess directos rapidos    fr\n",
            "101  @souka_the_best @souka_official Bonne fin de s...                              bonne fin de soirée      fr\n",
            "349  Hier à la Coudraie, les forces de l'ordre sont...  hier à la coudraie les forces de lordre sont v...    fr\n",
            "373  Enfin je suis fatiguée, bonne nuit à moi et me...  enfin je suis fatiguée bonne nuit à moi et mes...    fr\n",
            "---\n",
            "                                                   tweet                                              tweet label\n",
            "19806  Despois dun gran finde na semana negra de gijó...  despois dun gran finde na semana negra de gijó...    gl\n",
            "44533  PP e PSOE din que o anuncio de Vega sobre as f...  pp e psoe din que o anuncio de vega sobre as f...    gl\n",
            "47537                Pero dende cando son eu rubia? -.-\"                     pero dende cando son eu rubia     gl\n",
            "---\n",
            "                            tweet       tweet label\n",
            "41859  @Abubakar_nasko munafiki 😂   munafiki     ha\n",
            "---\n",
            "                                                   tweet                                              tweet label\n",
            "5520   @Geva_T אוזיל בימים ומולר באמצע יביאו את היתרו...   אוזיל בימים ומולר באמצע יביאו את היתרון זה וצ...    he\n",
            "6077                              נוהל פלייליסט של הלילה                             נוהל פלייליסט של הלילה    he\n",
            "6704          @chanar_12 שבוע טוב. הצלחת להגיע לתל אביב?                      שבוע טוב הצלחת להגיע לתל אביב    he\n",
            "12775  @LDJ_France @Tsahal_IDF @JuifIsrael @Tsipora77...                           shabbat shalom umevorakh    he\n",
            "13842  הוספתי סרטון לפלייליסט @YouTube http://t.co/HU...     הוספתי סרטון לפלייליסט   heat ost   condensers    he\n",
            "---\n",
            "                                                   tweet                                              tweet label\n",
            "1294                     @BahutKrantikari जय भवानी...भाई                                        जय भवानीभाई    hi\n",
            "2498   बिन बेटी ये मन बेकल है, बेटी है तो ही कल है,  ...  बिन बेटी ये मन बेकल है बेटी है तो ही कल है  रफ...    hi\n",
            "12891  भोपाल-राज्यसभा सांसद अनिल दवे दिल्ली रवाना,एयर...  भोपालराज्यसभा सांसद अनिल दवे दिल्ली रवानाएयर इ...    hi\n",
            "13691  #ipad #ios #iphone संसद में मुखर हुई गंगा की आ...       संसद में मुखर हुई गंगा की आवाज  nai dunia       hi\n",
            "20710  वैदिक प्रताप को दाऊद इब्राहीम से भी मुलाकात  क...  वैदिक प्रताप को दाऊद इब्राहीम से भी मुलाकात  क...    hi\n",
            "---\n",
            "                                                   tweet                                              tweet    label\n",
            "3274   Shera: Bhai Shahrukh Ne Aapke Liye Eidi Bheji ...  shera bhai shahrukh ne aapke liye eidi bheji h...  hi-Latn\n",
            "6872                                        Maa ki aankh                                       maa ki aankh  hi-Latn\n",
            "10023  @Nilesh_Shah usse mil lijiye.. aapko b pta hai...   usse mil lijiye aapko b pta hai kiski baat kr...  hi-Latn\n",
            "13819  Koi Barra Kam Sirf Woh Shakhs Kr Skta Hy Jo Ap...  koi barra kam sirf woh shakhs kr skta hy jo ap...  hi-Latn\n",
            "16007  @supaaaahman han bs otho ee a... aya tu kdi 20...                     han bs otho ee a aya tu kdi r   hi-Latn\n",
            "---\n",
            "                                                   tweet                                              tweet label\n",
            "8154   majka kaze da kad bih pojela vola ne bi mi se ...  majka kaze da kad bih pojela vola ne bi mi se ...    hr\n",
            "30615       Aa izgrickala sam sve nokte do zivca,umireem        aa izgrickala sam sve nokte do zivcaumireem    hr\n",
            "34139                   O, zasto smo sada toliko daleko?                     o zasto smo sada toliko daleko    hr\n",
            "41071                               Misli mi se o krašu+                                misli mi se o krašu    hr\n",
            "58201                   @mlccs1 kuku znam tog lika .....                                kuku znam tog lika     hr\n",
            "---\n",
            "                                                   tweet                                              tweet label\n",
            "17330  Gwo vant pa alamod Ekri ou rele 37201033 mande...  gwo vant pa alamod ekri ou rele  mande pwodwi ...    ht\n",
            "31732  A kisa bregard sanble smh lmaoo djakout #1 lan...  a kisa bregard sanble smh lmaoo djakout  lan m...    ht\n",
            "46747  Jan majorite moun ap viv Ayiti a RT @RomeroBou...  jan majorite moun ap viv ayiti a rt  kijan mou...    ht\n",
            "---\n",
            "                                                   tweet                                              tweet label\n",
            "857    IT CSOPORTVEZETŐ (HF 9-6501) http://t.co/U9ASo...                              it csoportvezető hf      hu\n",
            "9373               meeer nem toltottem fel a telom :((((                   meeer nem toltottem fel a telom     hu\n",
            "18134  Overheard: Kiskorodban azért alszol plussel h ...  overheard kiskorodban azért alszol plussel h m...    hu\n",
            "22836  @_monana @plushbird én biztos kimentem volna é...    én biztos kimentem volna és visszakértem vol...    hu\n",
            "30263               megint visítok a kutyafasza paprikán               megint visítok a kutyafasza paprikán    hu\n",
            "---\n",
            "                                                   tweet                                              tweet label\n",
            "20822  Ֆալկաոն «Ռեալում» կարող է կրել Բենզեմայի 9 համ...  ֆալկաոն «ռեալում» կարող է կրել բենզեմայի  համա...    hy\n",
            "20825  ԱԼԼԱ ԼԵՎՈՆՅԱՆԸ ՄԵՆԱՀԱՄԵՐԳԻ Է ՊԱՏՐԱՍՏՎՈՒՄ http:...          ալլա լեվոնյանը մենահամերգի է պատրաստվում     hy\n",
            "---\n",
            "                                                 tweet                                              tweet label\n",
            "7    Ngimpi koe tapi kok iseh seneng karo mantan, y...  ngimpi koe tapi kok iseh seneng karo mantan ya...    id\n",
            "51      @owlcity senpai itu kakak, kakak Adam ​\\(´▽`)/                   senpai itu kakak kakak adam ​\\´▽    id\n",
            "91   Jerman Berharap Dukungan Suporter Brasil di Fi...  jerman berharap dukungan suporter brasil di fi...    id\n",
            "99                ngertiin ganti itu yang susah\" (2/2)                     ngertiin ganti itu yang susah     id\n",
            "142               @valizayossa yaudah ntar gua emailin                            yaudah ntar gua emailin    id\n",
            "---\n",
            "                                                   tweet                                   tweet label\n",
            "60169  Dunga nýr landsliðsþjálfari Brasilíu http://t....  dunga nýr landsliðsþjálfari brasilíu      is\n",
            "---\n",
            "                                                  tweet                                              tweet label\n",
            "67              @hateallthings è bellissimo allora. :')                               è bellissimo allora     it\n",
            "274   La felicità è perseguibile per tutti. Essa, la...  la felicità è perseguibile per tutti essa la s...    it\n",
            "655   @Dan_Maze sarebbe un colpo al cuore di immani ...    sarebbe un colpo al cuore di immani proporzioni    it\n",
            "1349  Rolex Datejust Lady 31 178274: Rolex - Datejus...  rolex datejust lady   rolex  datejust lady   c...    it\n",
            "1435  @ladyonorato @ricpuglisi No. Non lo sappiamo a...    no non lo sappiamo affatto dovremmo attribui...    it\n",
            "---\n",
            "                                                tweet                                          tweet label\n",
            "10                   @GyuHwon203 도산대로323 映画館 ぐるり見渡して〜                              도산대로 映画館 ぐるり見渡して〜    ja\n",
            "19                       ＊「○○○と競馬どっちが大事なの？」　ポリデント「ナス」                   ＊「○○○と競馬どっちが大事なの？」　ポリデント「ナス」    ja\n",
            "24                                   @ori_0127 ふふ…そう？                                         ふふ…そう？    ja\n",
            "29  「すいません、 ちょっとモフモフしてイイですか？」  「やったーー！(人´∀｀)」  バフっ...  「すいません、 ちょっとモフモフしてイイですか？」  「やったーー！人´∀｀」  バフっ     ja\n",
            "30   [Fリーグ]浜松が保田監督の休養を発表（ゲキサカ） http://t.co/yFANeVeWFy                       fリーグ浜松が保田監督の休養を発表（ゲキサカ）     ja\n",
            "---\n",
            "                                                   tweet                                              tweet    label\n",
            "15414  http://t.co/Ym4v14YvtE #Description kara-komik...    karakomikku yakinbyotou ni furuedisyonn opez...  ja_LATN\n",
            "52720                              @JID_nana yoroshiku:)                                          yoroshiku  ja_LATN\n",
            "---\n",
            "                                                   tweet                                              tweet label\n",
            "3676         lek kadung gak mood langsung wegah lapo2 :3           lek kadung gak mood langsung wegah lapo     jv\n",
            "5655                    Nobar sik ro konco-konco suwi :D                     nobar sik ro koncokonco suwi d    jv\n",
            "12406  @menarafmbali CemonkWyapeksa dinuskam slm buat...   cemonkwyapeksa dinuskam slm buat yogaalc jube...    jv\n",
            "15099  mato ki sik ndi? piro regane neng kno? RT @ahe...  mato ki sik ndi piro regane neng kno rt   cera...    jv\n",
            "24924  #KataSaldyMariMemaafkan @KataSaldy NamaAkunFac...                              namaakunfacebookkamu     jv\n",
            "---\n",
            "                                                   tweet                                              tweet label\n",
            "591    ញាំថ្នាំផ្តាសសាយខ្លាំពេកឡើងគេញលែងចង់ចង់ក្រោកហើ...    ញាំថ្នាំផ្តាសសាយខ្លាំពេកឡើងគេញលែងចង់ចង់ក្រោកហើយ    km\n",
            "14409                                   សា្វគមន៍ថ្ងៃថ្មី                                   សា្វគមន៍ថ្ងៃថ្មី    km\n",
            "18904  ស្ពានអាកាសស្ទឹងមានជ័យចាប់ដំណើរការពីថ្ងៃព្រហស្ប...  ស្ពានអាកាសស្ទឹងមានជ័យចាប់ដំណើរការពីថ្ងៃព្រហស្ប...    km\n",
            "---\n",
            "                                                 tweet                                              tweet label\n",
            "0                                          @CLOI_A ㅋㅋㅋ                                                ㅋㅋㅋ    ko\n",
            "5    ㅠㅠㅠㅠㅠㅠㅠㅠㅠㅠㅠㅠㅠㅠㅠㅠㅠㅠㅠㅠㅠㅠㅠㅠㅠㅠㅠㅠㅠㅠㅠㅠㅠㅠㅠㅠㅠㅠㅠㅠㅠㅠㅠㅠㅠㅠ...  ㅠㅠㅠㅠㅠㅠㅠㅠㅠㅠㅠㅠㅠㅠㅠㅠㅠㅠㅠㅠㅠㅠㅠㅠㅠㅠㅠㅠㅠㅠㅠㅠㅠㅠㅠㅠㅠㅠㅠㅠㅠㅠㅠㅠㅠㅠ...    ko\n",
            "318  #iPhone에서 Tribez and Castlez의 ‘무콜레의 마을’ 퀘스트가 완...  에서 tribez and castlez의 ‘무콜레의 마을’ 퀘스트가 완료되었어요  ...    ko\n",
            "476      하..........난 아무래도 합작을 하지 않으면 죽는 병에 걸렸나보다.....                     하난 아무래도 합작을 하지 않으면 죽는 병에 걸렸나보다    ko\n",
            "621  @luckynow_lif ㅇㅇ....... 걔가 뫄뫄 좋아해서 비판하는 거 아니고 ...   ㅇㅇ 걔가 뫄뫄 좋아해서 비판하는 거 아니고 여캐라서 비판하는 거 아닌데ㅠㅠ  솔...    ko\n",
            "---\n",
            "                      tweet     tweet    label\n",
            "6277   @SL_kyuraw gomawoo:)   gomawoo  ko_LATN\n",
            "24372  @BangSujin_IRP heol.      heol  ko_LATN\n",
            "---\n",
            "                                                   tweet                                    tweet label\n",
            "10207  @CutTheKnotMath @washingtonpost ceterum censeo...    ceterum censeo israelem delendam esse    la\n",
            "---\n",
            "                                                tweet                            tweet label\n",
            "1863                        @BiglittleJuarez TU TU TU                         tu tu tu    lv\n",
            "9098                        @10eleksa *profesionālāks                   profesionālāks    lv\n",
            "38122  @CapitalS19XX tas dziedaataajs no āģīša ? :DDD   tas dziedaataajs no āģīša  ddd    lv\n",
            "50421                                       PUTO CELU                        puto celu    lv\n",
            "62755                            @LuisaLion Wuhuuu :D                         wuhuuu d    lv\n",
            "---\n",
            "                                                   tweet                                              tweet label\n",
            "21555  ФОТО:Познатиот фудбалер ги поздрави своите фан...  фотопознатиот фудбалер ги поздрави своите фано...    mk\n",
            "---\n",
            "                                        tweet                     tweet label\n",
            "55152  @buyantogtokhl    ерөөсөө хадгаладаггү      ерөөсөө хадгаладаггү    mn\n",
            "---\n",
            "                                                   tweet                                              tweet label\n",
            "55201  राणे वेटिंगवर-मुंबई-महाराष्ट्र-Maharashtra Tim...  राणे वेटिंगवरमुंबईमहाराष्ट्रmaharashtra times ...    mr\n",
            "---\n",
            "                                                  tweet                                              tweet label\n",
            "132   Sed fugit interea,fugit irreparabile tempus, s...  sed fugit intereafugit irreparabile tempus sin...    ms\n",
            "1020  @nohfee haha, kau kena cari la sape laki yg ku...   haha kau kena cari la sape laki yg kurus tapi...    ms\n",
            "1348  Lantak ah malas dah n penat dah nak amik kesah...  lantak ah malas dah n penat dah nak amik kesah...    ms\n",
            "2303  @michelora cuba la bah sedih sikit ,mana tw la...   cuba la bah sedih sikit mana tw la kaannnn ha...    ms\n",
            "2602  Hanya si pengecut sahaja yang berani tindas or...  hanya si pengecut sahaja yang berani tindas or...    ms\n",
            "---\n",
            "                                                   tweet                                              tweet label\n",
            "726    अन्तट पढ्नलाई काठमान्डु छिर्याहरु पढाई सक्केपछ...  अन्तट पढ्नलाई काठमान्डु छिर्याहरु पढाई सक्केपछ...    ne\n",
            "6365    शुन्दरता बिकाउ होला तर टिकाउ हुदैन मेरि प्यारी ।   शुन्दरता बिकाउ होला तर टिकाउ हुदैन मेरि प्यारी ।    ne\n",
            "17798        @Sabdachittra हेरेका थियौ कहिले नौटंकी ? :)                         हेरेका थियौ कहिले नौटंकी      ne\n",
            "49902                  @evergreen_atoll तेस्तै देखियो !!                                     तेस्तै देखियो     ne\n",
            "62420            @Shikaruketo अफिसम कार्जेक्रम थियो । :)                           अफिसम कार्जेक्रम थियो ।     ne\n",
            "---\n",
            "                                                  tweet                                              tweet label\n",
            "128   sorry alvast voor vandaag iedereen, maar ik be...  sorry alvast voor vandaag iedereen maar ik ben...    nl\n",
            "1322  Lahm zet per direct punt achter interlandcarri...  lahm zet per direct punt achter interlandcarri...    nl\n",
            "1451                              Mooi voort klassement                              mooi voort klassement    nl\n",
            "1753  Evenwichtig in disbalans' #voetenlezen! http:/...                         evenwichtig in disbalans      nl\n",
            "1755  Braal: toezicht op WSW moet beter. Achtervang ...  braal toezicht op wsw moet beter achtervang ri...    nl\n",
            "---\n",
            "                                                   tweet                                              tweet label\n",
            "595    @OpkvitneEaters Fifas disciplinary code er skr...   fifas disciplinary code er skrevet slik at ma...    no\n",
            "3751   AUF vil la deler av kafébygget på Utøya bestå ...  auf vil la deler av kafébygget på utøya bestå ...    no\n",
            "5854   Nytt pris: E85: 8,88 B95: 14,25 Diesel: 14,02 ...                        nytt pris e  b  diesel         no\n",
            "27786  @wolflove27 @Torill_Talgo @Torill_Talgo Han hø...     han hørte putindoktrinen uttalt for  år sid...    no\n",
            "30915  Jeg likte en @YouTube-video fra @aa9skillz – h...  jeg likte en video fra  –  fifa  career mode w...    no\n",
            "---\n",
            "                                                  tweet                                              tweet label\n",
            "679                              @GG_HTiff wecie nuna:v                                        wecie nunav    pl\n",
            "1336  @swagjb13 @BelieveAha @justinbieber ojjjjjjjjj...         ojjjjjjjjjj złe jest na mnie kochanie złe     pl\n",
            "1644  @hazz17black daleko :( milicz,ale mieszkam w g...   daleko  miliczale mieszkam w gorzowie wielkop...    pl\n",
            "2030  @uapsiabiduba  #Polska - tu wszystko jest możl...                         tu wszystko jest możliwe d    pl\n",
            "4290               @neymarzest patrycjo, usz śpisz? xxx                             patrycjo usz śpisz xxx    pl\n",
            "---\n",
            "                                                   tweet                                              tweet label\n",
            "59712  By @KhanBehroz  پښتو ويل پښتو کول پښتو پالل دي...  by   پښتو ويل پښتو کول پښتو پالل دي پکې يو تمد...    ps\n",
            "---\n",
            "                                                   tweet                                              tweet    label\n",
            "50464  Khyber Pakhtunkhwa Hukumat Ka Shumali Wazirist...  khyber pakhtunkhwa hukumat ka shumali wazirist...  ps_LATN\n",
            "---\n",
            "                                                 tweet                                              tweet label\n",
            "13   Yovanna  é muito piranha para  o Justin '-' JE...  yovanna  é muito piranha para  o justin  jelen...    pt\n",
            "34             Só assim pra esquentar con esse frio rs            só assim pra esquentar con esse frio rs    pt\n",
            "53                            odeio a júlia 🐸🐗🐮🐴🐑🐌🐙🐳🐲🐉                                     odeio a júlia     pt\n",
            "84   @starsactive nossa com certeza não, escrever m...   nossa com certeza não escrever muuuito melhor...    pt\n",
            "152  em nome do pai em nome do filho em nome do esp...  em nome do pai em nome do filho em nome do esp...    pt\n",
            "---\n",
            "                                                   tweet                                              tweet label\n",
            "3914   #Horizon2020 este cel mai amplu program de cer...   este cel mai amplu program de cercetare al ue...    ro\n",
            "12029                                       Rachetaa 🎶🎵🎤                                          rachetaa     ro\n",
            "13147  REZULTATE BACALAUREAT 2014. VEZI notele din ju...  rezultate bacalaureat  vezi notele din județul...    ro\n",
            "16365  Tracy Morgan, victimă a unui accident rutier c...  tracy morgan victimă a unui accident rutier ca...    ro\n",
            "20734  Daca va rog eu tare tare tare tare mult sa sim...  daca va rog eu tare tare tare tare mult sa sim...    ro\n",
            "---\n",
            "                                                 tweet                                              tweet label\n",
            "16   и хоть мне больно,но я так тебя люблю. и просы...  и хоть мне больноно я так тебя люблю и просыпа...    ru\n",
            "39   Как говорят индийские психоаналитики, вы хотит...  как говорят индийские психоаналитики вы хотите...    ru\n",
            "65   - Я буду бороться за тебя, я тебя никому не от...   я буду бороться за тебя я тебя никому не отда...    ru\n",
            "122  #автозапчасти Установка кронштейнов силового а...  автозапчасти установка кронштейнов силового аг...    ru\n",
            "135  У меня есть 5 Свитков! Сможете собрать больше?...  у меня есть  свитков сможете собрать больше ск...    ru\n",
            "---\n",
            "                                                   tweet                                              tweet label\n",
            "62095  රුවන් මලිත් පීරිස්- කළණ ගුණසේකර නාට්‍ය නිර්මාණ...  රුවන් මලිත් පීරිස් කළණ ගුණසේකර නාට්‍ය නිර්මාණ ...    si\n",
            "---\n",
            "                                                   tweet                                              tweet label\n",
            "53605  Kam sa „vytratil“ obávaný útočník Richard Zedn...  kam sa „vytratil“ obávaný útočník richard zedník     sk\n",
            "---\n",
            "                                                   tweet                                              tweet label\n",
            "3619   Škoda, da Jožefa Jerovška ne bo več v parlamen...  škoda da jožefa jerovška ne bo več v parlament...    sl\n",
            "45714  @mastenMMC  Sluzbice so prevec dragocene da bi...    sluzbice so prevec dragocene da bi se cemurk...    sl\n",
            "---\n",
            "                                                   tweet                                              tweet label\n",
            "508    Opinioni serb vazhdon të ndjehet i habitur me ...  opinioni serb vazhdon të ndjehet i habitur me ...    sq\n",
            "3836   FIAT 500L 1.6 Multijet 105 CV Trekking  17.900...  fiat l  multijet  cv trekking  € tatimi i zbri...    sq\n",
            "7687   O Allah vetem ty të adhurojme vetem prej Teje ...  o allah vetem ty të adhurojme vetem prej teje ...    sq\n",
            "14794  Pas një pauze, shfaqen sërish me deklaratë. E ...  pas një pauze shfaqen sërish me deklaratë e as...    sq\n",
            "21477  Sot ti sje me ketu dhe qielli seshte me blu. D...  sot ti sje me ketu dhe qielli seshte me blu di...    sq\n",
            "---\n",
            "                                                   tweet                                              tweet label\n",
            "1448                             Prekini da mi se drkaš.                             prekini da mi se drkaš    sr\n",
            "1887   mene mrzi da živim kad je ovakvo vreme, jel mi...  mene mrzi da živim kad je ovakvo vreme jel mi ...    sr\n",
            "4207   Gwen Stefani - 4 In The Morning: http://t.co/9...  gwen stefani   in the morning  via  yauvek ću ...    sr\n",
            "13941  @SlobaGeorgiev to pitanje bi izgleda trebalo p...   to pitanje bi izgleda trebalo postavitirecimo...    sr\n",
            "15478            a boli uvo svajcarsku, puni su k'o brod              a boli uvo svajcarsku puni su ko brod    sr\n",
            "---\n",
            "                                                   tweet                                              tweet label\n",
            "6182   eweuh hape uey pi kadieu we langgsung ? make c...  eweuh hape uey pi kadieu we langgsung  make co...    su\n",
            "10757                   jagad adem irung buNTet #soroCox                           jagad adem irung buntet     su\n",
            "20566  @plara_nenk bagusss bisi d tarik eta pentaris ...   bagusss bisi d tarik eta pentaris tweeter the...    su\n",
            "24037  Indit we sakirana teu boga rasa, tong mancing ...  indit we sakirana teu boga rasa tong mancing k...    su\n",
            "29720  @aprianigina manjang oge jng s fikri=)) hayu a...            manjang oge jng s fikri hayu ath irahaa    su\n",
            "---\n",
            "                                                  tweet                                              tweet label\n",
            "1829  Man kan ju ändå känna lite tacksamhet över att...  man kan ju ändå känna lite tacksamhet över att...    sv\n",
            "1897  @eogra @Superklinga Kolla skägget. http://t.co...                                     kolla skägget     sv\n",
            "2877  ✨😂😍🙋😩😂💞🙋@FelixSandman @oscarenestad @OmarRudbe...          snälla följ mitt andra konto  jag ber er     sv\n",
            "8487                   @TJAGOWAE men asso snälla Baseba                             men asso snälla baseba    sv\n",
            "8815       Åh va härligt om 5 månader är det #Julafton🎅                  åh va härligt om  månader är det     sv\n",
            "---\n",
            "                                                   tweet                                              tweet label\n",
            "4617   Liverpool yamsajili Markovic kwa £20m kuziba p...  liverpool yamsajili markovic kwa £m kuziba pengo     sw\n",
            "4939   HATIMAYE MWISHO WA DUNIA UMEKARIBIA..!! FREEMA...  hatimaye mwisho wa dunia umekaribia freemason ...    sw\n",
            "15441                         @stevengitz nilipoteza cmu                                     nilipoteza cmu    sw\n",
            "17898  @Malloy_Bryan we usifikirie ati nawakutaka...p...                  we usifikirie ati nawakutakapuuuh    sw\n",
            "28218  LMFAOO RT \"@Limo_alan: \"@Emahnue: Ziko wapi iz...  lmfaoo rt limoalan emahnue ziko wapi izo scree...    sw\n",
            "---\n",
            "                                                   tweet                                              tweet label\n",
            "270    பார்வையற்ற குழந்தைகளை அடித்துத் துன்புறுத்திய ...  பார்வையற்ற குழந்தைகளை அடித்துத் துன்புறுத்திய ...    ta\n",
            "11027  @BharathiBigB: மின்வெட்டு வேறு,மின் தடை வேறு-ம...   மின்வெட்டு வேறுமின் தடை வேறுமின்துறை அமைச்சர்...    ta\n",
            "12622                         அஞ்சான் பாடல்கள் கிடைச்சதா                         அஞ்சான் பாடல்கள் கிடைச்சதா    ta\n",
            "15819  காலை பேப்பர் வந்தாச்சி....!!! படித்துவிட்டு  வ...      காலை பேப்பர் வந்தாச்சி படித்துவிட்டு  வருவோம்    ta\n",
            "26826  @VidhyaraniV சரி அக்கா முதல் வாழ்த்து நான் தான...   சரி அக்கா முதல் வாழ்த்து நான் தான் happy birt...    ta\n",
            "---\n",
            "                                                   tweet                              tweet    label\n",
            "18856                           @bunbaby1 Vanakkam fakeu                     vanakkam fakeu  ta_LATN\n",
            "20522  @Monish_P hy enaku evanga kitta pesanum 😈  @Im...   hy enaku evanga kitta pesanum     ta_LATN\n",
            "---\n",
            "                                                 tweet                                           tweet label\n",
            "6           ไอ้สุกข้าสวยมั้ยเองรูปตัวเองขึ้นเลยนะ #투하트       ไอ้สุกข้าสวยมั้ยเองรูปตัวเองขึ้นเลยนะ 투하트    th\n",
            "100  @a_intoxicated ให้เรียกคุณข้าวปั้นก็ได้นะคะถ้า...   ให้เรียกคุณข้าวปั้นก็ได้นะคะถ้าไม่ชอบบ  สั่ลล    th\n",
            "111                 ช่วงจะสอบงานเยอะมากกกกก ไม่ไหวๆ :(                ช่วงจะสอบงานเยอะมากกกกก ไม่ไหวๆ     th\n",
            "136                                             รู้สึก                                          รู้สึก    th\n",
            "265                             โง้ยย น้องยูคตบมือแปะๆ                          โง้ยย น้องยูคตบมือแปะๆ    th\n",
            "---\n",
            "                                                 tweet                                              tweet label\n",
            "61                               Sakit ng paa ko. Huhu                               sakit ng paa ko huhu    tl\n",
            "74                                 Ang gara ni Darlene                                ang gara ni darlene    tl\n",
            "174  Ganito yun pag walang magawa sa bahay xDD waha...  ganito yun pag walang magawa sa bahay xdd waha...    tl\n",
            "217                     @imtheaaa saan pa kayo pumunta                               saan pa kayo pumunta    tl\n",
            "447       @aipooot HINDI noh. landi neto. HAHAHAHAHA!!                    hindi noh landi neto hahahahaha    tl\n",
            "---\n",
            "                                             tweet                              tweet label\n",
            "49039  @ItzPhumEe wa bona Phumi wa tlhaloganya lol   wa bona phumi wa tlhaloganya lol    tn\n",
            "---\n",
            "                                                 tweet                                              tweet label\n",
            "57                Aklım almıyor ama kalbime sığıyor. .                 aklım almıyor ama kalbime sığıyor     tr\n",
            "116   Bence yakıştı :) sizcee ? http://t.co/yKwmQaIsJa                            bence yakıştı  sizcee      tr\n",
            "147  @egelitr1919: @0zgEce  &gt;&gt; YolsuzluğunHır...          yolsuzluğunhırsızlığınlideri rterdoğan       tr\n",
            "184  bunlar babadan oğula nesil heralde ya şimdide ...  bunlar babadan oğula nesil heralde ya şimdide ...    tr\n",
            "375                Yayladan gel kömür gözlüm yayladan.                 yayladan gel kömür gözlüm yayladan    tr\n",
            "---\n",
            "                                                  tweet                                              tweet label\n",
            "1655  Близько 15:00 з Донецького залізничного вокзал...  близько  з донецького залізничного вокзалу ева...    uk\n",
            "2983  Міліціонери Хмельниччини здали кров для поране...  міліціонери хмельниччини здали кров для поране...    uk\n",
            "3658  Українці записали нову версію пісні \"Священная...  українці записали нову версію пісні священная ...    uk\n",
            "5404         @itsector ще мама не сказала своє слово:-)                      ще мама не сказала своє слово    uk\n",
            "8966  Вконтате не працює, як же тепер на жити? )) #А...  вконтате не працює як же тепер на жити  ато ук...    uk\n",
            "---\n",
            "                                                tweet                                              tweet label\n",
            "1   Megaespecial Fairy Tail 3/150. Admin Sirene ht...             megaespecial fairy tail  admin sirene    und\n",
            "2                              http://t.co/0EeyF6Hk1Z                                                      und\n",
            "8   http://t.co/eIwlijGogj Vertebrate Palaeontolog...   vertebrate palaeontology  vertebrate palaeont...   und\n",
            "9   1 Shakifans x Ritabots #MTVHottest Rita Ora #M...            shakifans x ritabots  rita ora  shakira   und\n",
            "45                                    @null 681653253                                                      und\n",
            "---\n",
            "                                                   tweet                                              tweet label\n",
            "9443   @pmlnterritory @biyaali57 @PlainJane000 نصیبو ...     نصیبو لیگ پرائیویٹ لمیٹڈ کے نۓ ڈائریکٹرز وی...    ur\n",
            "10926  لندن: اگرالطاف حسین کی باتوں پر توجہ دے کرطالب...  لندن اگرالطاف حسین کی باتوں پر توجہ دے کرطالبا...    ur\n",
            "19796  @phanerozoic11 @dufferistan کس کے ساتھ کیا ہور...                            کس کے ساتھ کیا ہوریا؟      ur\n",
            "24547   کراچی: آج سمندر میں ڈوب کر جاں بحق افراد کی ت...   کراچی آج سمندر میں ڈوب کر جاں بحق افراد کی تع...    ur\n",
            "25120  #WeatherUpdate  آزادکشمیر، گلگت بلتستان، ہزارہ...    آزادکشمیر، گلگت بلتستان، ہزارہ ڈویژن، راولپن...    ur\n",
            "---\n",
            "                                                   tweet                                              tweet    label\n",
            "3559                        @_AbdullahAsad Chalo man lia                                      chalo man lia  ur_LATN\n",
            "13706  @Wiseguy70 @VneedChange @waqas_azeem_ch @AnamK...                            aik jadu ki jhapi do na  ur_LATN\n",
            "15007  Qur'an Mein Tajdeed Ka Tariqa http://t.co/z19N...             quran mein tajdeed ka tariqa            ur_LATN\n",
            "16037  Now taking bath .. Iss #Ramadan may bhe itna j...  now taking bath  iss  may bhe itna jaldi uthna...  ur_LATN\n",
            "21948  jcd: Jacobabad Hukumat Ke Janib Se CNG Ke Band...  jcd jacobabad hukumat ke janib se cng ke bandi...  ur_LATN\n",
            "---\n",
            "                                                   tweet                                              tweet label\n",
            "7263   Sức mạnh tình yêu của người mẹ cảm động rơi nư...  sức mạnh tình yêu của người mẹ cảm động rơi nư...    vi\n",
            "9583                               @paulacedeno96 chi :c                                              chi c    vi\n",
            "12362  Vay đc ls này có thể đem sang bank khác gửi vẫ...  vay đc ls này có thể đem sang bank khác gửi vẫ...    vi\n",
            "12853  Cũng hi vọng có gì đấy đổ đầy nhưng chỉ được m...  cũng hi vọng có gì đấy đổ đầy nhưng chỉ được m...    vi\n",
            "13099                    ngày đẹp zời và rất buồn ngủ :(                      ngày đẹp zời và rất buồn ngủ     vi\n",
            "---\n",
            "                                                   tweet                                              tweet label\n",
            "45765  @QueenieSly mdr c k dagnoukoy gagnnnn rekk mot...   mdr c k dagnoukoy gagnnnn rekk motakh khana  ...    wo\n",
            "---\n",
            "                                                   tweet                                              tweet label\n",
            "44590  @Slyso Ucima wam Lizwe laka Sirayeli elime ngo...   ucima wam lizwe laka sirayeli elime ngohlasel...    xh\n",
            "58195  @SJLRadio1 @Umhlobo_Wenene @Maxhoseni @NonalaT...      n ndimpha zonke  ifani ingoma ezimnandi na...    xh\n",
            "---\n",
            "                                                   tweet                                              tweet label\n",
            "38391  “@joSupreme__: “@914ESO: “@joSupreme__: @914ES...  “ “ “  eti sen” bawoni ” mo wa se e wa ok” yea...    yo\n",
            "---\n",
            "                                                   tweet                                  tweet  label\n",
            "2942                                      @immei0125 空调呢                                    空调呢  zh-CN\n",
            "4983                      基隆唯一一家！ http://t.co/7f6yE7zKo2                               基隆唯一一家！   zh-CN\n",
            "12064                                            广告设计很不错                                广告设计很不错  zh-CN\n",
            "13213  我已收获 817 食物！http://t.co/JghsHr4QV4 #iphone, #i...                           我已收获  食物！     zh-CN\n",
            "17815  我取得了一项新成就：`管理员`.尝试在iPad版Tribez游戏中打败我吧！http://t...  我取得了一项新成就：管理员尝试在ipad版tribez游戏中打败我吧！    zh-CN\n",
            "---\n",
            "                                                  tweet                                              tweet  label\n",
            "2350        大立光2450盤中新高 台股收漲9520 http://t.co/T1x9EhD7mi                                      大立光盤中新高 台股收漲   zh-TW\n",
            "2566  『 』 免費的女性向戀愛遊戲★想和哥哥假結婚看看嗎？　https://t.co/YOUkKU...                      『 』 免費的女性向戀愛遊戲★想和哥哥假結婚看看嗎？　 ⇒  zh-TW\n",
            "2834  {CWB} 桃園縣 一週天氣預報(07/27 05:00發布): 07/27 白天 溫度:2...  cwb 桃園縣 一週天氣預報 發布  白天 溫度   晴午後短暫雷陣雨  晚上 溫度   晴...  zh-TW\n",
            "9029                              @hundtw 不要眯啦 來喝一杯啦 #喂                                       不要眯啦 來喝一杯啦 喂  zh-TW\n",
            "9071                              這個週末兩天都跟 Navel 很有緣...                                 這個週末兩天都跟 navel 很有緣  zh-TW\n",
            "---\n",
            "                                   tweet            tweet label\n",
            "15429  @Official_SABC1 Moloooo nakuwe!!!   moloooo nakuwe    zu\n",
            "---\n"
          ]
        }
      ]
    },
    {
      "cell_type": "code",
      "metadata": {
        "id": "ht7tAk-r5Re8"
      },
      "source": [
        "cleaned_dataset = clean_data(dataset, TWEET_COLUMN)"
      ],
      "execution_count": 26,
      "outputs": []
    },
    {
      "cell_type": "code",
      "metadata": {
        "colab": {
          "base_uri": "https://localhost:8080/"
        },
        "id": "wHvLCaLVJAoo",
        "outputId": "eba003fc-ce7e-483b-b2c6-806e97151b47"
      },
      "source": [
        "# Check that the dataset does not contain null values\n",
        "cleaned_dataset.isnull().values.any() "
      ],
      "execution_count": 27,
      "outputs": [
        {
          "output_type": "execute_result",
          "data": {
            "text/plain": [
              "False"
            ]
          },
          "metadata": {},
          "execution_count": 27
        }
      ]
    },
    {
      "cell_type": "markdown",
      "metadata": {
        "id": "go29EMqShzcu"
      },
      "source": [
        "## 5.Data Augmentation\n",
        "We consider languages which have less then 20 sample tweets in the dataset as infrequent. You can either remove these infrequent languages or use augmentation or upsampling techniques to increase the language frequency.\n",
        "We decided to use back translation in order to keep infrequent languages but increase their frequency.\n"
      ]
    },
    {
      "cell_type": "code",
      "metadata": {
        "id": "a8qkq-4MKosP"
      },
      "source": [
        "def back_translation(df,target_languages=['en']):\n",
        "  translated_data = pd.DataFrame(columns={TWEET_COLUMN, TARGET_COLUMN})\n",
        "  for target_language in target_languages:\n",
        "    for index, row in df.iterrows():\n",
        "      try:\n",
        "        tweet = row[TWEET_COLUMN]\n",
        "        source_language = row[TARGET_COLUMN]\n",
        "        translated_data=translated_data.append({'tweet': translator.translate(translator.translate(tweet, dest=target_language).text, dest=source_language).text, 'label': source_language}, ignore_index=True)\n",
        "      except Exception as e:\n",
        "        print(e)\n",
        "        pass\n",
        "  return translated_data"
      ],
      "execution_count": 28,
      "outputs": []
    },
    {
      "cell_type": "code",
      "metadata": {
        "colab": {
          "base_uri": "https://localhost:8080/"
        },
        "id": "3iev8EdrRQG2",
        "outputId": "17818884-9300-407b-85fc-3c3ffb561b81"
      },
      "source": [
        "print_number_of_underrepresented_languages(cleaned_dataset, TARGET_COLUMN, SAMPLE_THRESHOLD)"
      ],
      "execution_count": 29,
      "outputs": [
        {
          "output_type": "stream",
          "name": "stdout",
          "text": [
            "There are 50 languages in this data set with less then 20 samples.\n"
          ]
        }
      ]
    },
    {
      "cell_type": "code",
      "metadata": {
        "colab": {
          "base_uri": "https://localhost:8080/"
        },
        "id": "iPZhejNxdCFn",
        "outputId": "79094fbc-ac2c-464b-e652-520c33f03aef"
      },
      "source": [
        "underrepresented_languages = get_underrepresented_languages(cleaned_dataset, TARGET_COLUMN, SAMPLE_THRESHOLD)\n",
        "print(underrepresented_languages)"
      ],
      "execution_count": 30,
      "outputs": [
        {
          "output_type": "stream",
          "name": "stdout",
          "text": [
            "['ar_LATN', 'az', 'bg', 'bn', 'bs', 'cs', 'cy', 'da', 'dv', 'et', 'eu', 'gl', 'ha', 'hi-Latn', 'hr', 'ht', 'hu', 'hy', 'is', 'ja_LATN', 'jv', 'km', 'ko_LATN', 'la', 'lv', 'mk', 'mn', 'mr', 'ne', 'no', 'ps', 'ps_LATN', 'ro', 'si', 'sk', 'sl', 'sq', 'su', 'sw', 'ta', 'ta_LATN', 'tn', 'uk', 'ur', 'ur_LATN', 'wo', 'xh', 'yo', 'zh-TW', 'zu']\n"
          ]
        }
      ]
    },
    {
      "cell_type": "code",
      "metadata": {
        "colab": {
          "base_uri": "https://localhost:8080/"
        },
        "id": "amnYMOOJ1xRA",
        "outputId": "6d106709-7928-49ea-9c46-7c0b2441d19a"
      },
      "source": [
        "# Increasing the number of rare languages by backtranslation\n",
        "upsampled_dataset = cleaned_dataset.copy()\n",
        "\n",
        "for l in underrepresented_languages:\n",
        "  underrepresented_language = upsampled_dataset[upsampled_dataset[TARGET_COLUMN]==l]\n",
        "  upsampled_dataset.drop(upsampled_dataset[upsampled_dataset[TARGET_COLUMN]==l].index, inplace = True, axis=0)\n",
        "  len_first = len(underrepresented_language)\n",
        "\n",
        "  if not l.endswith('latn'): # Only run the upsamling for non latn languages\n",
        "    underrepresented_language = pd.concat([underrepresented_language, back_translation(underrepresented_language)], axis=0) # run back translation\n",
        "  \n",
        "  len_second = len(underrepresented_language)\n",
        "  if(len_second < SAMPLE_THRESHOLD):\n",
        "    underrepresented_language = resample(underrepresented_language, n_samples=SAMPLE_THRESHOLD)\n",
        "  len_third = len(underrepresented_language)\n",
        "  \n",
        "  print(\"({0}): #{1}=>back_translation=>#{2}=>resampling=>#{3}\".format(l, len_first, len_second, len_third))\n",
        "  upsampled_dataset = pd.concat([upsampled_dataset, underrepresented_language], axis=0)"
      ],
      "execution_count": 31,
      "outputs": [
        {
          "output_type": "stream",
          "name": "stdout",
          "text": [
            "(ar_LATN): #15=>back_translation=>#30=>resampling=>#30\n",
            "(az): #3=>back_translation=>#6=>resampling=>#20\n",
            "(bg): #4=>back_translation=>#8=>resampling=>#20\n",
            "(bn): #8=>back_translation=>#16=>resampling=>#20\n",
            "(bs): #5=>back_translation=>#10=>resampling=>#20\n",
            "(cs): #5=>back_translation=>#10=>resampling=>#20\n",
            "(cy): #1=>back_translation=>#2=>resampling=>#20\n",
            "(da): #8=>back_translation=>#16=>resampling=>#20\n",
            "invalid destination language\n",
            "(dv): #1=>back_translation=>#1=>resampling=>#20\n",
            "(et): #2=>back_translation=>#4=>resampling=>#20\n",
            "(eu): #2=>back_translation=>#4=>resampling=>#20\n",
            "(gl): #3=>back_translation=>#6=>resampling=>#20\n",
            "(ha): #1=>back_translation=>#2=>resampling=>#20\n",
            "invalid destination language\n",
            "invalid destination language\n",
            "invalid destination language\n",
            "invalid destination language\n",
            "invalid destination language\n",
            "invalid destination language\n",
            "invalid destination language\n",
            "invalid destination language\n",
            "invalid destination language\n",
            "invalid destination language\n",
            "invalid destination language\n",
            "invalid destination language\n",
            "invalid destination language\n",
            "invalid destination language\n",
            "invalid destination language\n",
            "invalid destination language\n",
            "invalid destination language\n",
            "invalid destination language\n",
            "invalid destination language\n",
            "(hi-Latn): #19=>back_translation=>#19=>resampling=>#20\n",
            "(hr): #6=>back_translation=>#12=>resampling=>#20\n",
            "(ht): #3=>back_translation=>#6=>resampling=>#20\n",
            "(hu): #15=>back_translation=>#30=>resampling=>#30\n",
            "(hy): #2=>back_translation=>#4=>resampling=>#20\n",
            "(is): #1=>back_translation=>#2=>resampling=>#20\n",
            "(ja_LATN): #2=>back_translation=>#4=>resampling=>#20\n",
            "invalid destination language\n",
            "invalid destination language\n",
            "invalid destination language\n",
            "invalid destination language\n",
            "invalid destination language\n",
            "invalid destination language\n",
            "invalid destination language\n",
            "invalid destination language\n",
            "invalid destination language\n",
            "invalid destination language\n",
            "invalid destination language\n",
            "(jv): #11=>back_translation=>#11=>resampling=>#20\n",
            "(km): #3=>back_translation=>#6=>resampling=>#20\n",
            "(ko_LATN): #2=>back_translation=>#4=>resampling=>#20\n",
            "(la): #1=>back_translation=>#2=>resampling=>#20\n",
            "(lv): #5=>back_translation=>#10=>resampling=>#20\n",
            "(mk): #1=>back_translation=>#2=>resampling=>#20\n",
            "(mn): #1=>back_translation=>#2=>resampling=>#20\n",
            "(mr): #1=>back_translation=>#2=>resampling=>#20\n",
            "(ne): #5=>back_translation=>#10=>resampling=>#20\n",
            "(no): #12=>back_translation=>#24=>resampling=>#24\n",
            "(ps): #1=>back_translation=>#2=>resampling=>#20\n",
            "(ps_LATN): #1=>back_translation=>#2=>resampling=>#20\n",
            "(ro): #14=>back_translation=>#28=>resampling=>#28\n",
            "(si): #1=>back_translation=>#2=>resampling=>#20\n",
            "(sk): #1=>back_translation=>#2=>resampling=>#20\n",
            "(sl): #2=>back_translation=>#4=>resampling=>#20\n",
            "(sq): #9=>back_translation=>#18=>resampling=>#20\n",
            "(su): #10=>back_translation=>#20=>resampling=>#20\n",
            "(sw): #8=>back_translation=>#16=>resampling=>#20\n",
            "(ta): #12=>back_translation=>#24=>resampling=>#24\n",
            "(ta_LATN): #2=>back_translation=>#4=>resampling=>#20\n",
            "invalid destination language\n",
            "(tn): #1=>back_translation=>#1=>resampling=>#20\n",
            "(uk): #18=>back_translation=>#36=>resampling=>#36\n",
            "(ur): #12=>back_translation=>#24=>resampling=>#24\n",
            "(ur_LATN): #13=>back_translation=>#26=>resampling=>#26\n",
            "invalid destination language\n",
            "(wo): #1=>back_translation=>#1=>resampling=>#20\n",
            "(xh): #2=>back_translation=>#4=>resampling=>#20\n",
            "(yo): #1=>back_translation=>#2=>resampling=>#20\n",
            "(zh-TW): #14=>back_translation=>#28=>resampling=>#28\n",
            "(zu): #1=>back_translation=>#2=>resampling=>#20\n"
          ]
        }
      ]
    },
    {
      "cell_type": "code",
      "metadata": {
        "colab": {
          "base_uri": "https://localhost:8080/",
          "height": 408
        },
        "id": "mM5NKgHNjdKp",
        "outputId": "349cc01b-aadd-428e-a56a-e70b14381502"
      },
      "source": [
        "upsampled_dataset.reset_index(drop=True)"
      ],
      "execution_count": 32,
      "outputs": [
        {
          "output_type": "execute_result",
          "data": {
            "text/html": [
              "<div>\n",
              "<style scoped>\n",
              "    .dataframe tbody tr th:only-of-type {\n",
              "        vertical-align: middle;\n",
              "    }\n",
              "\n",
              "    .dataframe tbody tr th {\n",
              "        vertical-align: top;\n",
              "    }\n",
              "\n",
              "    .dataframe thead th {\n",
              "        text-align: right;\n",
              "    }\n",
              "</style>\n",
              "<table border=\"1\" class=\"dataframe\">\n",
              "  <thead>\n",
              "    <tr style=\"text-align: right;\">\n",
              "      <th></th>\n",
              "      <th>tweet</th>\n",
              "      <th>label</th>\n",
              "    </tr>\n",
              "  </thead>\n",
              "  <tbody>\n",
              "    <tr>\n",
              "      <th>0</th>\n",
              "      <td>ㅋㅋㅋ</td>\n",
              "      <td>ko</td>\n",
              "    </tr>\n",
              "    <tr>\n",
              "      <th>1</th>\n",
              "      <td>megaespecial fairy tail  admin sirene</td>\n",
              "      <td>und</td>\n",
              "    </tr>\n",
              "    <tr>\n",
              "      <th>2</th>\n",
              "      <td></td>\n",
              "      <td>und</td>\n",
              "    </tr>\n",
              "    <tr>\n",
              "      <th>3</th>\n",
              "      <td>rns rt  i always find myself watching b roy hi...</td>\n",
              "      <td>en</td>\n",
              "    </tr>\n",
              "    <tr>\n",
              "      <th>4</th>\n",
              "      <td>¡he reunido  monedas de oro ¿a ver quien es ca...</td>\n",
              "      <td>es</td>\n",
              "    </tr>\n",
              "    <tr>\n",
              "      <th>...</th>\n",
              "      <td>...</td>\n",
              "      <td>...</td>\n",
              "    </tr>\n",
              "    <tr>\n",
              "      <th>66747</th>\n",
              "      <td>Molooooo nawe</td>\n",
              "      <td>zu</td>\n",
              "    </tr>\n",
              "    <tr>\n",
              "      <th>66748</th>\n",
              "      <td>Molooooo nawe</td>\n",
              "      <td>zu</td>\n",
              "    </tr>\n",
              "    <tr>\n",
              "      <th>66749</th>\n",
              "      <td>moloooo nakuwe</td>\n",
              "      <td>zu</td>\n",
              "    </tr>\n",
              "    <tr>\n",
              "      <th>66750</th>\n",
              "      <td>moloooo nakuwe</td>\n",
              "      <td>zu</td>\n",
              "    </tr>\n",
              "    <tr>\n",
              "      <th>66751</th>\n",
              "      <td>Molooooo nawe</td>\n",
              "      <td>zu</td>\n",
              "    </tr>\n",
              "  </tbody>\n",
              "</table>\n",
              "<p>66752 rows × 2 columns</p>\n",
              "</div>"
            ],
            "text/plain": [
              "                                                   tweet label\n",
              "0                                                    ㅋㅋㅋ    ko\n",
              "1                 megaespecial fairy tail  admin sirene    und\n",
              "2                                                          und\n",
              "3      rns rt  i always find myself watching b roy hi...    en\n",
              "4      ¡he reunido  monedas de oro ¿a ver quien es ca...    es\n",
              "...                                                  ...   ...\n",
              "66747                                      Molooooo nawe    zu\n",
              "66748                                      Molooooo nawe    zu\n",
              "66749                                     moloooo nakuwe    zu\n",
              "66750                                     moloooo nakuwe    zu\n",
              "66751                                      Molooooo nawe    zu\n",
              "\n",
              "[66752 rows x 2 columns]"
            ]
          },
          "metadata": {},
          "execution_count": 32
        }
      ]
    },
    {
      "cell_type": "code",
      "metadata": {
        "id": "jR2fpoJ3iyN3"
      },
      "source": [
        "upsampled_dataset.to_pickle('./dataset.pkl') # Save dataset as compact pkl file\n",
        "upsampled_dataset.to_csv('./dataset.csv', header=True, index=False) # Save dataset as easily accessible csv file"
      ],
      "execution_count": 33,
      "outputs": []
    },
    {
      "cell_type": "code",
      "metadata": {
        "colab": {
          "base_uri": "https://localhost:8080/"
        },
        "id": "cPZANQdPhavy",
        "outputId": "c1658f4a-ef44-41f9-ac98-b9cdc5020812"
      },
      "source": [
        "# Check that no underrepresented languages exists anymore in the dataset\n",
        "# The list of underrepresented languages needs to be empty now\n",
        "get_underrepresented_languages(upsampled_dataset, TARGET_COLUMN, SAMPLE_THRESHOLD)"
      ],
      "execution_count": 34,
      "outputs": [
        {
          "output_type": "execute_result",
          "data": {
            "text/plain": [
              "[]"
            ]
          },
          "metadata": {},
          "execution_count": 34
        }
      ]
    },
    {
      "cell_type": "code",
      "metadata": {
        "colab": {
          "base_uri": "https://localhost:8080/"
        },
        "id": "qaFPH8EA2CdR",
        "outputId": "0adb7f55-d874-4706-d9ed-1b4232b697aa"
      },
      "source": [
        "print_number_of_underrepresented_languages(upsampled_dataset, TARGET_COLUMN, SAMPLE_THRESHOLD)"
      ],
      "execution_count": 35,
      "outputs": [
        {
          "output_type": "stream",
          "name": "stdout",
          "text": [
            "There are 0 languages in this data set with less then 20 samples.\n"
          ]
        }
      ]
    },
    {
      "cell_type": "code",
      "metadata": {
        "colab": {
          "base_uri": "https://localhost:8080/"
        },
        "id": "yvvbKuzu-3XL",
        "outputId": "adef3840-2101-4c7c-be49-6bd9d641ba9f"
      },
      "source": [
        "print(\"The length of the upsampled dataset is {}.\".format(len(upsampled_dataset)))"
      ],
      "execution_count": 36,
      "outputs": [
        {
          "output_type": "stream",
          "name": "stdout",
          "text": [
            "The length of the upsampled dataset is 66752.\n"
          ]
        }
      ]
    },
    {
      "cell_type": "markdown",
      "metadata": {
        "id": "9_DuSLlykP5C"
      },
      "source": [
        "## 6. Tokenize Data"
      ]
    },
    {
      "cell_type": "code",
      "metadata": {
        "id": "DvupSY9xuqk1"
      },
      "source": [
        "tokenizer = Tokenizer(num_words=None, char_level=True, oov_token='OOV')\n",
        "tokenizer.fit_on_texts(dataset[TWEET_COLUMN].tolist())"
      ],
      "execution_count": 101,
      "outputs": []
    },
    {
      "cell_type": "code",
      "metadata": {
        "id": "rxD49XlKdmk7"
      },
      "source": [
        "df_test = dataset.sample(int(0.2 * len(dataset)))\n",
        "X_test = df_test[TWEET_COLUMN]\n",
        "y_test = df_test[TARGET_COLUMN]\n",
        "df_train = dataset.drop(df_test.index)\n",
        "X_train = df_train[TWEET_COLUMN]\n",
        "y_train = df_train[TARGET_COLUMN]"
      ],
      "execution_count": 102,
      "outputs": []
    },
    {
      "cell_type": "code",
      "metadata": {
        "id": "Td96-wo89tck"
      },
      "source": [
        "X_train_vec = tokenizer.texts_to_sequences(X_train)\n",
        "X_test_vec = tokenizer.texts_to_sequences(X_test)"
      ],
      "execution_count": 103,
      "outputs": []
    },
    {
      "cell_type": "code",
      "metadata": {
        "id": "D42yNvV2_3Km"
      },
      "source": [
        "padding_length=80\n",
        "X_train_pad = pad_sequences(X_train_vec, maxlen=padding_length, padding='post')\n",
        "X_test_pad = pad_sequences(X_test_vec, maxlen=padding_length, padding='post')"
      ],
      "execution_count": 104,
      "outputs": []
    },
    {
      "cell_type": "code",
      "metadata": {
        "id": "ytEx89DSuqzg"
      },
      "source": [
        "label2index = {label:index for index, label in enumerate(dataset[TARGET_COLUMN].unique())}"
      ],
      "execution_count": 105,
      "outputs": []
    },
    {
      "cell_type": "code",
      "metadata": {
        "id": "heZNu41juq1_"
      },
      "source": [
        "df_train['language_index'] = df_train[TARGET_COLUMN].apply(lambda x: label2index[x])\n",
        "df_test['language_index'] = df_test[TARGET_COLUMN].apply(lambda x: label2index[x])"
      ],
      "execution_count": 106,
      "outputs": []
    },
    {
      "cell_type": "code",
      "metadata": {
        "id": "9xiF0uQ4me-F",
        "colab": {
          "base_uri": "https://localhost:8080/"
        },
        "outputId": "8a44f801-2b3e-40b9-8740-70f3921ff5d5"
      },
      "source": [
        "train_labels = df_train['language_index'].values\n",
        "type(train_labels)"
      ],
      "execution_count": 107,
      "outputs": [
        {
          "output_type": "execute_result",
          "data": {
            "text/plain": [
              "numpy.ndarray"
            ]
          },
          "metadata": {},
          "execution_count": 107
        }
      ]
    },
    {
      "cell_type": "code",
      "metadata": {
        "id": "ALn9xl0Auqwt"
      },
      "source": [
        "y_train_indices = df_train['language_index'].values\n",
        "y_train_indices = [x for x in y_train_indices]\n",
        "\n",
        "y_test_indices = df_test['language_index'].values\n",
        "y_test_indices = [x for x in y_test_indices]"
      ],
      "execution_count": 108,
      "outputs": []
    },
    {
      "cell_type": "code",
      "metadata": {
        "id": "F5bw3tgIuqui"
      },
      "source": [
        "y_train_cat = to_categorical(y_train_indices)\n",
        "y_test_cat = to_categorical(y_test_indices)"
      ],
      "execution_count": 109,
      "outputs": []
    },
    {
      "cell_type": "code",
      "metadata": {
        "colab": {
          "base_uri": "https://localhost:8080/"
        },
        "id": "rjz7l9XNl8Lc",
        "outputId": "a2913b03-dbb5-431b-ad41-037ae6cc6186"
      },
      "source": [
        "print(y_train_cat.shape)"
      ],
      "execution_count": 120,
      "outputs": [
        {
          "output_type": "stream",
          "name": "stdout",
          "text": [
            "(47487, 78)\n"
          ]
        }
      ]
    },
    {
      "cell_type": "code",
      "metadata": {
        "id": "q0nycAi1gUoC"
      },
      "source": [
        "X_train_pad, X_val_pad, y_train_cat, y_val_cat = train_test_split(X_train_pad, y_train_cat, test_size=0.1, random_state=42)"
      ],
      "execution_count": 110,
      "outputs": []
    },
    {
      "cell_type": "code",
      "metadata": {
        "colab": {
          "base_uri": "https://localhost:8080/"
        },
        "id": "DCNw4kqbmAQV",
        "outputId": "07de6bcc-0af1-4b90-f32b-b61ee18e53b6"
      },
      "source": [
        "len(label2index)"
      ],
      "execution_count": 122,
      "outputs": [
        {
          "output_type": "execute_result",
          "data": {
            "text/plain": [
              "78"
            ]
          },
          "metadata": {},
          "execution_count": 122
        }
      ]
    },
    {
      "cell_type": "code",
      "metadata": {
        "id": "E3WWQU4GEPHe"
      },
      "source": [
        "vocab_size = len(tokenizer.word_index)\n",
        "padding_length, \n",
        "embedding_dim = 50"
      ],
      "execution_count": 111,
      "outputs": []
    },
    {
      "cell_type": "markdown",
      "metadata": {
        "id": "kskcOnLzZ7xr"
      },
      "source": [
        "## Creating CNN "
      ]
    },
    {
      "cell_type": "code",
      "metadata": {
        "id": "zyAdumBk1iQD"
      },
      "source": [
        "loss = \"categorical_crossentropy\"\n",
        "epochs = 100\n",
        "verbose = 1\n",
        "def langIDCNN(X_train, y_train, X_val, y_val, params):\n",
        "  print(params['dropout'])\n",
        "  es = EarlyStopping(monitor='val_loss', mode='auto', verbose=1, patience=10)\n",
        "  \n",
        "  model = Sequential()\n",
        "  model.add(Embedding(input_dim=vocab_size+1, output_dim=embedding_dim, input_length=padding_length))\n",
        "  model.add(Dropout(params['dropout']))\n",
        "  model.add(Conv1D(filters=params['filters'], kernel_size=params['kernel_size'], strides=params['strides'], padding='valid', activation='relu'))\n",
        "  model.add(params['pooling'])\n",
        "  model.add(Dense(params['hidden_dims']))\n",
        "  model.add(Dropout(params['dropout']))\n",
        "  model.add(Activation('relu'))\n",
        "  model.add(Dense(len(label2index)))\n",
        "  model.add(Activation('softmax'))\n",
        "  model.compile(optimizer=params['optimizer'], loss=loss, metrics=['accuracy'])\n",
        "  K.set_value(model.optimizer.learning_rate, params['learning_rate'])\n",
        "\n",
        "  history = model.fit(X_train, y_train, validation_data=(X_val, y_val), batch_size=params['batch_size'], epochs=epochs, verbose=verbose,  callbacks = [es]) \n",
        "\n",
        "  return history, model"
      ],
      "execution_count": 123,
      "outputs": []
    },
    {
      "cell_type": "markdown",
      "metadata": {
        "id": "lmHSFNntZ7xv"
      },
      "source": [
        "## "
      ]
    },
    {
      "cell_type": "code",
      "metadata": {
        "id": "jT_jMJ80JfdV"
      },
      "source": [
        "hyperparams_1 = {\n",
        "    'dropout': (0.5),\n",
        "    'filters': (128),\n",
        "    'kernel_size': (3),\n",
        "    'strides': (1),\n",
        "    'pooling': GlobalMaxPooling1D(),  # MaxPool1D(), AveragePooling1D(), \n",
        "    'hidden_dims': (128),\n",
        "    'learning_rate': (0.01),\n",
        "    'batch_size': (100),\n",
        "    'optimizer': ('adam')\n",
        "}"
      ],
      "execution_count": 124,
      "outputs": []
    },
    {
      "cell_type": "code",
      "metadata": {
        "colab": {
          "base_uri": "https://localhost:8080/"
        },
        "id": "YqEb23T-k7GF",
        "outputId": "c5f917e8-893f-4955-dc4a-c1b6ecdbef1c"
      },
      "source": [
        "print(type(X_train_pad[10]))"
      ],
      "execution_count": 125,
      "outputs": [
        {
          "output_type": "stream",
          "name": "stdout",
          "text": [
            "<class 'numpy.ndarray'>\n"
          ]
        }
      ]
    },
    {
      "cell_type": "code",
      "metadata": {
        "id": "qonIEqIv1gvg",
        "colab": {
          "base_uri": "https://localhost:8080/"
        },
        "outputId": "ec3cea24-110f-4ea3-bb9f-5a9f8b6fb198"
      },
      "source": [
        "history_1, model_1 = langIDCNN(X_train_pad, y_train_cat, X_val_pad, y_val_cat, hyperparams_1)"
      ],
      "execution_count": 126,
      "outputs": [
        {
          "output_type": "stream",
          "name": "stdout",
          "text": [
            "0.5\n",
            "Epoch 1/100\n",
            "475/475 [==============================] - 21s 8ms/step - loss: 0.9831 - accuracy: 0.7278 - val_loss: 0.5642 - val_accuracy: 0.8461\n",
            "Epoch 2/100\n",
            "475/475 [==============================] - 4s 7ms/step - loss: 0.7080 - accuracy: 0.8071 - val_loss: 0.5383 - val_accuracy: 0.8596\n",
            "Epoch 3/100\n",
            "475/475 [==============================] - 4s 7ms/step - loss: 0.6724 - accuracy: 0.8192 - val_loss: 0.5155 - val_accuracy: 0.8706\n",
            "Epoch 4/100\n",
            "475/475 [==============================] - 4s 8ms/step - loss: 0.6571 - accuracy: 0.8237 - val_loss: 0.5120 - val_accuracy: 0.8709\n",
            "Epoch 5/100\n",
            "475/475 [==============================] - 4s 8ms/step - loss: 0.6284 - accuracy: 0.8316 - val_loss: 0.5302 - val_accuracy: 0.8694\n",
            "Epoch 6/100\n",
            "475/475 [==============================] - 3s 7ms/step - loss: 0.6182 - accuracy: 0.8337 - val_loss: 0.5191 - val_accuracy: 0.8738\n",
            "Epoch 7/100\n",
            "475/475 [==============================] - 3s 7ms/step - loss: 0.6176 - accuracy: 0.8347 - val_loss: 0.5352 - val_accuracy: 0.8715\n",
            "Epoch 8/100\n",
            "475/475 [==============================] - 4s 8ms/step - loss: 0.6094 - accuracy: 0.8356 - val_loss: 0.5309 - val_accuracy: 0.8732\n",
            "Epoch 9/100\n",
            "475/475 [==============================] - 3s 7ms/step - loss: 0.6194 - accuracy: 0.8356 - val_loss: 0.5468 - val_accuracy: 0.8692\n",
            "Epoch 10/100\n",
            "475/475 [==============================] - 4s 8ms/step - loss: 0.6199 - accuracy: 0.8339 - val_loss: 0.5638 - val_accuracy: 0.8723\n",
            "Epoch 11/100\n",
            "475/475 [==============================] - 3s 7ms/step - loss: 0.6136 - accuracy: 0.8372 - val_loss: 0.5608 - val_accuracy: 0.8692\n",
            "Epoch 12/100\n",
            "475/475 [==============================] - 3s 7ms/step - loss: 0.6058 - accuracy: 0.8379 - val_loss: 0.5758 - val_accuracy: 0.8742\n",
            "Epoch 13/100\n",
            "475/475 [==============================] - 3s 7ms/step - loss: 0.6271 - accuracy: 0.8365 - val_loss: 0.5552 - val_accuracy: 0.8696\n",
            "Epoch 14/100\n",
            "475/475 [==============================] - 4s 8ms/step - loss: 0.6156 - accuracy: 0.8365 - val_loss: 0.5429 - val_accuracy: 0.8753\n",
            "Epoch 00014: early stopping\n"
          ]
        }
      ]
    },
    {
      "cell_type": "markdown",
      "metadata": {
        "id": "YEh0_gMkZ7xz"
      },
      "source": [
        "## Evaluation of model with parameter -1"
      ]
    },
    {
      "cell_type": "code",
      "metadata": {
        "id": "-G7dvdRwKvpj",
        "colab": {
          "base_uri": "https://localhost:8080/",
          "height": 822
        },
        "outputId": "987ae744-ec05-477f-d4fb-4819f6982daf"
      },
      "source": [
        "model_1.evaluate(X_test_pad, y_test_cat)\n"
      ],
      "execution_count": 129,
      "outputs": [
        {
          "output_type": "error",
          "ename": "ValueError",
          "evalue": "ignored",
          "traceback": [
            "\u001b[0;31m---------------------------------------------------------------------------\u001b[0m",
            "\u001b[0;31mValueError\u001b[0m                                Traceback (most recent call last)",
            "\u001b[0;32m<ipython-input-129-06a0c0baa563>\u001b[0m in \u001b[0;36m<module>\u001b[0;34m()\u001b[0m\n\u001b[0;32m----> 1\u001b[0;31m \u001b[0mmodel_1\u001b[0m\u001b[0;34m.\u001b[0m\u001b[0mevaluate\u001b[0m\u001b[0;34m(\u001b[0m\u001b[0mX_test_pad\u001b[0m\u001b[0;34m,\u001b[0m \u001b[0my_test_cat\u001b[0m\u001b[0;34m)\u001b[0m\u001b[0;34m\u001b[0m\u001b[0;34m\u001b[0m\u001b[0m\n\u001b[0m",
            "\u001b[0;32m/usr/local/lib/python3.7/dist-packages/keras/engine/training.py\u001b[0m in \u001b[0;36mevaluate\u001b[0;34m(self, x, y, batch_size, verbose, sample_weight, steps, callbacks, max_queue_size, workers, use_multiprocessing, return_dict, **kwargs)\u001b[0m\n\u001b[1;32m   1499\u001b[0m             \u001b[0;32mwith\u001b[0m \u001b[0mtf\u001b[0m\u001b[0;34m.\u001b[0m\u001b[0mprofiler\u001b[0m\u001b[0;34m.\u001b[0m\u001b[0mexperimental\u001b[0m\u001b[0;34m.\u001b[0m\u001b[0mTrace\u001b[0m\u001b[0;34m(\u001b[0m\u001b[0;34m'test'\u001b[0m\u001b[0;34m,\u001b[0m \u001b[0mstep_num\u001b[0m\u001b[0;34m=\u001b[0m\u001b[0mstep\u001b[0m\u001b[0;34m,\u001b[0m \u001b[0m_r\u001b[0m\u001b[0;34m=\u001b[0m\u001b[0;36m1\u001b[0m\u001b[0;34m)\u001b[0m\u001b[0;34m:\u001b[0m\u001b[0;34m\u001b[0m\u001b[0;34m\u001b[0m\u001b[0m\n\u001b[1;32m   1500\u001b[0m               \u001b[0mcallbacks\u001b[0m\u001b[0;34m.\u001b[0m\u001b[0mon_test_batch_begin\u001b[0m\u001b[0;34m(\u001b[0m\u001b[0mstep\u001b[0m\u001b[0;34m)\u001b[0m\u001b[0;34m\u001b[0m\u001b[0;34m\u001b[0m\u001b[0m\n\u001b[0;32m-> 1501\u001b[0;31m               \u001b[0mtmp_logs\u001b[0m \u001b[0;34m=\u001b[0m \u001b[0mself\u001b[0m\u001b[0;34m.\u001b[0m\u001b[0mtest_function\u001b[0m\u001b[0;34m(\u001b[0m\u001b[0miterator\u001b[0m\u001b[0;34m)\u001b[0m\u001b[0;34m\u001b[0m\u001b[0;34m\u001b[0m\u001b[0m\n\u001b[0m\u001b[1;32m   1502\u001b[0m               \u001b[0;32mif\u001b[0m \u001b[0mdata_handler\u001b[0m\u001b[0;34m.\u001b[0m\u001b[0mshould_sync\u001b[0m\u001b[0;34m:\u001b[0m\u001b[0;34m\u001b[0m\u001b[0;34m\u001b[0m\u001b[0m\n\u001b[1;32m   1503\u001b[0m                 \u001b[0mcontext\u001b[0m\u001b[0;34m.\u001b[0m\u001b[0masync_wait\u001b[0m\u001b[0;34m(\u001b[0m\u001b[0;34m)\u001b[0m\u001b[0;34m\u001b[0m\u001b[0;34m\u001b[0m\u001b[0m\n",
            "\u001b[0;32m/usr/local/lib/python3.7/dist-packages/tensorflow/python/eager/def_function.py\u001b[0m in \u001b[0;36m__call__\u001b[0;34m(self, *args, **kwds)\u001b[0m\n\u001b[1;32m    883\u001b[0m \u001b[0;34m\u001b[0m\u001b[0m\n\u001b[1;32m    884\u001b[0m       \u001b[0;32mwith\u001b[0m \u001b[0mOptionalXlaContext\u001b[0m\u001b[0;34m(\u001b[0m\u001b[0mself\u001b[0m\u001b[0;34m.\u001b[0m\u001b[0m_jit_compile\u001b[0m\u001b[0;34m)\u001b[0m\u001b[0;34m:\u001b[0m\u001b[0;34m\u001b[0m\u001b[0;34m\u001b[0m\u001b[0m\n\u001b[0;32m--> 885\u001b[0;31m         \u001b[0mresult\u001b[0m \u001b[0;34m=\u001b[0m \u001b[0mself\u001b[0m\u001b[0;34m.\u001b[0m\u001b[0m_call\u001b[0m\u001b[0;34m(\u001b[0m\u001b[0;34m*\u001b[0m\u001b[0margs\u001b[0m\u001b[0;34m,\u001b[0m \u001b[0;34m**\u001b[0m\u001b[0mkwds\u001b[0m\u001b[0;34m)\u001b[0m\u001b[0;34m\u001b[0m\u001b[0;34m\u001b[0m\u001b[0m\n\u001b[0m\u001b[1;32m    886\u001b[0m \u001b[0;34m\u001b[0m\u001b[0m\n\u001b[1;32m    887\u001b[0m       \u001b[0mnew_tracing_count\u001b[0m \u001b[0;34m=\u001b[0m \u001b[0mself\u001b[0m\u001b[0;34m.\u001b[0m\u001b[0mexperimental_get_tracing_count\u001b[0m\u001b[0;34m(\u001b[0m\u001b[0;34m)\u001b[0m\u001b[0;34m\u001b[0m\u001b[0;34m\u001b[0m\u001b[0m\n",
            "\u001b[0;32m/usr/local/lib/python3.7/dist-packages/tensorflow/python/eager/def_function.py\u001b[0m in \u001b[0;36m_call\u001b[0;34m(self, *args, **kwds)\u001b[0m\n\u001b[1;32m    922\u001b[0m       \u001b[0;31m# In this case we have not created variables on the first call. So we can\u001b[0m\u001b[0;34m\u001b[0m\u001b[0;34m\u001b[0m\u001b[0;34m\u001b[0m\u001b[0m\n\u001b[1;32m    923\u001b[0m       \u001b[0;31m# run the first trace but we should fail if variables are created.\u001b[0m\u001b[0;34m\u001b[0m\u001b[0;34m\u001b[0m\u001b[0;34m\u001b[0m\u001b[0m\n\u001b[0;32m--> 924\u001b[0;31m       \u001b[0mresults\u001b[0m \u001b[0;34m=\u001b[0m \u001b[0mself\u001b[0m\u001b[0;34m.\u001b[0m\u001b[0m_stateful_fn\u001b[0m\u001b[0;34m(\u001b[0m\u001b[0;34m*\u001b[0m\u001b[0margs\u001b[0m\u001b[0;34m,\u001b[0m \u001b[0;34m**\u001b[0m\u001b[0mkwds\u001b[0m\u001b[0;34m)\u001b[0m\u001b[0;34m\u001b[0m\u001b[0;34m\u001b[0m\u001b[0m\n\u001b[0m\u001b[1;32m    925\u001b[0m       \u001b[0;32mif\u001b[0m \u001b[0mself\u001b[0m\u001b[0;34m.\u001b[0m\u001b[0m_created_variables\u001b[0m \u001b[0;32mand\u001b[0m \u001b[0;32mnot\u001b[0m \u001b[0mALLOW_DYNAMIC_VARIABLE_CREATION\u001b[0m\u001b[0;34m:\u001b[0m\u001b[0;34m\u001b[0m\u001b[0;34m\u001b[0m\u001b[0m\n\u001b[1;32m    926\u001b[0m         raise ValueError(\"Creating variables on a non-first call to a function\"\n",
            "\u001b[0;32m/usr/local/lib/python3.7/dist-packages/tensorflow/python/eager/function.py\u001b[0m in \u001b[0;36m__call__\u001b[0;34m(self, *args, **kwargs)\u001b[0m\n\u001b[1;32m   3036\u001b[0m     \u001b[0;32mwith\u001b[0m \u001b[0mself\u001b[0m\u001b[0;34m.\u001b[0m\u001b[0m_lock\u001b[0m\u001b[0;34m:\u001b[0m\u001b[0;34m\u001b[0m\u001b[0;34m\u001b[0m\u001b[0m\n\u001b[1;32m   3037\u001b[0m       (graph_function,\n\u001b[0;32m-> 3038\u001b[0;31m        filtered_flat_args) = self._maybe_define_function(args, kwargs)\n\u001b[0m\u001b[1;32m   3039\u001b[0m     return graph_function._call_flat(\n\u001b[1;32m   3040\u001b[0m         filtered_flat_args, captured_inputs=graph_function.captured_inputs)  # pylint: disable=protected-access\n",
            "\u001b[0;32m/usr/local/lib/python3.7/dist-packages/tensorflow/python/eager/function.py\u001b[0m in \u001b[0;36m_maybe_define_function\u001b[0;34m(self, args, kwargs)\u001b[0m\n\u001b[1;32m   3458\u001b[0m               call_context_key in self._function_cache.missed):\n\u001b[1;32m   3459\u001b[0m             return self._define_function_with_shape_relaxation(\n\u001b[0;32m-> 3460\u001b[0;31m                 args, kwargs, flat_args, filtered_flat_args, cache_key_context)\n\u001b[0m\u001b[1;32m   3461\u001b[0m \u001b[0;34m\u001b[0m\u001b[0m\n\u001b[1;32m   3462\u001b[0m           \u001b[0mself\u001b[0m\u001b[0;34m.\u001b[0m\u001b[0m_function_cache\u001b[0m\u001b[0;34m.\u001b[0m\u001b[0mmissed\u001b[0m\u001b[0;34m.\u001b[0m\u001b[0madd\u001b[0m\u001b[0;34m(\u001b[0m\u001b[0mcall_context_key\u001b[0m\u001b[0;34m)\u001b[0m\u001b[0;34m\u001b[0m\u001b[0;34m\u001b[0m\u001b[0m\n",
            "\u001b[0;32m/usr/local/lib/python3.7/dist-packages/tensorflow/python/eager/function.py\u001b[0m in \u001b[0;36m_define_function_with_shape_relaxation\u001b[0;34m(self, args, kwargs, flat_args, filtered_flat_args, cache_key_context)\u001b[0m\n\u001b[1;32m   3380\u001b[0m \u001b[0;34m\u001b[0m\u001b[0m\n\u001b[1;32m   3381\u001b[0m     graph_function = self._create_graph_function(\n\u001b[0;32m-> 3382\u001b[0;31m         args, kwargs, override_flat_arg_shapes=relaxed_arg_shapes)\n\u001b[0m\u001b[1;32m   3383\u001b[0m     \u001b[0mself\u001b[0m\u001b[0;34m.\u001b[0m\u001b[0m_function_cache\u001b[0m\u001b[0;34m.\u001b[0m\u001b[0marg_relaxed\u001b[0m\u001b[0;34m[\u001b[0m\u001b[0mrank_only_cache_key\u001b[0m\u001b[0;34m]\u001b[0m \u001b[0;34m=\u001b[0m \u001b[0mgraph_function\u001b[0m\u001b[0;34m\u001b[0m\u001b[0;34m\u001b[0m\u001b[0m\n\u001b[1;32m   3384\u001b[0m \u001b[0;34m\u001b[0m\u001b[0m\n",
            "\u001b[0;32m/usr/local/lib/python3.7/dist-packages/tensorflow/python/eager/function.py\u001b[0m in \u001b[0;36m_create_graph_function\u001b[0;34m(self, args, kwargs, override_flat_arg_shapes)\u001b[0m\n\u001b[1;32m   3306\u001b[0m             \u001b[0marg_names\u001b[0m\u001b[0;34m=\u001b[0m\u001b[0marg_names\u001b[0m\u001b[0;34m,\u001b[0m\u001b[0;34m\u001b[0m\u001b[0;34m\u001b[0m\u001b[0m\n\u001b[1;32m   3307\u001b[0m             \u001b[0moverride_flat_arg_shapes\u001b[0m\u001b[0;34m=\u001b[0m\u001b[0moverride_flat_arg_shapes\u001b[0m\u001b[0;34m,\u001b[0m\u001b[0;34m\u001b[0m\u001b[0;34m\u001b[0m\u001b[0m\n\u001b[0;32m-> 3308\u001b[0;31m             capture_by_value=self._capture_by_value),\n\u001b[0m\u001b[1;32m   3309\u001b[0m         \u001b[0mself\u001b[0m\u001b[0;34m.\u001b[0m\u001b[0m_function_attributes\u001b[0m\u001b[0;34m,\u001b[0m\u001b[0;34m\u001b[0m\u001b[0;34m\u001b[0m\u001b[0m\n\u001b[1;32m   3310\u001b[0m         \u001b[0mfunction_spec\u001b[0m\u001b[0;34m=\u001b[0m\u001b[0mself\u001b[0m\u001b[0;34m.\u001b[0m\u001b[0mfunction_spec\u001b[0m\u001b[0;34m,\u001b[0m\u001b[0;34m\u001b[0m\u001b[0;34m\u001b[0m\u001b[0m\n",
            "\u001b[0;32m/usr/local/lib/python3.7/dist-packages/tensorflow/python/framework/func_graph.py\u001b[0m in \u001b[0;36mfunc_graph_from_py_func\u001b[0;34m(name, python_func, args, kwargs, signature, func_graph, autograph, autograph_options, add_control_dependencies, arg_names, op_return_value, collections, capture_by_value, override_flat_arg_shapes, acd_record_initial_resource_uses)\u001b[0m\n\u001b[1;32m   1005\u001b[0m         \u001b[0m_\u001b[0m\u001b[0;34m,\u001b[0m \u001b[0moriginal_func\u001b[0m \u001b[0;34m=\u001b[0m \u001b[0mtf_decorator\u001b[0m\u001b[0;34m.\u001b[0m\u001b[0munwrap\u001b[0m\u001b[0;34m(\u001b[0m\u001b[0mpython_func\u001b[0m\u001b[0;34m)\u001b[0m\u001b[0;34m\u001b[0m\u001b[0;34m\u001b[0m\u001b[0m\n\u001b[1;32m   1006\u001b[0m \u001b[0;34m\u001b[0m\u001b[0m\n\u001b[0;32m-> 1007\u001b[0;31m       \u001b[0mfunc_outputs\u001b[0m \u001b[0;34m=\u001b[0m \u001b[0mpython_func\u001b[0m\u001b[0;34m(\u001b[0m\u001b[0;34m*\u001b[0m\u001b[0mfunc_args\u001b[0m\u001b[0;34m,\u001b[0m \u001b[0;34m**\u001b[0m\u001b[0mfunc_kwargs\u001b[0m\u001b[0;34m)\u001b[0m\u001b[0;34m\u001b[0m\u001b[0;34m\u001b[0m\u001b[0m\n\u001b[0m\u001b[1;32m   1008\u001b[0m \u001b[0;34m\u001b[0m\u001b[0m\n\u001b[1;32m   1009\u001b[0m       \u001b[0;31m# invariant: `func_outputs` contains only Tensors, CompositeTensors,\u001b[0m\u001b[0;34m\u001b[0m\u001b[0;34m\u001b[0m\u001b[0;34m\u001b[0m\u001b[0m\n",
            "\u001b[0;32m/usr/local/lib/python3.7/dist-packages/tensorflow/python/eager/def_function.py\u001b[0m in \u001b[0;36mwrapped_fn\u001b[0;34m(*args, **kwds)\u001b[0m\n\u001b[1;32m    666\u001b[0m         \u001b[0;31m# the function a weak reference to itself to avoid a reference cycle.\u001b[0m\u001b[0;34m\u001b[0m\u001b[0;34m\u001b[0m\u001b[0;34m\u001b[0m\u001b[0m\n\u001b[1;32m    667\u001b[0m         \u001b[0;32mwith\u001b[0m \u001b[0mOptionalXlaContext\u001b[0m\u001b[0;34m(\u001b[0m\u001b[0mcompile_with_xla\u001b[0m\u001b[0;34m)\u001b[0m\u001b[0;34m:\u001b[0m\u001b[0;34m\u001b[0m\u001b[0;34m\u001b[0m\u001b[0m\n\u001b[0;32m--> 668\u001b[0;31m           \u001b[0mout\u001b[0m \u001b[0;34m=\u001b[0m \u001b[0mweak_wrapped_fn\u001b[0m\u001b[0;34m(\u001b[0m\u001b[0;34m)\u001b[0m\u001b[0;34m.\u001b[0m\u001b[0m__wrapped__\u001b[0m\u001b[0;34m(\u001b[0m\u001b[0;34m*\u001b[0m\u001b[0margs\u001b[0m\u001b[0;34m,\u001b[0m \u001b[0;34m**\u001b[0m\u001b[0mkwds\u001b[0m\u001b[0;34m)\u001b[0m\u001b[0;34m\u001b[0m\u001b[0;34m\u001b[0m\u001b[0m\n\u001b[0m\u001b[1;32m    669\u001b[0m         \u001b[0;32mreturn\u001b[0m \u001b[0mout\u001b[0m\u001b[0;34m\u001b[0m\u001b[0;34m\u001b[0m\u001b[0m\n\u001b[1;32m    670\u001b[0m \u001b[0;34m\u001b[0m\u001b[0m\n",
            "\u001b[0;32m/usr/local/lib/python3.7/dist-packages/tensorflow/python/framework/func_graph.py\u001b[0m in \u001b[0;36mwrapper\u001b[0;34m(*args, **kwargs)\u001b[0m\n\u001b[1;32m    992\u001b[0m           \u001b[0;32mexcept\u001b[0m \u001b[0mException\u001b[0m \u001b[0;32mas\u001b[0m \u001b[0me\u001b[0m\u001b[0;34m:\u001b[0m  \u001b[0;31m# pylint:disable=broad-except\u001b[0m\u001b[0;34m\u001b[0m\u001b[0;34m\u001b[0m\u001b[0m\n\u001b[1;32m    993\u001b[0m             \u001b[0;32mif\u001b[0m \u001b[0mhasattr\u001b[0m\u001b[0;34m(\u001b[0m\u001b[0me\u001b[0m\u001b[0;34m,\u001b[0m \u001b[0;34m\"ag_error_metadata\"\u001b[0m\u001b[0;34m)\u001b[0m\u001b[0;34m:\u001b[0m\u001b[0;34m\u001b[0m\u001b[0;34m\u001b[0m\u001b[0m\n\u001b[0;32m--> 994\u001b[0;31m               \u001b[0;32mraise\u001b[0m \u001b[0me\u001b[0m\u001b[0;34m.\u001b[0m\u001b[0mag_error_metadata\u001b[0m\u001b[0;34m.\u001b[0m\u001b[0mto_exception\u001b[0m\u001b[0;34m(\u001b[0m\u001b[0me\u001b[0m\u001b[0;34m)\u001b[0m\u001b[0;34m\u001b[0m\u001b[0;34m\u001b[0m\u001b[0m\n\u001b[0m\u001b[1;32m    995\u001b[0m             \u001b[0;32melse\u001b[0m\u001b[0;34m:\u001b[0m\u001b[0;34m\u001b[0m\u001b[0;34m\u001b[0m\u001b[0m\n\u001b[1;32m    996\u001b[0m               \u001b[0;32mraise\u001b[0m\u001b[0;34m\u001b[0m\u001b[0;34m\u001b[0m\u001b[0m\n",
            "\u001b[0;31mValueError\u001b[0m: in user code:\n\n    /usr/local/lib/python3.7/dist-packages/keras/engine/training.py:1330 test_function  *\n        return step_function(self, iterator)\n    /usr/local/lib/python3.7/dist-packages/keras/engine/training.py:1320 step_function  **\n        outputs = model.distribute_strategy.run(run_step, args=(data,))\n    /usr/local/lib/python3.7/dist-packages/tensorflow/python/distribute/distribute_lib.py:1286 run\n        return self._extended.call_for_each_replica(fn, args=args, kwargs=kwargs)\n    /usr/local/lib/python3.7/dist-packages/tensorflow/python/distribute/distribute_lib.py:2849 call_for_each_replica\n        return self._call_for_each_replica(fn, args, kwargs)\n    /usr/local/lib/python3.7/dist-packages/tensorflow/python/distribute/distribute_lib.py:3632 _call_for_each_replica\n        return fn(*args, **kwargs)\n    /usr/local/lib/python3.7/dist-packages/keras/engine/training.py:1313 run_step  **\n        outputs = model.test_step(data)\n    /usr/local/lib/python3.7/dist-packages/keras/engine/training.py:1270 test_step\n        y, y_pred, sample_weight, regularization_losses=self.losses)\n    /usr/local/lib/python3.7/dist-packages/keras/engine/compile_utils.py:201 __call__\n        loss_value = loss_obj(y_t, y_p, sample_weight=sw)\n    /usr/local/lib/python3.7/dist-packages/keras/losses.py:141 __call__\n        losses = call_fn(y_true, y_pred)\n    /usr/local/lib/python3.7/dist-packages/keras/losses.py:245 call  **\n        return ag_fn(y_true, y_pred, **self._fn_kwargs)\n    /usr/local/lib/python3.7/dist-packages/tensorflow/python/util/dispatch.py:206 wrapper\n        return target(*args, **kwargs)\n    /usr/local/lib/python3.7/dist-packages/keras/losses.py:1666 categorical_crossentropy\n        y_true, y_pred, from_logits=from_logits, axis=axis)\n    /usr/local/lib/python3.7/dist-packages/tensorflow/python/util/dispatch.py:206 wrapper\n        return target(*args, **kwargs)\n    /usr/local/lib/python3.7/dist-packages/keras/backend.py:4839 categorical_crossentropy\n        target.shape.assert_is_compatible_with(output.shape)\n    /usr/local/lib/python3.7/dist-packages/tensorflow/python/framework/tensor_shape.py:1161 assert_is_compatible_with\n        raise ValueError(\"Shapes %s and %s are incompatible\" % (self, other))\n\n    ValueError: Shapes (None, 77) and (None, 78) are incompatible\n"
          ]
        }
      ]
    },
    {
      "cell_type": "code",
      "metadata": {
        "id": "mgueMta2iDCO",
        "colab": {
          "base_uri": "https://localhost:8080/"
        },
        "outputId": "7d9f978e-4cdf-48ff-ce4a-866778f749d1"
      },
      "source": [
        "returned_history.history"
      ],
      "execution_count": null,
      "outputs": [
        {
          "output_type": "execute_result",
          "data": {
            "text/plain": [
              "{'val_loss': [0.5035257344817643,\n",
              "  0.4310805834389533,\n",
              "  0.39706229949401983,\n",
              "  0.42411727414211153,\n",
              "  0.4077531506985233,\n",
              "  0.40321258334226384,\n",
              "  0.42943673628889056,\n",
              "  0.43483962987244607,\n",
              "  0.4845301331430276,\n",
              "  0.4650332004206807],\n",
              " 'val_accuracy': [0.8568432927131653,\n",
              "  0.88181471824646,\n",
              "  0.8867708444595337,\n",
              "  0.886580228805542,\n",
              "  0.8940144777297974,\n",
              "  0.8964925408363342,\n",
              "  0.8907739520072937,\n",
              "  0.895348846912384,\n",
              "  0.8888677358627319,\n",
              "  0.8938238620758057],\n",
              " 'loss': [0.8317834391534145,\n",
              "  0.5919428705542961,\n",
              "  0.554838399786696,\n",
              "  0.5387479307339622,\n",
              "  0.5237933242430088,\n",
              "  0.5116659333691056,\n",
              "  0.5239955166739582,\n",
              "  0.5117973383151071,\n",
              "  0.5201408492517465,\n",
              "  0.5022770777706391],\n",
              " 'accuracy': [0.76146907,\n",
              "  0.82784766,\n",
              "  0.8392426,\n",
              "  0.8481383,\n",
              "  0.85489476,\n",
              "  0.85752106,\n",
              "  0.8566103,\n",
              "  0.8580506,\n",
              "  0.85709745,\n",
              "  0.861397]}"
            ]
          },
          "metadata": {
            "tags": []
          },
          "execution_count": 56
        }
      ]
    },
    {
      "cell_type": "code",
      "metadata": {
        "id": "q6XZfUqduqaG",
        "colab": {
          "base_uri": "https://localhost:8080/",
          "height": 282
        },
        "outputId": "70533964-120f-40df-c006-2d8cb3da887b"
      },
      "source": [
        "plt.plot(history_1.history['accuracy'])"
      ],
      "execution_count": 133,
      "outputs": [
        {
          "output_type": "execute_result",
          "data": {
            "text/plain": [
              "[<matplotlib.lines.Line2D at 0x7fd278fd9a10>]"
            ]
          },
          "metadata": {},
          "execution_count": 133
        },
        {
          "output_type": "display_data",
          "data": {
            "image/png": "[encoded data removed]",
            "text/plain": [
              "<Figure size 432x288 with 1 Axes>"
            ]
          },
          "metadata": {
            "needs_background": "light"
          }
        }
      ]
    },
    {
      "cell_type": "markdown",
      "metadata": {
        "id": "-KIeTSpXZ7x3"
      },
      "source": [
        "## HyperParameter set-2 for CNN"
      ]
    },
    {
      "cell_type": "code",
      "metadata": {
        "id": "wR635zCLuqSz"
      },
      "source": [
        "params1 = {\n",
        "    'dropout': (0.8),\n",
        "    'filters': (256),\n",
        "    'kernel_size': (7),\n",
        "    'strides': (1),\n",
        "    'pooling': GlobalMaxPooling1D(),  # MaxPool1D(), AveragePooling1D(), \n",
        "    'hidden_dims': (128),\n",
        "    'learning_rate': (0.01),\n",
        "    'batch_size': (100),\n",
        "    'optimizer': ('SGD')\n",
        "}\n",
        "loss = \"categorical_crossentropy\"\n",
        "epochs = 100"
      ],
      "execution_count": null,
      "outputs": []
    },
    {
      "cell_type": "code",
      "metadata": {
        "id": "90qJlaCHuqNa",
        "colab": {
          "base_uri": "https://localhost:8080/"
        },
        "outputId": "95bfaa8f-ad07-4651-9958-097d38df450e"
      },
      "source": [
        "returned_history1,returned_model1 = langIDCNN(X_train,y_train,X_val,y_val,params1)"
      ],
      "execution_count": null,
      "outputs": [
        {
          "output_type": "stream",
          "text": [
            "0.8\n",
            "Epoch 1/100\n",
            "471/471 [==============================] - 3s 7ms/step - loss: 2.4158 - accuracy: 0.3237 - val_loss: 2.2742 - val_accuracy: 0.3522\n",
            "Epoch 2/100\n",
            "471/471 [==============================] - 3s 6ms/step - loss: 2.1448 - accuracy: 0.3625 - val_loss: 2.1408 - val_accuracy: 0.3522\n",
            "Epoch 3/100\n",
            "471/471 [==============================] - 3s 6ms/step - loss: 2.0219 - accuracy: 0.4245 - val_loss: 2.0446 - val_accuracy: 0.3889\n",
            "Epoch 4/100\n",
            "471/471 [==============================] - 3s 6ms/step - loss: 1.9031 - accuracy: 0.4747 - val_loss: 1.9479 - val_accuracy: 0.4944\n",
            "Epoch 5/100\n",
            "471/471 [==============================] - 3s 6ms/step - loss: 1.8163 - accuracy: 0.4997 - val_loss: 1.8681 - val_accuracy: 0.5249\n",
            "Epoch 6/100\n",
            "471/471 [==============================] - 3s 6ms/step - loss: 1.7582 - accuracy: 0.5111 - val_loss: 1.7949 - val_accuracy: 0.5326\n",
            "Epoch 7/100\n",
            "471/471 [==============================] - 3s 6ms/step - loss: 1.7195 - accuracy: 0.5187 - val_loss: 1.7392 - val_accuracy: 0.5341\n",
            "Epoch 8/100\n",
            "471/471 [==============================] - 3s 6ms/step - loss: 1.6875 - accuracy: 0.5224 - val_loss: 1.6833 - val_accuracy: 0.5379\n",
            "Epoch 9/100\n",
            "471/471 [==============================] - 3s 6ms/step - loss: 1.6610 - accuracy: 0.5258 - val_loss: 1.6372 - val_accuracy: 0.5393\n",
            "Epoch 10/100\n",
            "471/471 [==============================] - 3s 6ms/step - loss: 1.6297 - accuracy: 0.5286 - val_loss: 1.5901 - val_accuracy: 0.5414\n",
            "Epoch 11/100\n",
            "471/471 [==============================] - 3s 6ms/step - loss: 1.5991 - accuracy: 0.5325 - val_loss: 1.5462 - val_accuracy: 0.5435\n",
            "Epoch 12/100\n",
            "471/471 [==============================] - 3s 6ms/step - loss: 1.5671 - accuracy: 0.5372 - val_loss: 1.4915 - val_accuracy: 0.5456\n",
            "Epoch 13/100\n",
            "471/471 [==============================] - 3s 6ms/step - loss: 1.5207 - accuracy: 0.5440 - val_loss: 1.4372 - val_accuracy: 0.5479\n",
            "Epoch 14/100\n",
            "471/471 [==============================] - 3s 6ms/step - loss: 1.4803 - accuracy: 0.5529 - val_loss: 1.3831 - val_accuracy: 0.5553\n",
            "Epoch 15/100\n",
            "471/471 [==============================] - 3s 6ms/step - loss: 1.4447 - accuracy: 0.5591 - val_loss: 1.3381 - val_accuracy: 0.5790\n",
            "Epoch 16/100\n",
            "471/471 [==============================] - 3s 6ms/step - loss: 1.4020 - accuracy: 0.5683 - val_loss: 1.2804 - val_accuracy: 0.5867\n",
            "Epoch 17/100\n",
            "471/471 [==============================] - 3s 6ms/step - loss: 1.3576 - accuracy: 0.5818 - val_loss: 1.2337 - val_accuracy: 0.5941\n",
            "Epoch 18/100\n",
            "471/471 [==============================] - 3s 6ms/step - loss: 1.3200 - accuracy: 0.5944 - val_loss: 1.2010 - val_accuracy: 0.6279\n",
            "Epoch 19/100\n",
            "471/471 [==============================] - 3s 6ms/step - loss: 1.2854 - accuracy: 0.6055 - val_loss: 1.1635 - val_accuracy: 0.6318\n",
            "Epoch 20/100\n",
            "471/471 [==============================] - 3s 6ms/step - loss: 1.2519 - accuracy: 0.6183 - val_loss: 1.1264 - val_accuracy: 0.6348\n",
            "Epoch 21/100\n",
            "471/471 [==============================] - 3s 6ms/step - loss: 1.2213 - accuracy: 0.6286 - val_loss: 1.0946 - val_accuracy: 0.6398\n",
            "Epoch 22/100\n",
            "471/471 [==============================] - 3s 6ms/step - loss: 1.1957 - accuracy: 0.6365 - val_loss: 1.0682 - val_accuracy: 0.6491\n",
            "Epoch 23/100\n",
            "471/471 [==============================] - 3s 6ms/step - loss: 1.1727 - accuracy: 0.6440 - val_loss: 1.0482 - val_accuracy: 0.6516\n",
            "Epoch 24/100\n",
            "471/471 [==============================] - 3s 6ms/step - loss: 1.1449 - accuracy: 0.6533 - val_loss: 1.0249 - val_accuracy: 0.6604\n",
            "Epoch 25/100\n",
            "471/471 [==============================] - 3s 6ms/step - loss: 1.1360 - accuracy: 0.6563 - val_loss: 1.0072 - val_accuracy: 0.6679\n",
            "Epoch 26/100\n",
            "471/471 [==============================] - 3s 6ms/step - loss: 1.1127 - accuracy: 0.6667 - val_loss: 0.9890 - val_accuracy: 0.6778\n",
            "Epoch 27/100\n",
            "471/471 [==============================] - 3s 6ms/step - loss: 1.0975 - accuracy: 0.6695 - val_loss: 0.9763 - val_accuracy: 0.6839\n",
            "Epoch 28/100\n",
            "471/471 [==============================] - 3s 6ms/step - loss: 1.0858 - accuracy: 0.6739 - val_loss: 0.9582 - val_accuracy: 0.6858\n",
            "Epoch 29/100\n",
            "471/471 [==============================] - 3s 6ms/step - loss: 1.0638 - accuracy: 0.6807 - val_loss: 0.9452 - val_accuracy: 0.6920\n",
            "Epoch 30/100\n",
            "471/471 [==============================] - 3s 6ms/step - loss: 1.0572 - accuracy: 0.6845 - val_loss: 0.9379 - val_accuracy: 0.7027\n",
            "Epoch 31/100\n",
            "471/471 [==============================] - 3s 6ms/step - loss: 1.0433 - accuracy: 0.6891 - val_loss: 0.9235 - val_accuracy: 0.7023\n",
            "Epoch 32/100\n",
            "471/471 [==============================] - 3s 6ms/step - loss: 1.0340 - accuracy: 0.6910 - val_loss: 0.9156 - val_accuracy: 0.7122\n",
            "Epoch 33/100\n",
            "471/471 [==============================] - 3s 6ms/step - loss: 1.0238 - accuracy: 0.6968 - val_loss: 0.9053 - val_accuracy: 0.7178\n",
            "Epoch 34/100\n",
            "471/471 [==============================] - 3s 6ms/step - loss: 1.0115 - accuracy: 0.7016 - val_loss: 0.8932 - val_accuracy: 0.7269\n",
            "Epoch 35/100\n",
            "471/471 [==============================] - 3s 6ms/step - loss: 1.0006 - accuracy: 0.7055 - val_loss: 0.8819 - val_accuracy: 0.7313\n",
            "Epoch 36/100\n",
            "471/471 [==============================] - 3s 6ms/step - loss: 0.9902 - accuracy: 0.7089 - val_loss: 0.8735 - val_accuracy: 0.7355\n",
            "Epoch 37/100\n",
            "471/471 [==============================] - 3s 6ms/step - loss: 0.9807 - accuracy: 0.7150 - val_loss: 0.8679 - val_accuracy: 0.7357\n",
            "Epoch 38/100\n",
            "471/471 [==============================] - 3s 6ms/step - loss: 0.9756 - accuracy: 0.7159 - val_loss: 0.8630 - val_accuracy: 0.7371\n",
            "Epoch 39/100\n",
            "471/471 [==============================] - 3s 6ms/step - loss: 0.9655 - accuracy: 0.7180 - val_loss: 0.8553 - val_accuracy: 0.7413\n",
            "Epoch 40/100\n",
            "471/471 [==============================] - 3s 6ms/step - loss: 0.9575 - accuracy: 0.7211 - val_loss: 0.8466 - val_accuracy: 0.7420\n",
            "Epoch 41/100\n",
            "471/471 [==============================] - 3s 6ms/step - loss: 0.9550 - accuracy: 0.7207 - val_loss: 0.8368 - val_accuracy: 0.7437\n",
            "Epoch 42/100\n",
            "471/471 [==============================] - 3s 6ms/step - loss: 0.9403 - accuracy: 0.7249 - val_loss: 0.8307 - val_accuracy: 0.7441\n",
            "Epoch 43/100\n",
            "471/471 [==============================] - 3s 6ms/step - loss: 0.9363 - accuracy: 0.7268 - val_loss: 0.8225 - val_accuracy: 0.7455\n",
            "Epoch 44/100\n",
            "471/471 [==============================] - 3s 6ms/step - loss: 0.9243 - accuracy: 0.7298 - val_loss: 0.8163 - val_accuracy: 0.7474\n",
            "Epoch 45/100\n",
            "471/471 [==============================] - 3s 6ms/step - loss: 0.9252 - accuracy: 0.7324 - val_loss: 0.8103 - val_accuracy: 0.7466\n",
            "Epoch 46/100\n",
            "471/471 [==============================] - 3s 6ms/step - loss: 0.9139 - accuracy: 0.7346 - val_loss: 0.8044 - val_accuracy: 0.7476\n",
            "Epoch 47/100\n",
            "471/471 [==============================] - 3s 6ms/step - loss: 0.9088 - accuracy: 0.7370 - val_loss: 0.7974 - val_accuracy: 0.7493\n",
            "Epoch 48/100\n",
            "471/471 [==============================] - 3s 6ms/step - loss: 0.9094 - accuracy: 0.7361 - val_loss: 0.7893 - val_accuracy: 0.7525\n",
            "Epoch 49/100\n",
            "471/471 [==============================] - 3s 6ms/step - loss: 0.8978 - accuracy: 0.7377 - val_loss: 0.7851 - val_accuracy: 0.7544\n",
            "Epoch 50/100\n",
            "471/471 [==============================] - 3s 6ms/step - loss: 0.9018 - accuracy: 0.7381 - val_loss: 0.7825 - val_accuracy: 0.7535\n",
            "Epoch 51/100\n",
            "471/471 [==============================] - 3s 6ms/step - loss: 0.8903 - accuracy: 0.7426 - val_loss: 0.7788 - val_accuracy: 0.7560\n",
            "Epoch 52/100\n",
            "471/471 [==============================] - 3s 6ms/step - loss: 0.8876 - accuracy: 0.7418 - val_loss: 0.7718 - val_accuracy: 0.7600\n",
            "Epoch 53/100\n",
            "471/471 [==============================] - 3s 6ms/step - loss: 0.8810 - accuracy: 0.7415 - val_loss: 0.7728 - val_accuracy: 0.7565\n",
            "Epoch 54/100\n",
            "471/471 [==============================] - 3s 6ms/step - loss: 0.8728 - accuracy: 0.7451 - val_loss: 0.7653 - val_accuracy: 0.7590\n",
            "Epoch 55/100\n",
            "471/471 [==============================] - 3s 6ms/step - loss: 0.8687 - accuracy: 0.7446 - val_loss: 0.7531 - val_accuracy: 0.7629\n",
            "Epoch 56/100\n",
            "471/471 [==============================] - 3s 6ms/step - loss: 0.8634 - accuracy: 0.7471 - val_loss: 0.7539 - val_accuracy: 0.7659\n",
            "Epoch 57/100\n",
            "471/471 [==============================] - 3s 6ms/step - loss: 0.8612 - accuracy: 0.7474 - val_loss: 0.7430 - val_accuracy: 0.7707\n",
            "Epoch 58/100\n",
            "471/471 [==============================] - 3s 6ms/step - loss: 0.8569 - accuracy: 0.7506 - val_loss: 0.7469 - val_accuracy: 0.7659\n",
            "Epoch 59/100\n",
            "471/471 [==============================] - 3s 6ms/step - loss: 0.8507 - accuracy: 0.7511 - val_loss: 0.7404 - val_accuracy: 0.7701\n",
            "Epoch 60/100\n",
            "471/471 [==============================] - 3s 6ms/step - loss: 0.8466 - accuracy: 0.7520 - val_loss: 0.7410 - val_accuracy: 0.7684\n",
            "Epoch 61/100\n",
            "471/471 [==============================] - 3s 6ms/step - loss: 0.8471 - accuracy: 0.7527 - val_loss: 0.7274 - val_accuracy: 0.7734\n",
            "Epoch 62/100\n",
            "471/471 [==============================] - 3s 6ms/step - loss: 0.8403 - accuracy: 0.7533 - val_loss: 0.7295 - val_accuracy: 0.7718\n",
            "Epoch 63/100\n",
            "471/471 [==============================] - 3s 6ms/step - loss: 0.8388 - accuracy: 0.7545 - val_loss: 0.7268 - val_accuracy: 0.7722\n",
            "Epoch 64/100\n",
            "471/471 [==============================] - 3s 6ms/step - loss: 0.8304 - accuracy: 0.7557 - val_loss: 0.7208 - val_accuracy: 0.7737\n",
            "Epoch 65/100\n",
            "471/471 [==============================] - 3s 6ms/step - loss: 0.8314 - accuracy: 0.7581 - val_loss: 0.7195 - val_accuracy: 0.7751\n",
            "Epoch 66/100\n",
            "471/471 [==============================] - 3s 6ms/step - loss: 0.8272 - accuracy: 0.7568 - val_loss: 0.7107 - val_accuracy: 0.7781\n",
            "Epoch 67/100\n",
            "471/471 [==============================] - 3s 6ms/step - loss: 0.8237 - accuracy: 0.7585 - val_loss: 0.7082 - val_accuracy: 0.7802\n",
            "Epoch 68/100\n",
            "471/471 [==============================] - 3s 6ms/step - loss: 0.8217 - accuracy: 0.7592 - val_loss: 0.7081 - val_accuracy: 0.7791\n",
            "Epoch 69/100\n",
            "471/471 [==============================] - 3s 6ms/step - loss: 0.8203 - accuracy: 0.7595 - val_loss: 0.7062 - val_accuracy: 0.7793\n",
            "Epoch 70/100\n",
            "471/471 [==============================] - 3s 6ms/step - loss: 0.8153 - accuracy: 0.7613 - val_loss: 0.6997 - val_accuracy: 0.7835\n",
            "Epoch 71/100\n",
            "471/471 [==============================] - 3s 6ms/step - loss: 0.8088 - accuracy: 0.7634 - val_loss: 0.6951 - val_accuracy: 0.7848\n",
            "Epoch 72/100\n",
            "471/471 [==============================] - 3s 6ms/step - loss: 0.8133 - accuracy: 0.7628 - val_loss: 0.6951 - val_accuracy: 0.7844\n",
            "Epoch 73/100\n",
            "471/471 [==============================] - 3s 6ms/step - loss: 0.8064 - accuracy: 0.7644 - val_loss: 0.6928 - val_accuracy: 0.7862\n",
            "Epoch 74/100\n",
            "471/471 [==============================] - 3s 6ms/step - loss: 0.8035 - accuracy: 0.7645 - val_loss: 0.6903 - val_accuracy: 0.7875\n",
            "Epoch 75/100\n",
            "471/471 [==============================] - 3s 6ms/step - loss: 0.8021 - accuracy: 0.7646 - val_loss: 0.6878 - val_accuracy: 0.7865\n",
            "Epoch 76/100\n",
            "471/471 [==============================] - 3s 6ms/step - loss: 0.7956 - accuracy: 0.7662 - val_loss: 0.6755 - val_accuracy: 0.7936\n",
            "Epoch 77/100\n",
            "471/471 [==============================] - 3s 6ms/step - loss: 0.7962 - accuracy: 0.7658 - val_loss: 0.6798 - val_accuracy: 0.7906\n",
            "Epoch 78/100\n",
            "471/471 [==============================] - 3s 6ms/step - loss: 0.7928 - accuracy: 0.7669 - val_loss: 0.6717 - val_accuracy: 0.7946\n",
            "Epoch 79/100\n",
            "471/471 [==============================] - 3s 6ms/step - loss: 0.7922 - accuracy: 0.7680 - val_loss: 0.6751 - val_accuracy: 0.7940\n",
            "Epoch 80/100\n",
            "471/471 [==============================] - 3s 6ms/step - loss: 0.7863 - accuracy: 0.7699 - val_loss: 0.6657 - val_accuracy: 0.7969\n",
            "Epoch 81/100\n",
            "471/471 [==============================] - 3s 6ms/step - loss: 0.7862 - accuracy: 0.7686 - val_loss: 0.6793 - val_accuracy: 0.7923\n",
            "Epoch 82/100\n",
            "471/471 [==============================] - 3s 6ms/step - loss: 0.7830 - accuracy: 0.7696 - val_loss: 0.6682 - val_accuracy: 0.7994\n",
            "Epoch 83/100\n",
            "471/471 [==============================] - 3s 6ms/step - loss: 0.7826 - accuracy: 0.7702 - val_loss: 0.6637 - val_accuracy: 0.7986\n",
            "Epoch 84/100\n",
            "471/471 [==============================] - 3s 6ms/step - loss: 0.7775 - accuracy: 0.7718 - val_loss: 0.6574 - val_accuracy: 0.8032\n",
            "Epoch 85/100\n",
            "471/471 [==============================] - 3s 6ms/step - loss: 0.7751 - accuracy: 0.7733 - val_loss: 0.6550 - val_accuracy: 0.8062\n",
            "Epoch 86/100\n",
            "471/471 [==============================] - 3s 6ms/step - loss: 0.7776 - accuracy: 0.7716 - val_loss: 0.6474 - val_accuracy: 0.8072\n",
            "Epoch 87/100\n",
            "471/471 [==============================] - 3s 6ms/step - loss: 0.7739 - accuracy: 0.7717 - val_loss: 0.6529 - val_accuracy: 0.8036\n",
            "Epoch 88/100\n",
            "471/471 [==============================] - 3s 6ms/step - loss: 0.7691 - accuracy: 0.7735 - val_loss: 0.6553 - val_accuracy: 0.8020\n",
            "Epoch 89/100\n",
            "471/471 [==============================] - 3s 6ms/step - loss: 0.7665 - accuracy: 0.7751 - val_loss: 0.6475 - val_accuracy: 0.8058\n",
            "Epoch 90/100\n",
            "471/471 [==============================] - 3s 6ms/step - loss: 0.7678 - accuracy: 0.7755 - val_loss: 0.6488 - val_accuracy: 0.8057\n",
            "Epoch 91/100\n",
            "471/471 [==============================] - 3s 6ms/step - loss: 0.7674 - accuracy: 0.7767 - val_loss: 0.6423 - val_accuracy: 0.8078\n",
            "Epoch 92/100\n",
            "471/471 [==============================] - 3s 6ms/step - loss: 0.7600 - accuracy: 0.7764 - val_loss: 0.6357 - val_accuracy: 0.8097\n",
            "Epoch 93/100\n",
            "471/471 [==============================] - 3s 6ms/step - loss: 0.7595 - accuracy: 0.7761 - val_loss: 0.6474 - val_accuracy: 0.8051\n",
            "Epoch 94/100\n",
            "471/471 [==============================] - 3s 6ms/step - loss: 0.7580 - accuracy: 0.7763 - val_loss: 0.6294 - val_accuracy: 0.8106\n",
            "Epoch 95/100\n",
            "471/471 [==============================] - 3s 6ms/step - loss: 0.7530 - accuracy: 0.7780 - val_loss: 0.6345 - val_accuracy: 0.8076\n",
            "Epoch 96/100\n",
            "471/471 [==============================] - 3s 6ms/step - loss: 0.7550 - accuracy: 0.7793 - val_loss: 0.6277 - val_accuracy: 0.8122\n",
            "Epoch 97/100\n",
            "471/471 [==============================] - 3s 6ms/step - loss: 0.7507 - accuracy: 0.7816 - val_loss: 0.6294 - val_accuracy: 0.8093\n",
            "Epoch 98/100\n",
            "471/471 [==============================] - 3s 6ms/step - loss: 0.7467 - accuracy: 0.7804 - val_loss: 0.6265 - val_accuracy: 0.8101\n",
            "Epoch 99/100\n",
            "471/471 [==============================] - 3s 6ms/step - loss: 0.7468 - accuracy: 0.7798 - val_loss: 0.6144 - val_accuracy: 0.8190\n",
            "Epoch 100/100\n",
            "471/471 [==============================] - 3s 6ms/step - loss: 0.7402 - accuracy: 0.7811 - val_loss: 0.6127 - val_accuracy: 0.8187\n"
          ],
          "name": "stdout"
        }
      ]
    },
    {
      "cell_type": "markdown",
      "metadata": {
        "id": "FnatvEDaZ7x6"
      },
      "source": [
        "## Evaluation of set 2"
      ]
    },
    {
      "cell_type": "code",
      "metadata": {
        "id": "V_mjS6aAuqID",
        "colab": {
          "base_uri": "https://localhost:8080/"
        },
        "outputId": "e9ac9749-e9d1-4fbe-8b2b-2c7f12e42eb6"
      },
      "source": [
        "returned_model1.evaluate(test_data,test_classes_categorical)"
      ],
      "execution_count": null,
      "outputs": [
        {
          "output_type": "stream",
          "text": [
            "52460/52460 [==============================] - 4s 79us/step\n"
          ],
          "name": "stdout"
        },
        {
          "output_type": "execute_result",
          "data": {
            "text/plain": [
              "[1.1007603782656243, 0.6905070543289185]"
            ]
          },
          "metadata": {
            "tags": []
          },
          "execution_count": 60
        }
      ]
    },
    {
      "cell_type": "markdown",
      "metadata": {
        "id": "mvVzIvfjZ7x8"
      },
      "source": [
        "## HyperParameter set-3 for CNN"
      ]
    },
    {
      "cell_type": "code",
      "metadata": {
        "id": "yMcPxBV6uqAt"
      },
      "source": [
        "params2 = {\n",
        "    'dropout': (0.1),\n",
        "    'filters': (512),\n",
        "    'kernel_size': (3),\n",
        "    'strides': (2),\n",
        "    'pooling': GlobalMaxPooling1D(),  # MaxPool1D(), AveragePooling1D(), \n",
        "    'hidden_dims': (128),\n",
        "    'learning_rate': (0.01),\n",
        "    'batch_size': (75),\n",
        "    'optimizer': ('adam')\n",
        "}\n",
        "loss = \"categorical_crossentropy\"\n",
        "epochs = 100"
      ],
      "execution_count": 134,
      "outputs": []
    },
    {
      "cell_type": "code",
      "metadata": {
        "id": "efNFrHJHup2E",
        "colab": {
          "base_uri": "https://localhost:8080/",
          "height": 158
        },
        "outputId": "dc2fcae2-ccad-4eb3-9cf5-2759660d5d5f"
      },
      "source": [
        "returned_history2,returned_model2 = langIDCNN(X_train,y_train,X_val,y_val,params2)"
      ],
      "execution_count": 135,
      "outputs": [
        {
          "output_type": "error",
          "ename": "NameError",
          "evalue": "ignored",
          "traceback": [
            "\u001b[0;31m---------------------------------------------------------------------------\u001b[0m",
            "\u001b[0;31mNameError\u001b[0m                                 Traceback (most recent call last)",
            "\u001b[0;32m<ipython-input-135-893aeb8fa5a5>\u001b[0m in \u001b[0;36m<module>\u001b[0;34m()\u001b[0m\n\u001b[0;32m----> 1\u001b[0;31m \u001b[0mreturned_history2\u001b[0m\u001b[0;34m,\u001b[0m\u001b[0mreturned_model2\u001b[0m \u001b[0;34m=\u001b[0m \u001b[0mlangIDCNN\u001b[0m\u001b[0;34m(\u001b[0m\u001b[0mX_train\u001b[0m\u001b[0;34m,\u001b[0m\u001b[0my_train\u001b[0m\u001b[0;34m,\u001b[0m\u001b[0mX_val\u001b[0m\u001b[0;34m,\u001b[0m\u001b[0my_val\u001b[0m\u001b[0;34m,\u001b[0m\u001b[0mparams2\u001b[0m\u001b[0;34m)\u001b[0m\u001b[0;34m\u001b[0m\u001b[0;34m\u001b[0m\u001b[0m\n\u001b[0m",
            "\u001b[0;31mNameError\u001b[0m: name 'X_val' is not defined"
          ]
        }
      ]
    },
    {
      "cell_type": "markdown",
      "metadata": {
        "id": "ald7T2XWZ7x_"
      },
      "source": [
        "## Evaluation of set-3"
      ]
    },
    {
      "cell_type": "code",
      "metadata": {
        "id": "Eihvx50SulgH",
        "colab": {
          "base_uri": "https://localhost:8080/"
        },
        "outputId": "3b7b5187-70fe-4da1-ed21-caf7e0415e1d"
      },
      "source": [
        "returned_model2.evaluate(test_data,test_classes_categorical)"
      ],
      "execution_count": null,
      "outputs": [
        {
          "output_type": "stream",
          "text": [
            "52460/52460 [==============================] - 4s 84us/step\n"
          ],
          "name": "stdout"
        },
        {
          "output_type": "execute_result",
          "data": {
            "text/plain": [
              "[0.22429007608204007, 0.9346930980682373]"
            ]
          },
          "metadata": {
            "tags": []
          },
          "execution_count": 63
        }
      ]
    },
    {
      "cell_type": "markdown",
      "metadata": {
        "id": "hEVianPSZ7yA"
      },
      "source": [
        "## HyperParameter set-4 for CNN"
      ]
    },
    {
      "cell_type": "code",
      "metadata": {
        "id": "pGYoB2ylul9S"
      },
      "source": [
        "params3 = {\n",
        "    'dropout': (0.6),\n",
        "    'filters': (128),\n",
        "    'kernel_size': (5),\n",
        "    'strides': (1),\n",
        "    'pooling': GlobalMaxPooling1D(),  # MaxPool1D(), AveragePooling1D(), \n",
        "    'hidden_dims': (256),\n",
        "    'learning_rate': (0.1),\n",
        "    'batch_size': (50),\n",
        "    'optimizer': ('adam')\n",
        "}\n",
        "loss = \"categorical_crossentropy\"\n",
        "epochs = 100"
      ],
      "execution_count": null,
      "outputs": []
    },
    {
      "cell_type": "code",
      "metadata": {
        "id": "jQn8mCPaumkn",
        "colab": {
          "base_uri": "https://localhost:8080/"
        },
        "outputId": "a9eb9658-b680-4e61-d093-56227f120264"
      },
      "source": [
        "returned_history3,returned_model3 = langIDCNN(X_train,y_train,X_val,y_val,params3)"
      ],
      "execution_count": null,
      "outputs": [
        {
          "output_type": "stream",
          "text": [
            "0.6\n",
            "Epoch 1/100\n",
            "942/942 [==============================] - 7s 7ms/step - loss: 2.2702 - accuracy: 0.3689 - val_loss: 2.0267 - val_accuracy: 0.3522\n",
            "Epoch 2/100\n",
            "942/942 [==============================] - 6s 6ms/step - loss: 2.0459 - accuracy: 0.3539 - val_loss: 2.0238 - val_accuracy: 0.3522\n",
            "Epoch 3/100\n",
            "942/942 [==============================] - 6s 7ms/step - loss: 2.0448 - accuracy: 0.3539 - val_loss: 2.0301 - val_accuracy: 0.3522\n",
            "Epoch 4/100\n",
            "942/942 [==============================] - 6s 7ms/step - loss: 2.0447 - accuracy: 0.3539 - val_loss: 2.0264 - val_accuracy: 0.3522\n",
            "Epoch 5/100\n",
            "942/942 [==============================] - 6s 6ms/step - loss: 2.0451 - accuracy: 0.3534 - val_loss: 2.0250 - val_accuracy: 0.3522\n",
            "Epoch 6/100\n",
            "942/942 [==============================] - 6s 6ms/step - loss: 2.0453 - accuracy: 0.3539 - val_loss: 2.0314 - val_accuracy: 0.3522\n",
            "Epoch 7/100\n",
            "942/942 [==============================] - 6s 6ms/step - loss: 2.0443 - accuracy: 0.3539 - val_loss: 2.0281 - val_accuracy: 0.3522\n",
            "Epoch 8/100\n",
            "942/942 [==============================] - 6s 6ms/step - loss: 2.0458 - accuracy: 0.3539 - val_loss: 2.0300 - val_accuracy: 0.3522\n",
            "Epoch 9/100\n",
            "942/942 [==============================] - 6s 6ms/step - loss: 2.0450 - accuracy: 0.3539 - val_loss: 2.0311 - val_accuracy: 0.3522\n",
            "Epoch 00009: early stopping\n"
          ],
          "name": "stdout"
        }
      ]
    },
    {
      "cell_type": "markdown",
      "metadata": {
        "id": "mqfn_tUAZ7yD"
      },
      "source": [
        "## Evaluation of set-4"
      ]
    },
    {
      "cell_type": "code",
      "metadata": {
        "id": "XRkEoCRpumqN",
        "colab": {
          "base_uri": "https://localhost:8080/"
        },
        "outputId": "a2a6e5fa-6719-4eef-c619-d6c1a7820644"
      },
      "source": [
        "returned_model3.evaluate(test_data,test_classes_categorical)"
      ],
      "execution_count": null,
      "outputs": [
        {
          "output_type": "stream",
          "text": [
            "52460/52460 [==============================] - 3s 65us/step\n"
          ],
          "name": "stdout"
        },
        {
          "output_type": "execute_result",
          "data": {
            "text/plain": [
              "[0.47139752954150216, 0.8708158731460571]"
            ]
          },
          "metadata": {
            "tags": []
          },
          "execution_count": 66
        }
      ]
    },
    {
      "cell_type": "markdown",
      "metadata": {
        "id": "6ppJsLIgZ7yF"
      },
      "source": [
        "## HyperParameter set-5 for CNN"
      ]
    },
    {
      "cell_type": "code",
      "metadata": {
        "id": "B_vkd9TKZ7yF"
      },
      "source": [
        "params4 = {\n",
        "    'dropout': (0.9),\n",
        "    'filters': (512),\n",
        "    'kernel_size': (5),\n",
        "    'strides': (1),\n",
        "    'pooling': GlobalMaxPooling1D(),  # MaxPool1D(), AveragePooling1D(), \n",
        "    'hidden_dims': (256),\n",
        "    'learning_rate': (0.01),\n",
        "    'batch_size': (100),\n",
        "    'optimizer': ('adam')\n",
        "}\n",
        "loss = \"categorical_crossentropy\"\n",
        "epochs = 100"
      ],
      "execution_count": null,
      "outputs": []
    },
    {
      "cell_type": "code",
      "metadata": {
        "id": "w7ycHv2cZ7yH",
        "colab": {
          "base_uri": "https://localhost:8080/"
        },
        "outputId": "3bd6ccee-0a3b-405b-a4f3-8fa7377da2b9"
      },
      "source": [
        "returned_history4,returned_model4 = langIDCNN(X_train,y_train,X_val,y_val,params4)"
      ],
      "execution_count": null,
      "outputs": [
        {
          "output_type": "stream",
          "text": [
            "0.9\n",
            "Epoch 1/100\n",
            "471/471 [==============================] - 4s 10ms/step - loss: 1.8866 - accuracy: 0.4684 - val_loss: 1.6438 - val_accuracy: 0.5498\n",
            "Epoch 2/100\n",
            "471/471 [==============================] - 4s 9ms/step - loss: 1.9412 - accuracy: 0.4193 - val_loss: 1.6773 - val_accuracy: 0.5469\n",
            "Epoch 3/100\n",
            "471/471 [==============================] - 4s 9ms/step - loss: 1.9551 - accuracy: 0.4031 - val_loss: 1.6814 - val_accuracy: 0.5460\n",
            "Epoch 4/100\n",
            "471/471 [==============================] - 4s 9ms/step - loss: 2.0148 - accuracy: 0.3872 - val_loss: 1.6935 - val_accuracy: 0.5486\n",
            "Epoch 5/100\n",
            "471/471 [==============================] - 4s 9ms/step - loss: 2.0053 - accuracy: 0.3720 - val_loss: 1.7025 - val_accuracy: 0.5486\n",
            "Epoch 6/100\n",
            "471/471 [==============================] - 4s 9ms/step - loss: 2.0040 - accuracy: 0.3728 - val_loss: 1.6994 - val_accuracy: 0.5486\n",
            "Epoch 7/100\n",
            "471/471 [==============================] - 4s 9ms/step - loss: 2.0128 - accuracy: 0.3694 - val_loss: 1.6942 - val_accuracy: 0.5460\n",
            "Epoch 8/100\n",
            "471/471 [==============================] - 4s 9ms/step - loss: 2.0102 - accuracy: 0.3691 - val_loss: 1.6992 - val_accuracy: 0.5431\n",
            "Epoch 00008: early stopping\n"
          ],
          "name": "stdout"
        }
      ]
    },
    {
      "cell_type": "markdown",
      "metadata": {
        "id": "sv8YLUxRZ7yI"
      },
      "source": [
        "## Evaluation of set-5"
      ]
    },
    {
      "cell_type": "code",
      "metadata": {
        "id": "3mqaX1uMZ7yJ",
        "colab": {
          "base_uri": "https://localhost:8080/"
        },
        "outputId": "e6506ba6-b38e-48f2-dc8d-f0cc449b1b8f"
      },
      "source": [
        "returned_model4.evaluate(test_data,test_classes_categorical)"
      ],
      "execution_count": null,
      "outputs": [
        {
          "output_type": "stream",
          "text": [
            "1636/1636 [==============================] - 4s 3ms/step - loss: 1.6849 - accuracy: 0.5434\n"
          ],
          "name": "stdout"
        },
        {
          "output_type": "execute_result",
          "data": {
            "text/plain": [
              "[1.6848516464233398, 0.543430507183075]"
            ]
          },
          "metadata": {
            "tags": []
          },
          "execution_count": 54
        }
      ]
    },
    {
      "cell_type": "markdown",
      "metadata": {
        "id": "cin_rKMo1Kn8"
      },
      "source": [
        "## Talos for GridSearch\n"
      ]
    },
    {
      "cell_type": "code",
      "metadata": {
        "id": "V0OSh0xG2QKX"
      },
      "source": [
        "params = {\n",
        "    'dropout': [0.1, 0.5],\n",
        "    'filters': [512, 216],\n",
        "    'kernel_size': [3,7],\n",
        "    'strides': [1,2],\n",
        "    'pooling': [GlobalMaxPooling1D()],  # MaxPool1D(), AveragePooling1D(), \n",
        "    'hidden_dims': [128,256],\n",
        "    'learning_rate': [0.01, 0.001],\n",
        "    'batch_size': [64, 128],\n",
        "    'optimizer': ['adam','SGD']\n",
        "}\n",
        "loss = \"categorical_crossentropy\"\n",
        "epochs = 100"
      ],
      "execution_count": 136,
      "outputs": []
    },
    {
      "cell_type": "code",
      "metadata": {
        "id": "vmWtXv0J6TFf"
      },
      "source": [
        "verbose = 0"
      ],
      "execution_count": 137,
      "outputs": []
    },
    {
      "cell_type": "code",
      "metadata": {
        "id": "u5DnZgYe5_G3",
        "scrolled": false,
        "colab": {
          "base_uri": "https://localhost:8080/"
        },
        "outputId": "380f93d0-fa91-4341-f825-339ac950ce95"
      },
      "source": [
        "t = talos.Scan(x=X_train_pad,\n",
        "               y=y_train_cat,\n",
        "               x_val =X_val_pad,\n",
        "               y_val =y_val_cat,\n",
        "               model=langIDCNN,\n",
        "               params=params,\n",
        "               experiment_name = \"oihoihoih\")\n"
      ],
      "execution_count": null,
      "outputs": [
        {
          "output_type": "stream",
          "name": "stderr",
          "text": [
            "\n",
            "  0%|          | 0/256 [00:00<?, ?it/s]\u001b[A"
          ]
        },
        {
          "output_type": "stream",
          "name": "stdout",
          "text": [
            "0.1\n",
            "Epoch 00011: early stopping\n"
          ]
        },
        {
          "output_type": "stream",
          "name": "stderr",
          "text": [
            "\r  1%|          | 2/256 [06:30<13:45:56, 195.11s/it]\n",
            "\n",
            "  0%|          | 1/256 [00:39<2:47:18, 39.37s/it]\u001b[A"
          ]
        },
        {
          "output_type": "stream",
          "name": "stdout",
          "text": [
            "0.1\n",
            "Epoch 00012: early stopping\n"
          ]
        },
        {
          "output_type": "stream",
          "name": "stderr",
          "text": [
            "\n",
            "  1%|          | 2/256 [02:02<4:34:29, 64.84s/it]\u001b[A"
          ]
        },
        {
          "output_type": "stream",
          "name": "stdout",
          "text": [
            "0.1\n"
          ]
        },
        {
          "output_type": "stream",
          "name": "stderr",
          "text": [
            "\n",
            "  1%|          | 3/256 [06:48<11:39:39, 165.93s/it]\u001b[A"
          ]
        },
        {
          "output_type": "stream",
          "name": "stdout",
          "text": [
            "0.1\n"
          ]
        }
      ]
    },
    {
      "cell_type": "markdown",
      "metadata": {
        "id": "8qRT_sy7Z7yN"
      },
      "source": [
        "##### Summary of parameter combinations and the respective losses"
      ]
    },
    {
      "cell_type": "code",
      "metadata": {
        "id": "07wNjU0xe2Gy",
        "outputId": "af01c5fc-5d5e-4f95-94ef-7d8aee441052"
      },
      "source": [
        "# summary of talos parameter combinations\n",
        "t.data"
      ],
      "execution_count": null,
      "outputs": [
        {
          "output_type": "execute_result",
          "data": {
            "text/html": [
              "<div>\n",
              "<style scoped>\n",
              "    .dataframe tbody tr th:only-of-type {\n",
              "        vertical-align: middle;\n",
              "    }\n",
              "\n",
              "    .dataframe tbody tr th {\n",
              "        vertical-align: top;\n",
              "    }\n",
              "\n",
              "    .dataframe thead th {\n",
              "        text-align: right;\n",
              "    }\n",
              "</style>\n",
              "<table border=\"1\" class=\"dataframe\">\n",
              "  <thead>\n",
              "    <tr style=\"text-align: right;\">\n",
              "      <th></th>\n",
              "      <th>start</th>\n",
              "      <th>end</th>\n",
              "      <th>duration</th>\n",
              "      <th>round_epochs</th>\n",
              "      <th>val_loss</th>\n",
              "      <th>val_accuracy</th>\n",
              "      <th>loss</th>\n",
              "      <th>accuracy</th>\n",
              "      <th>batch_size</th>\n",
              "      <th>dropout</th>\n",
              "      <th>filters</th>\n",
              "      <th>hidden_dims</th>\n",
              "      <th>kernel_size</th>\n",
              "      <th>learning_rate</th>\n",
              "      <th>optimizer</th>\n",
              "      <th>pooling</th>\n",
              "      <th>strides</th>\n",
              "    </tr>\n",
              "  </thead>\n",
              "  <tbody>\n",
              "    <tr>\n",
              "      <th>0</th>\n",
              "      <td>11/08/20-001007</td>\n",
              "      <td>11/08/20-001040</td>\n",
              "      <td>33.101430</td>\n",
              "      <td>9</td>\n",
              "      <td>0.408170</td>\n",
              "      <td>0.902174</td>\n",
              "      <td>0.339253</td>\n",
              "      <td>0.896262</td>\n",
              "      <td>128</td>\n",
              "      <td>0.2</td>\n",
              "      <td>128</td>\n",
              "      <td>128</td>\n",
              "      <td>3</td>\n",
              "      <td>0.010</td>\n",
              "      <td>Adam</td>\n",
              "      <td>&lt;keras.layers.pooling.GlobalMaxPooling1D objec...</td>\n",
              "      <td>1</td>\n",
              "    </tr>\n",
              "    <tr>\n",
              "      <th>1</th>\n",
              "      <td>11/08/20-001040</td>\n",
              "      <td>11/08/20-001112</td>\n",
              "      <td>32.429168</td>\n",
              "      <td>11</td>\n",
              "      <td>0.494282</td>\n",
              "      <td>0.888005</td>\n",
              "      <td>0.383316</td>\n",
              "      <td>0.883128</td>\n",
              "      <td>128</td>\n",
              "      <td>0.2</td>\n",
              "      <td>128</td>\n",
              "      <td>128</td>\n",
              "      <td>3</td>\n",
              "      <td>0.010</td>\n",
              "      <td>Adam</td>\n",
              "      <td>&lt;keras.layers.pooling.GlobalMaxPooling1D objec...</td>\n",
              "      <td>2</td>\n",
              "    </tr>\n",
              "    <tr>\n",
              "      <th>2</th>\n",
              "      <td>11/08/20-001112</td>\n",
              "      <td>11/08/20-001153</td>\n",
              "      <td>40.951956</td>\n",
              "      <td>12</td>\n",
              "      <td>0.756854</td>\n",
              "      <td>0.844332</td>\n",
              "      <td>0.630444</td>\n",
              "      <td>0.839692</td>\n",
              "      <td>128</td>\n",
              "      <td>0.2</td>\n",
              "      <td>128</td>\n",
              "      <td>128</td>\n",
              "      <td>3</td>\n",
              "      <td>0.010</td>\n",
              "      <td>RMSprop</td>\n",
              "      <td>&lt;keras.layers.pooling.GlobalMaxPooling1D objec...</td>\n",
              "      <td>1</td>\n",
              "    </tr>\n",
              "    <tr>\n",
              "      <th>3</th>\n",
              "      <td>11/08/20-001153</td>\n",
              "      <td>11/08/20-001222</td>\n",
              "      <td>28.143952</td>\n",
              "      <td>10</td>\n",
              "      <td>0.702594</td>\n",
              "      <td>0.830939</td>\n",
              "      <td>0.616384</td>\n",
              "      <td>0.837082</td>\n",
              "      <td>128</td>\n",
              "      <td>0.2</td>\n",
              "      <td>128</td>\n",
              "      <td>128</td>\n",
              "      <td>3</td>\n",
              "      <td>0.010</td>\n",
              "      <td>RMSprop</td>\n",
              "      <td>&lt;keras.layers.pooling.GlobalMaxPooling1D objec...</td>\n",
              "      <td>2</td>\n",
              "    </tr>\n",
              "    <tr>\n",
              "      <th>4</th>\n",
              "      <td>11/08/20-001222</td>\n",
              "      <td>11/08/20-001338</td>\n",
              "      <td>75.782918</td>\n",
              "      <td>22</td>\n",
              "      <td>0.276476</td>\n",
              "      <td>0.916731</td>\n",
              "      <td>0.180942</td>\n",
              "      <td>0.938426</td>\n",
              "      <td>128</td>\n",
              "      <td>0.2</td>\n",
              "      <td>128</td>\n",
              "      <td>128</td>\n",
              "      <td>3</td>\n",
              "      <td>0.001</td>\n",
              "      <td>Adam</td>\n",
              "      <td>&lt;keras.layers.pooling.GlobalMaxPooling1D objec...</td>\n",
              "      <td>1</td>\n",
              "    </tr>\n",
              "    <tr>\n",
              "      <th>...</th>\n",
              "      <td>...</td>\n",
              "      <td>...</td>\n",
              "      <td>...</td>\n",
              "      <td>...</td>\n",
              "      <td>...</td>\n",
              "      <td>...</td>\n",
              "      <td>...</td>\n",
              "      <td>...</td>\n",
              "      <td>...</td>\n",
              "      <td>...</td>\n",
              "      <td>...</td>\n",
              "      <td>...</td>\n",
              "      <td>...</td>\n",
              "      <td>...</td>\n",
              "      <td>...</td>\n",
              "      <td>...</td>\n",
              "      <td>...</td>\n",
              "    </tr>\n",
              "    <tr>\n",
              "      <th>379</th>\n",
              "      <td>11/08/20-051520</td>\n",
              "      <td>11/08/20-051554</td>\n",
              "      <td>34.587987</td>\n",
              "      <td>10</td>\n",
              "      <td>0.742602</td>\n",
              "      <td>0.862966</td>\n",
              "      <td>0.384217</td>\n",
              "      <td>0.892251</td>\n",
              "      <td>256</td>\n",
              "      <td>0.1</td>\n",
              "      <td>256</td>\n",
              "      <td>512</td>\n",
              "      <td>7</td>\n",
              "      <td>0.010</td>\n",
              "      <td>RMSprop</td>\n",
              "      <td>&lt;keras.layers.pooling.GlobalMaxPooling1D objec...</td>\n",
              "      <td>2</td>\n",
              "    </tr>\n",
              "    <tr>\n",
              "      <th>380</th>\n",
              "      <td>11/08/20-051555</td>\n",
              "      <td>11/08/20-051659</td>\n",
              "      <td>63.738936</td>\n",
              "      <td>14</td>\n",
              "      <td>0.361452</td>\n",
              "      <td>0.914208</td>\n",
              "      <td>0.053487</td>\n",
              "      <td>0.982401</td>\n",
              "      <td>256</td>\n",
              "      <td>0.1</td>\n",
              "      <td>256</td>\n",
              "      <td>512</td>\n",
              "      <td>7</td>\n",
              "      <td>0.001</td>\n",
              "      <td>Adam</td>\n",
              "      <td>&lt;keras.layers.pooling.GlobalMaxPooling1D objec...</td>\n",
              "      <td>1</td>\n",
              "    </tr>\n",
              "    <tr>\n",
              "      <th>381</th>\n",
              "      <td>11/08/20-051700</td>\n",
              "      <td>11/08/20-051746</td>\n",
              "      <td>45.483428</td>\n",
              "      <td>13</td>\n",
              "      <td>0.435945</td>\n",
              "      <td>0.893245</td>\n",
              "      <td>0.070452</td>\n",
              "      <td>0.976492</td>\n",
              "      <td>256</td>\n",
              "      <td>0.1</td>\n",
              "      <td>256</td>\n",
              "      <td>512</td>\n",
              "      <td>7</td>\n",
              "      <td>0.001</td>\n",
              "      <td>Adam</td>\n",
              "      <td>&lt;keras.layers.pooling.GlobalMaxPooling1D objec...</td>\n",
              "      <td>2</td>\n",
              "    </tr>\n",
              "    <tr>\n",
              "      <th>382</th>\n",
              "      <td>11/08/20-051747</td>\n",
              "      <td>11/08/20-051854</td>\n",
              "      <td>67.493288</td>\n",
              "      <td>15</td>\n",
              "      <td>0.317048</td>\n",
              "      <td>0.917120</td>\n",
              "      <td>0.074154</td>\n",
              "      <td>0.973602</td>\n",
              "      <td>256</td>\n",
              "      <td>0.1</td>\n",
              "      <td>256</td>\n",
              "      <td>512</td>\n",
              "      <td>7</td>\n",
              "      <td>0.001</td>\n",
              "      <td>RMSprop</td>\n",
              "      <td>&lt;keras.layers.pooling.GlobalMaxPooling1D objec...</td>\n",
              "      <td>1</td>\n",
              "    </tr>\n",
              "    <tr>\n",
              "      <th>383</th>\n",
              "      <td>11/08/20-051855</td>\n",
              "      <td>11/08/20-051950</td>\n",
              "      <td>54.517562</td>\n",
              "      <td>16</td>\n",
              "      <td>0.457549</td>\n",
              "      <td>0.907803</td>\n",
              "      <td>0.070238</td>\n",
              "      <td>0.975823</td>\n",
              "      <td>256</td>\n",
              "      <td>0.1</td>\n",
              "      <td>256</td>\n",
              "      <td>512</td>\n",
              "      <td>7</td>\n",
              "      <td>0.001</td>\n",
              "      <td>RMSprop</td>\n",
              "      <td>&lt;keras.layers.pooling.GlobalMaxPooling1D objec...</td>\n",
              "      <td>2</td>\n",
              "    </tr>\n",
              "  </tbody>\n",
              "</table>\n",
              "<p>384 rows × 17 columns</p>\n",
              "</div>"
            ],
            "text/plain": [
              "               start              end   duration  round_epochs  val_loss  \\\n",
              "0    11/08/20-001007  11/08/20-001040  33.101430             9  0.408170   \n",
              "1    11/08/20-001040  11/08/20-001112  32.429168            11  0.494282   \n",
              "2    11/08/20-001112  11/08/20-001153  40.951956            12  0.756854   \n",
              "3    11/08/20-001153  11/08/20-001222  28.143952            10  0.702594   \n",
              "4    11/08/20-001222  11/08/20-001338  75.782918            22  0.276476   \n",
              "..               ...              ...        ...           ...       ...   \n",
              "379  11/08/20-051520  11/08/20-051554  34.587987            10  0.742602   \n",
              "380  11/08/20-051555  11/08/20-051659  63.738936            14  0.361452   \n",
              "381  11/08/20-051700  11/08/20-051746  45.483428            13  0.435945   \n",
              "382  11/08/20-051747  11/08/20-051854  67.493288            15  0.317048   \n",
              "383  11/08/20-051855  11/08/20-051950  54.517562            16  0.457549   \n",
              "\n",
              "     val_accuracy      loss  accuracy  batch_size  dropout  filters  \\\n",
              "0        0.902174  0.339253  0.896262         128      0.2      128   \n",
              "1        0.888005  0.383316  0.883128         128      0.2      128   \n",
              "2        0.844332  0.630444  0.839692         128      0.2      128   \n",
              "3        0.830939  0.616384  0.837082         128      0.2      128   \n",
              "4        0.916731  0.180942  0.938426         128      0.2      128   \n",
              "..            ...       ...       ...         ...      ...      ...   \n",
              "379      0.862966  0.384217  0.892251         256      0.1      256   \n",
              "380      0.914208  0.053487  0.982401         256      0.1      256   \n",
              "381      0.893245  0.070452  0.976492         256      0.1      256   \n",
              "382      0.917120  0.074154  0.973602         256      0.1      256   \n",
              "383      0.907803  0.070238  0.975823         256      0.1      256   \n",
              "\n",
              "     hidden_dims  kernel_size  learning_rate optimizer  \\\n",
              "0            128            3          0.010      Adam   \n",
              "1            128            3          0.010      Adam   \n",
              "2            128            3          0.010   RMSprop   \n",
              "3            128            3          0.010   RMSprop   \n",
              "4            128            3          0.001      Adam   \n",
              "..           ...          ...            ...       ...   \n",
              "379          512            7          0.010   RMSprop   \n",
              "380          512            7          0.001      Adam   \n",
              "381          512            7          0.001      Adam   \n",
              "382          512            7          0.001   RMSprop   \n",
              "383          512            7          0.001   RMSprop   \n",
              "\n",
              "                                               pooling  strides  \n",
              "0    <keras.layers.pooling.GlobalMaxPooling1D objec...        1  \n",
              "1    <keras.layers.pooling.GlobalMaxPooling1D objec...        2  \n",
              "2    <keras.layers.pooling.GlobalMaxPooling1D objec...        1  \n",
              "3    <keras.layers.pooling.GlobalMaxPooling1D objec...        2  \n",
              "4    <keras.layers.pooling.GlobalMaxPooling1D objec...        1  \n",
              "..                                                 ...      ...  \n",
              "379  <keras.layers.pooling.GlobalMaxPooling1D objec...        2  \n",
              "380  <keras.layers.pooling.GlobalMaxPooling1D objec...        1  \n",
              "381  <keras.layers.pooling.GlobalMaxPooling1D objec...        2  \n",
              "382  <keras.layers.pooling.GlobalMaxPooling1D objec...        1  \n",
              "383  <keras.layers.pooling.GlobalMaxPooling1D objec...        2  \n",
              "\n",
              "[384 rows x 17 columns]"
            ]
          },
          "metadata": {
            "tags": []
          },
          "execution_count": 55
        }
      ]
    },
    {
      "cell_type": "markdown",
      "metadata": {
        "id": "Zx1ZBqD6Z7yP"
      },
      "source": [
        "#### Getting best model computed by Talos"
      ]
    },
    {
      "cell_type": "code",
      "metadata": {
        "id": "wLQxwWwmZ7yP"
      },
      "source": [
        "best_model = t.best_model(metric='val_accuracy', asc=False)\n",
        "\n",
        "predicted_list = best_model.predict(test_data)"
      ],
      "execution_count": null,
      "outputs": []
    },
    {
      "cell_type": "markdown",
      "metadata": {
        "id": "KJETDEWCZ7yQ"
      },
      "source": [
        "## Accuracy of the model"
      ]
    },
    {
      "cell_type": "code",
      "metadata": {
        "pycharm": {
          "name": "#%%\n"
        },
        "id": "0rpNiPrSZ7yQ",
        "outputId": "8587cf4c-ccc3-41eb-95d7-cde3c16d4ddc"
      },
      "source": [
        "accuracy_score(predicted_list.argmax(axis=1), test_classes_categorical.argmax(axis=1))"
      ],
      "execution_count": null,
      "outputs": [
        {
          "output_type": "execute_result",
          "data": {
            "text/plain": [
              "0.9195712523133868"
            ]
          },
          "metadata": {
            "tags": []
          },
          "execution_count": 57
        }
      ]
    },
    {
      "cell_type": "markdown",
      "metadata": {
        "id": "lziwgS6ZZ7yR"
      },
      "source": [
        "### Confusion Matrix"
      ]
    },
    {
      "cell_type": "code",
      "metadata": {
        "id": "EkrnDLSUSsMG"
      },
      "source": [
        "label_dict = pd.Series(df_test.label.values,index=df_test.label_index).to_dict()\n",
        "\n",
        "test_list = test_classes_categorical.argmax(axis=1)\n",
        "predicted_list = predicted_list.argmax(axis=1)\n",
        "test_list_label = [label_dict[x] for x in test_list]\n",
        "predicted_list_label = [label_dict[x] for x in predicted_list]"
      ],
      "execution_count": null,
      "outputs": []
    },
    {
      "cell_type": "code",
      "metadata": {
        "id": "1RtCZXWvZ7yT"
      },
      "source": [
        "confusion_matrix_final = confusion_matrix(test_list_label, predicted_list_label)"
      ],
      "execution_count": null,
      "outputs": []
    },
    {
      "cell_type": "code",
      "metadata": {
        "id": "cuscEqt9Vq5Q",
        "colab": {
          "base_uri": "https://localhost:8080/",
          "height": 195
        },
        "outputId": "9e92466c-d593-455a-db4c-724bd476a561"
      },
      "source": [
        "confusion_matrix_dataframe = pd.DataFrame(confusion_matrix_final)\n",
        "confusion_matrix_dataframe.head()"
      ],
      "execution_count": null,
      "outputs": [
        {
          "output_type": "execute_result",
          "data": {
            "text/html": [
              "<div>\n",
              "<style scoped>\n",
              "    .dataframe tbody tr th:only-of-type {\n",
              "        vertical-align: middle;\n",
              "    }\n",
              "\n",
              "    .dataframe tbody tr th {\n",
              "        vertical-align: top;\n",
              "    }\n",
              "\n",
              "    .dataframe thead th {\n",
              "        text-align: right;\n",
              "    }\n",
              "</style>\n",
              "<table border=\"1\" class=\"dataframe\">\n",
              "  <thead>\n",
              "    <tr style=\"text-align: right;\">\n",
              "      <th></th>\n",
              "      <th>0</th>\n",
              "      <th>1</th>\n",
              "      <th>2</th>\n",
              "      <th>3</th>\n",
              "      <th>4</th>\n",
              "      <th>5</th>\n",
              "      <th>6</th>\n",
              "      <th>7</th>\n",
              "      <th>8</th>\n",
              "      <th>9</th>\n",
              "      <th>...</th>\n",
              "      <th>11</th>\n",
              "      <th>12</th>\n",
              "      <th>13</th>\n",
              "      <th>14</th>\n",
              "      <th>15</th>\n",
              "      <th>16</th>\n",
              "      <th>17</th>\n",
              "      <th>18</th>\n",
              "      <th>19</th>\n",
              "      <th>20</th>\n",
              "    </tr>\n",
              "  </thead>\n",
              "  <tbody>\n",
              "    <tr>\n",
              "      <th>0</th>\n",
              "      <td>528</td>\n",
              "      <td>0</td>\n",
              "      <td>0</td>\n",
              "      <td>0</td>\n",
              "      <td>0</td>\n",
              "      <td>0</td>\n",
              "      <td>0</td>\n",
              "      <td>0</td>\n",
              "      <td>0</td>\n",
              "      <td>0</td>\n",
              "      <td>...</td>\n",
              "      <td>0</td>\n",
              "      <td>0</td>\n",
              "      <td>0</td>\n",
              "      <td>0</td>\n",
              "      <td>0</td>\n",
              "      <td>0</td>\n",
              "      <td>0</td>\n",
              "      <td>0</td>\n",
              "      <td>0</td>\n",
              "      <td>1</td>\n",
              "    </tr>\n",
              "    <tr>\n",
              "      <th>1</th>\n",
              "      <td>0</td>\n",
              "      <td>42</td>\n",
              "      <td>0</td>\n",
              "      <td>2</td>\n",
              "      <td>0</td>\n",
              "      <td>2</td>\n",
              "      <td>0</td>\n",
              "      <td>0</td>\n",
              "      <td>0</td>\n",
              "      <td>0</td>\n",
              "      <td>...</td>\n",
              "      <td>0</td>\n",
              "      <td>2</td>\n",
              "      <td>0</td>\n",
              "      <td>0</td>\n",
              "      <td>0</td>\n",
              "      <td>0</td>\n",
              "      <td>0</td>\n",
              "      <td>0</td>\n",
              "      <td>0</td>\n",
              "      <td>2</td>\n",
              "    </tr>\n",
              "    <tr>\n",
              "      <th>2</th>\n",
              "      <td>0</td>\n",
              "      <td>0</td>\n",
              "      <td>9</td>\n",
              "      <td>0</td>\n",
              "      <td>1</td>\n",
              "      <td>0</td>\n",
              "      <td>0</td>\n",
              "      <td>0</td>\n",
              "      <td>0</td>\n",
              "      <td>0</td>\n",
              "      <td>...</td>\n",
              "      <td>0</td>\n",
              "      <td>0</td>\n",
              "      <td>0</td>\n",
              "      <td>0</td>\n",
              "      <td>0</td>\n",
              "      <td>0</td>\n",
              "      <td>0</td>\n",
              "      <td>0</td>\n",
              "      <td>0</td>\n",
              "      <td>1</td>\n",
              "    </tr>\n",
              "    <tr>\n",
              "      <th>3</th>\n",
              "      <td>0</td>\n",
              "      <td>0</td>\n",
              "      <td>0</td>\n",
              "      <td>4616</td>\n",
              "      <td>15</td>\n",
              "      <td>11</td>\n",
              "      <td>0</td>\n",
              "      <td>13</td>\n",
              "      <td>3</td>\n",
              "      <td>3</td>\n",
              "      <td>...</td>\n",
              "      <td>0</td>\n",
              "      <td>5</td>\n",
              "      <td>0</td>\n",
              "      <td>1</td>\n",
              "      <td>1</td>\n",
              "      <td>0</td>\n",
              "      <td>1</td>\n",
              "      <td>0</td>\n",
              "      <td>0</td>\n",
              "      <td>88</td>\n",
              "    </tr>\n",
              "    <tr>\n",
              "      <th>4</th>\n",
              "      <td>0</td>\n",
              "      <td>0</td>\n",
              "      <td>0</td>\n",
              "      <td>15</td>\n",
              "      <td>1403</td>\n",
              "      <td>11</td>\n",
              "      <td>0</td>\n",
              "      <td>3</td>\n",
              "      <td>4</td>\n",
              "      <td>0</td>\n",
              "      <td>...</td>\n",
              "      <td>0</td>\n",
              "      <td>0</td>\n",
              "      <td>0</td>\n",
              "      <td>8</td>\n",
              "      <td>0</td>\n",
              "      <td>0</td>\n",
              "      <td>0</td>\n",
              "      <td>0</td>\n",
              "      <td>1</td>\n",
              "      <td>31</td>\n",
              "    </tr>\n",
              "  </tbody>\n",
              "</table>\n",
              "<p>5 rows × 21 columns</p>\n",
              "</div>"
            ],
            "text/plain": [
              "    0   1   2     3     4   5   6   7   8   9   ...  11  12  13  14  15  16  \\\n",
              "0  528   0   0     0     0   0   0   0   0   0  ...   0   0   0   0   0   0   \n",
              "1    0  42   0     2     0   2   0   0   0   0  ...   0   2   0   0   0   0   \n",
              "2    0   0   9     0     1   0   0   0   0   0  ...   0   0   0   0   0   0   \n",
              "3    0   0   0  4616    15  11   0  13   3   3  ...   0   5   0   1   1   0   \n",
              "4    0   0   0    15  1403  11   0   3   4   0  ...   0   0   0   8   0   0   \n",
              "\n",
              "   17  18  19  20  \n",
              "0   0   0   0   1  \n",
              "1   0   0   0   2  \n",
              "2   0   0   0   1  \n",
              "3   1   0   0  88  \n",
              "4   0   0   1  31  \n",
              "\n",
              "[5 rows x 21 columns]"
            ]
          },
          "metadata": {
            "tags": []
          },
          "execution_count": 60
        }
      ]
    },
    {
      "cell_type": "code",
      "metadata": {
        "id": "2amOr0rBWxKF",
        "scrolled": true,
        "colab": {
          "base_uri": "https://localhost:8080/",
          "height": 195
        },
        "outputId": "6a4cc14c-83b2-4c7c-b5d8-93ea0eea9b7a"
      },
      "source": [
        "confusion_matrix_dataframe.reset_index(inplace=True)\n",
        "confusion_matrix_dataframe.head()"
      ],
      "execution_count": null,
      "outputs": [
        {
          "output_type": "execute_result",
          "data": {
            "text/html": [
              "<div>\n",
              "<style scoped>\n",
              "    .dataframe tbody tr th:only-of-type {\n",
              "        vertical-align: middle;\n",
              "    }\n",
              "\n",
              "    .dataframe tbody tr th {\n",
              "        vertical-align: top;\n",
              "    }\n",
              "\n",
              "    .dataframe thead th {\n",
              "        text-align: right;\n",
              "    }\n",
              "</style>\n",
              "<table border=\"1\" class=\"dataframe\">\n",
              "  <thead>\n",
              "    <tr style=\"text-align: right;\">\n",
              "      <th></th>\n",
              "      <th>index</th>\n",
              "      <th>0</th>\n",
              "      <th>1</th>\n",
              "      <th>2</th>\n",
              "      <th>3</th>\n",
              "      <th>4</th>\n",
              "      <th>5</th>\n",
              "      <th>6</th>\n",
              "      <th>7</th>\n",
              "      <th>8</th>\n",
              "      <th>...</th>\n",
              "      <th>11</th>\n",
              "      <th>12</th>\n",
              "      <th>13</th>\n",
              "      <th>14</th>\n",
              "      <th>15</th>\n",
              "      <th>16</th>\n",
              "      <th>17</th>\n",
              "      <th>18</th>\n",
              "      <th>19</th>\n",
              "      <th>20</th>\n",
              "    </tr>\n",
              "  </thead>\n",
              "  <tbody>\n",
              "    <tr>\n",
              "      <th>0</th>\n",
              "      <td>0</td>\n",
              "      <td>528</td>\n",
              "      <td>0</td>\n",
              "      <td>0</td>\n",
              "      <td>0</td>\n",
              "      <td>0</td>\n",
              "      <td>0</td>\n",
              "      <td>0</td>\n",
              "      <td>0</td>\n",
              "      <td>0</td>\n",
              "      <td>...</td>\n",
              "      <td>0</td>\n",
              "      <td>0</td>\n",
              "      <td>0</td>\n",
              "      <td>0</td>\n",
              "      <td>0</td>\n",
              "      <td>0</td>\n",
              "      <td>0</td>\n",
              "      <td>0</td>\n",
              "      <td>0</td>\n",
              "      <td>1</td>\n",
              "    </tr>\n",
              "    <tr>\n",
              "      <th>1</th>\n",
              "      <td>1</td>\n",
              "      <td>0</td>\n",
              "      <td>42</td>\n",
              "      <td>0</td>\n",
              "      <td>2</td>\n",
              "      <td>0</td>\n",
              "      <td>2</td>\n",
              "      <td>0</td>\n",
              "      <td>0</td>\n",
              "      <td>0</td>\n",
              "      <td>...</td>\n",
              "      <td>0</td>\n",
              "      <td>2</td>\n",
              "      <td>0</td>\n",
              "      <td>0</td>\n",
              "      <td>0</td>\n",
              "      <td>0</td>\n",
              "      <td>0</td>\n",
              "      <td>0</td>\n",
              "      <td>0</td>\n",
              "      <td>2</td>\n",
              "    </tr>\n",
              "    <tr>\n",
              "      <th>2</th>\n",
              "      <td>2</td>\n",
              "      <td>0</td>\n",
              "      <td>0</td>\n",
              "      <td>9</td>\n",
              "      <td>0</td>\n",
              "      <td>1</td>\n",
              "      <td>0</td>\n",
              "      <td>0</td>\n",
              "      <td>0</td>\n",
              "      <td>0</td>\n",
              "      <td>...</td>\n",
              "      <td>0</td>\n",
              "      <td>0</td>\n",
              "      <td>0</td>\n",
              "      <td>0</td>\n",
              "      <td>0</td>\n",
              "      <td>0</td>\n",
              "      <td>0</td>\n",
              "      <td>0</td>\n",
              "      <td>0</td>\n",
              "      <td>1</td>\n",
              "    </tr>\n",
              "    <tr>\n",
              "      <th>3</th>\n",
              "      <td>3</td>\n",
              "      <td>0</td>\n",
              "      <td>0</td>\n",
              "      <td>0</td>\n",
              "      <td>4616</td>\n",
              "      <td>15</td>\n",
              "      <td>11</td>\n",
              "      <td>0</td>\n",
              "      <td>13</td>\n",
              "      <td>3</td>\n",
              "      <td>...</td>\n",
              "      <td>0</td>\n",
              "      <td>5</td>\n",
              "      <td>0</td>\n",
              "      <td>1</td>\n",
              "      <td>1</td>\n",
              "      <td>0</td>\n",
              "      <td>1</td>\n",
              "      <td>0</td>\n",
              "      <td>0</td>\n",
              "      <td>88</td>\n",
              "    </tr>\n",
              "    <tr>\n",
              "      <th>4</th>\n",
              "      <td>4</td>\n",
              "      <td>0</td>\n",
              "      <td>0</td>\n",
              "      <td>0</td>\n",
              "      <td>15</td>\n",
              "      <td>1403</td>\n",
              "      <td>11</td>\n",
              "      <td>0</td>\n",
              "      <td>3</td>\n",
              "      <td>4</td>\n",
              "      <td>...</td>\n",
              "      <td>0</td>\n",
              "      <td>0</td>\n",
              "      <td>0</td>\n",
              "      <td>8</td>\n",
              "      <td>0</td>\n",
              "      <td>0</td>\n",
              "      <td>0</td>\n",
              "      <td>0</td>\n",
              "      <td>1</td>\n",
              "      <td>31</td>\n",
              "    </tr>\n",
              "  </tbody>\n",
              "</table>\n",
              "<p>5 rows × 22 columns</p>\n",
              "</div>"
            ],
            "text/plain": [
              "   index    0   1  2     3     4   5  6   7  8  ...  11  12  13  14  15  16  \\\n",
              "0      0  528   0  0     0     0   0  0   0  0  ...   0   0   0   0   0   0   \n",
              "1      1    0  42  0     2     0   2  0   0  0  ...   0   2   0   0   0   0   \n",
              "2      2    0   0  9     0     1   0  0   0  0  ...   0   0   0   0   0   0   \n",
              "3      3    0   0  0  4616    15  11  0  13  3  ...   0   5   0   1   1   0   \n",
              "4      4    0   0  0    15  1403  11  0   3  4  ...   0   0   0   8   0   0   \n",
              "\n",
              "   17  18  19  20  \n",
              "0   0   0   0   1  \n",
              "1   0   0   0   2  \n",
              "2   0   0   0   1  \n",
              "3   1   0   0  88  \n",
              "4   0   0   1  31  \n",
              "\n",
              "[5 rows x 22 columns]"
            ]
          },
          "metadata": {
            "tags": []
          },
          "execution_count": 61
        }
      ]
    },
    {
      "cell_type": "code",
      "metadata": {
        "id": "ZqFPnyQeXCxC"
      },
      "source": [
        "confusion_matrix_dataframe= confusion_matrix_dataframe.replace({\"index\": label_dict})\n",
        "confusion_matrix_dataframe = confusion_matrix_dataframe.set_index('index')"
      ],
      "execution_count": null,
      "outputs": []
    },
    {
      "cell_type": "code",
      "metadata": {
        "id": "2rWIbTNtXNGf"
      },
      "source": [
        "confusion_matrix_dataframe.columns = [label_dict[x] for x in confusion_matrix_dataframe.columns]"
      ],
      "execution_count": null,
      "outputs": []
    },
    {
      "cell_type": "code",
      "metadata": {
        "id": "IG-Zm4AGYufq",
        "colab": {
          "base_uri": "https://localhost:8080/",
          "height": 698
        },
        "outputId": "621bbfb8-51eb-49e7-d437-1c4722e6cb44"
      },
      "source": [
        "confusion_matrix_dataframe"
      ],
      "execution_count": null,
      "outputs": [
        {
          "output_type": "execute_result",
          "data": {
            "text/html": [
              "<div>\n",
              "<style scoped>\n",
              "    .dataframe tbody tr th:only-of-type {\n",
              "        vertical-align: middle;\n",
              "    }\n",
              "\n",
              "    .dataframe tbody tr th {\n",
              "        vertical-align: top;\n",
              "    }\n",
              "\n",
              "    .dataframe thead th {\n",
              "        text-align: right;\n",
              "    }\n",
              "</style>\n",
              "<table border=\"1\" class=\"dataframe\">\n",
              "  <thead>\n",
              "    <tr style=\"text-align: right;\">\n",
              "      <th></th>\n",
              "      <th>ar</th>\n",
              "      <th>de</th>\n",
              "      <th>el</th>\n",
              "      <th>en</th>\n",
              "      <th>es</th>\n",
              "      <th>fr</th>\n",
              "      <th>he</th>\n",
              "      <th>id</th>\n",
              "      <th>it</th>\n",
              "      <th>ja</th>\n",
              "      <th>...</th>\n",
              "      <th>ms</th>\n",
              "      <th>nl</th>\n",
              "      <th>pl</th>\n",
              "      <th>pt</th>\n",
              "      <th>ru</th>\n",
              "      <th>sv</th>\n",
              "      <th>th</th>\n",
              "      <th>tl</th>\n",
              "      <th>tr</th>\n",
              "      <th>und</th>\n",
              "    </tr>\n",
              "    <tr>\n",
              "      <th>index</th>\n",
              "      <th></th>\n",
              "      <th></th>\n",
              "      <th></th>\n",
              "      <th></th>\n",
              "      <th></th>\n",
              "      <th></th>\n",
              "      <th></th>\n",
              "      <th></th>\n",
              "      <th></th>\n",
              "      <th></th>\n",
              "      <th></th>\n",
              "      <th></th>\n",
              "      <th></th>\n",
              "      <th></th>\n",
              "      <th></th>\n",
              "      <th></th>\n",
              "      <th></th>\n",
              "      <th></th>\n",
              "      <th></th>\n",
              "      <th></th>\n",
              "      <th></th>\n",
              "    </tr>\n",
              "  </thead>\n",
              "  <tbody>\n",
              "    <tr>\n",
              "      <th>ar</th>\n",
              "      <td>528</td>\n",
              "      <td>0</td>\n",
              "      <td>0</td>\n",
              "      <td>0</td>\n",
              "      <td>0</td>\n",
              "      <td>0</td>\n",
              "      <td>0</td>\n",
              "      <td>0</td>\n",
              "      <td>0</td>\n",
              "      <td>0</td>\n",
              "      <td>...</td>\n",
              "      <td>0</td>\n",
              "      <td>0</td>\n",
              "      <td>0</td>\n",
              "      <td>0</td>\n",
              "      <td>0</td>\n",
              "      <td>0</td>\n",
              "      <td>0</td>\n",
              "      <td>0</td>\n",
              "      <td>0</td>\n",
              "      <td>1</td>\n",
              "    </tr>\n",
              "    <tr>\n",
              "      <th>de</th>\n",
              "      <td>0</td>\n",
              "      <td>42</td>\n",
              "      <td>0</td>\n",
              "      <td>2</td>\n",
              "      <td>0</td>\n",
              "      <td>2</td>\n",
              "      <td>0</td>\n",
              "      <td>0</td>\n",
              "      <td>0</td>\n",
              "      <td>0</td>\n",
              "      <td>...</td>\n",
              "      <td>0</td>\n",
              "      <td>2</td>\n",
              "      <td>0</td>\n",
              "      <td>0</td>\n",
              "      <td>0</td>\n",
              "      <td>0</td>\n",
              "      <td>0</td>\n",
              "      <td>0</td>\n",
              "      <td>0</td>\n",
              "      <td>2</td>\n",
              "    </tr>\n",
              "    <tr>\n",
              "      <th>el</th>\n",
              "      <td>0</td>\n",
              "      <td>0</td>\n",
              "      <td>9</td>\n",
              "      <td>0</td>\n",
              "      <td>1</td>\n",
              "      <td>0</td>\n",
              "      <td>0</td>\n",
              "      <td>0</td>\n",
              "      <td>0</td>\n",
              "      <td>0</td>\n",
              "      <td>...</td>\n",
              "      <td>0</td>\n",
              "      <td>0</td>\n",
              "      <td>0</td>\n",
              "      <td>0</td>\n",
              "      <td>0</td>\n",
              "      <td>0</td>\n",
              "      <td>0</td>\n",
              "      <td>0</td>\n",
              "      <td>0</td>\n",
              "      <td>1</td>\n",
              "    </tr>\n",
              "    <tr>\n",
              "      <th>en</th>\n",
              "      <td>0</td>\n",
              "      <td>0</td>\n",
              "      <td>0</td>\n",
              "      <td>4616</td>\n",
              "      <td>15</td>\n",
              "      <td>11</td>\n",
              "      <td>0</td>\n",
              "      <td>13</td>\n",
              "      <td>3</td>\n",
              "      <td>3</td>\n",
              "      <td>...</td>\n",
              "      <td>0</td>\n",
              "      <td>5</td>\n",
              "      <td>0</td>\n",
              "      <td>1</td>\n",
              "      <td>1</td>\n",
              "      <td>0</td>\n",
              "      <td>1</td>\n",
              "      <td>0</td>\n",
              "      <td>0</td>\n",
              "      <td>88</td>\n",
              "    </tr>\n",
              "    <tr>\n",
              "      <th>es</th>\n",
              "      <td>0</td>\n",
              "      <td>0</td>\n",
              "      <td>0</td>\n",
              "      <td>15</td>\n",
              "      <td>1403</td>\n",
              "      <td>11</td>\n",
              "      <td>0</td>\n",
              "      <td>3</td>\n",
              "      <td>4</td>\n",
              "      <td>0</td>\n",
              "      <td>...</td>\n",
              "      <td>0</td>\n",
              "      <td>0</td>\n",
              "      <td>0</td>\n",
              "      <td>8</td>\n",
              "      <td>0</td>\n",
              "      <td>0</td>\n",
              "      <td>0</td>\n",
              "      <td>0</td>\n",
              "      <td>1</td>\n",
              "      <td>31</td>\n",
              "    </tr>\n",
              "    <tr>\n",
              "      <th>fr</th>\n",
              "      <td>0</td>\n",
              "      <td>0</td>\n",
              "      <td>0</td>\n",
              "      <td>14</td>\n",
              "      <td>5</td>\n",
              "      <td>196</td>\n",
              "      <td>0</td>\n",
              "      <td>1</td>\n",
              "      <td>0</td>\n",
              "      <td>0</td>\n",
              "      <td>...</td>\n",
              "      <td>0</td>\n",
              "      <td>2</td>\n",
              "      <td>0</td>\n",
              "      <td>0</td>\n",
              "      <td>0</td>\n",
              "      <td>0</td>\n",
              "      <td>0</td>\n",
              "      <td>0</td>\n",
              "      <td>0</td>\n",
              "      <td>6</td>\n",
              "    </tr>\n",
              "    <tr>\n",
              "      <th>he</th>\n",
              "      <td>0</td>\n",
              "      <td>0</td>\n",
              "      <td>0</td>\n",
              "      <td>0</td>\n",
              "      <td>0</td>\n",
              "      <td>0</td>\n",
              "      <td>13</td>\n",
              "      <td>0</td>\n",
              "      <td>0</td>\n",
              "      <td>0</td>\n",
              "      <td>...</td>\n",
              "      <td>0</td>\n",
              "      <td>0</td>\n",
              "      <td>0</td>\n",
              "      <td>0</td>\n",
              "      <td>0</td>\n",
              "      <td>0</td>\n",
              "      <td>0</td>\n",
              "      <td>0</td>\n",
              "      <td>0</td>\n",
              "      <td>1</td>\n",
              "    </tr>\n",
              "    <tr>\n",
              "      <th>id</th>\n",
              "      <td>0</td>\n",
              "      <td>0</td>\n",
              "      <td>0</td>\n",
              "      <td>24</td>\n",
              "      <td>2</td>\n",
              "      <td>4</td>\n",
              "      <td>0</td>\n",
              "      <td>730</td>\n",
              "      <td>0</td>\n",
              "      <td>1</td>\n",
              "      <td>...</td>\n",
              "      <td>7</td>\n",
              "      <td>2</td>\n",
              "      <td>0</td>\n",
              "      <td>1</td>\n",
              "      <td>0</td>\n",
              "      <td>0</td>\n",
              "      <td>1</td>\n",
              "      <td>5</td>\n",
              "      <td>0</td>\n",
              "      <td>39</td>\n",
              "    </tr>\n",
              "    <tr>\n",
              "      <th>it</th>\n",
              "      <td>0</td>\n",
              "      <td>0</td>\n",
              "      <td>0</td>\n",
              "      <td>2</td>\n",
              "      <td>6</td>\n",
              "      <td>1</td>\n",
              "      <td>0</td>\n",
              "      <td>0</td>\n",
              "      <td>63</td>\n",
              "      <td>0</td>\n",
              "      <td>...</td>\n",
              "      <td>0</td>\n",
              "      <td>0</td>\n",
              "      <td>0</td>\n",
              "      <td>1</td>\n",
              "      <td>0</td>\n",
              "      <td>0</td>\n",
              "      <td>0</td>\n",
              "      <td>0</td>\n",
              "      <td>0</td>\n",
              "      <td>3</td>\n",
              "    </tr>\n",
              "    <tr>\n",
              "      <th>ja</th>\n",
              "      <td>0</td>\n",
              "      <td>0</td>\n",
              "      <td>0</td>\n",
              "      <td>3</td>\n",
              "      <td>0</td>\n",
              "      <td>0</td>\n",
              "      <td>0</td>\n",
              "      <td>0</td>\n",
              "      <td>0</td>\n",
              "      <td>2463</td>\n",
              "      <td>...</td>\n",
              "      <td>0</td>\n",
              "      <td>0</td>\n",
              "      <td>1</td>\n",
              "      <td>0</td>\n",
              "      <td>0</td>\n",
              "      <td>0</td>\n",
              "      <td>0</td>\n",
              "      <td>0</td>\n",
              "      <td>0</td>\n",
              "      <td>9</td>\n",
              "    </tr>\n",
              "    <tr>\n",
              "      <th>ko</th>\n",
              "      <td>0</td>\n",
              "      <td>0</td>\n",
              "      <td>0</td>\n",
              "      <td>0</td>\n",
              "      <td>0</td>\n",
              "      <td>0</td>\n",
              "      <td>0</td>\n",
              "      <td>0</td>\n",
              "      <td>0</td>\n",
              "      <td>0</td>\n",
              "      <td>...</td>\n",
              "      <td>0</td>\n",
              "      <td>0</td>\n",
              "      <td>0</td>\n",
              "      <td>0</td>\n",
              "      <td>0</td>\n",
              "      <td>0</td>\n",
              "      <td>0</td>\n",
              "      <td>0</td>\n",
              "      <td>0</td>\n",
              "      <td>2</td>\n",
              "    </tr>\n",
              "    <tr>\n",
              "      <th>ms</th>\n",
              "      <td>0</td>\n",
              "      <td>0</td>\n",
              "      <td>0</td>\n",
              "      <td>2</td>\n",
              "      <td>0</td>\n",
              "      <td>0</td>\n",
              "      <td>0</td>\n",
              "      <td>21</td>\n",
              "      <td>0</td>\n",
              "      <td>0</td>\n",
              "      <td>...</td>\n",
              "      <td>5</td>\n",
              "      <td>1</td>\n",
              "      <td>0</td>\n",
              "      <td>0</td>\n",
              "      <td>0</td>\n",
              "      <td>0</td>\n",
              "      <td>0</td>\n",
              "      <td>1</td>\n",
              "      <td>1</td>\n",
              "      <td>0</td>\n",
              "    </tr>\n",
              "    <tr>\n",
              "      <th>nl</th>\n",
              "      <td>0</td>\n",
              "      <td>0</td>\n",
              "      <td>0</td>\n",
              "      <td>4</td>\n",
              "      <td>0</td>\n",
              "      <td>5</td>\n",
              "      <td>0</td>\n",
              "      <td>0</td>\n",
              "      <td>0</td>\n",
              "      <td>0</td>\n",
              "      <td>...</td>\n",
              "      <td>0</td>\n",
              "      <td>32</td>\n",
              "      <td>0</td>\n",
              "      <td>0</td>\n",
              "      <td>0</td>\n",
              "      <td>0</td>\n",
              "      <td>0</td>\n",
              "      <td>0</td>\n",
              "      <td>0</td>\n",
              "      <td>2</td>\n",
              "    </tr>\n",
              "    <tr>\n",
              "      <th>pl</th>\n",
              "      <td>1</td>\n",
              "      <td>1</td>\n",
              "      <td>0</td>\n",
              "      <td>4</td>\n",
              "      <td>0</td>\n",
              "      <td>0</td>\n",
              "      <td>0</td>\n",
              "      <td>0</td>\n",
              "      <td>0</td>\n",
              "      <td>0</td>\n",
              "      <td>...</td>\n",
              "      <td>0</td>\n",
              "      <td>0</td>\n",
              "      <td>16</td>\n",
              "      <td>0</td>\n",
              "      <td>0</td>\n",
              "      <td>0</td>\n",
              "      <td>0</td>\n",
              "      <td>0</td>\n",
              "      <td>0</td>\n",
              "      <td>4</td>\n",
              "    </tr>\n",
              "    <tr>\n",
              "      <th>pt</th>\n",
              "      <td>0</td>\n",
              "      <td>0</td>\n",
              "      <td>0</td>\n",
              "      <td>23</td>\n",
              "      <td>39</td>\n",
              "      <td>20</td>\n",
              "      <td>0</td>\n",
              "      <td>3</td>\n",
              "      <td>5</td>\n",
              "      <td>0</td>\n",
              "      <td>...</td>\n",
              "      <td>0</td>\n",
              "      <td>0</td>\n",
              "      <td>0</td>\n",
              "      <td>584</td>\n",
              "      <td>0</td>\n",
              "      <td>0</td>\n",
              "      <td>0</td>\n",
              "      <td>0</td>\n",
              "      <td>1</td>\n",
              "      <td>24</td>\n",
              "    </tr>\n",
              "    <tr>\n",
              "      <th>ru</th>\n",
              "      <td>0</td>\n",
              "      <td>0</td>\n",
              "      <td>0</td>\n",
              "      <td>0</td>\n",
              "      <td>0</td>\n",
              "      <td>0</td>\n",
              "      <td>0</td>\n",
              "      <td>0</td>\n",
              "      <td>0</td>\n",
              "      <td>0</td>\n",
              "      <td>...</td>\n",
              "      <td>0</td>\n",
              "      <td>0</td>\n",
              "      <td>0</td>\n",
              "      <td>0</td>\n",
              "      <td>242</td>\n",
              "      <td>0</td>\n",
              "      <td>0</td>\n",
              "      <td>0</td>\n",
              "      <td>0</td>\n",
              "      <td>1</td>\n",
              "    </tr>\n",
              "    <tr>\n",
              "      <th>sv</th>\n",
              "      <td>0</td>\n",
              "      <td>3</td>\n",
              "      <td>0</td>\n",
              "      <td>3</td>\n",
              "      <td>0</td>\n",
              "      <td>0</td>\n",
              "      <td>0</td>\n",
              "      <td>0</td>\n",
              "      <td>0</td>\n",
              "      <td>0</td>\n",
              "      <td>...</td>\n",
              "      <td>0</td>\n",
              "      <td>1</td>\n",
              "      <td>0</td>\n",
              "      <td>0</td>\n",
              "      <td>0</td>\n",
              "      <td>7</td>\n",
              "      <td>0</td>\n",
              "      <td>0</td>\n",
              "      <td>0</td>\n",
              "      <td>1</td>\n",
              "    </tr>\n",
              "    <tr>\n",
              "      <th>th</th>\n",
              "      <td>0</td>\n",
              "      <td>0</td>\n",
              "      <td>0</td>\n",
              "      <td>0</td>\n",
              "      <td>0</td>\n",
              "      <td>0</td>\n",
              "      <td>0</td>\n",
              "      <td>0</td>\n",
              "      <td>0</td>\n",
              "      <td>1</td>\n",
              "      <td>...</td>\n",
              "      <td>0</td>\n",
              "      <td>0</td>\n",
              "      <td>0</td>\n",
              "      <td>0</td>\n",
              "      <td>0</td>\n",
              "      <td>0</td>\n",
              "      <td>96</td>\n",
              "      <td>0</td>\n",
              "      <td>0</td>\n",
              "      <td>0</td>\n",
              "    </tr>\n",
              "    <tr>\n",
              "      <th>tl</th>\n",
              "      <td>0</td>\n",
              "      <td>0</td>\n",
              "      <td>0</td>\n",
              "      <td>18</td>\n",
              "      <td>2</td>\n",
              "      <td>0</td>\n",
              "      <td>0</td>\n",
              "      <td>6</td>\n",
              "      <td>0</td>\n",
              "      <td>0</td>\n",
              "      <td>...</td>\n",
              "      <td>0</td>\n",
              "      <td>0</td>\n",
              "      <td>0</td>\n",
              "      <td>1</td>\n",
              "      <td>0</td>\n",
              "      <td>0</td>\n",
              "      <td>0</td>\n",
              "      <td>54</td>\n",
              "      <td>0</td>\n",
              "      <td>8</td>\n",
              "    </tr>\n",
              "    <tr>\n",
              "      <th>tr</th>\n",
              "      <td>0</td>\n",
              "      <td>0</td>\n",
              "      <td>0</td>\n",
              "      <td>3</td>\n",
              "      <td>0</td>\n",
              "      <td>0</td>\n",
              "      <td>0</td>\n",
              "      <td>5</td>\n",
              "      <td>0</td>\n",
              "      <td>0</td>\n",
              "      <td>...</td>\n",
              "      <td>0</td>\n",
              "      <td>1</td>\n",
              "      <td>0</td>\n",
              "      <td>1</td>\n",
              "      <td>0</td>\n",
              "      <td>0</td>\n",
              "      <td>0</td>\n",
              "      <td>0</td>\n",
              "      <td>158</td>\n",
              "      <td>6</td>\n",
              "    </tr>\n",
              "    <tr>\n",
              "      <th>und</th>\n",
              "      <td>9</td>\n",
              "      <td>1</td>\n",
              "      <td>0</td>\n",
              "      <td>211</td>\n",
              "      <td>65</td>\n",
              "      <td>20</td>\n",
              "      <td>0</td>\n",
              "      <td>78</td>\n",
              "      <td>5</td>\n",
              "      <td>16</td>\n",
              "      <td>...</td>\n",
              "      <td>4</td>\n",
              "      <td>4</td>\n",
              "      <td>2</td>\n",
              "      <td>15</td>\n",
              "      <td>6</td>\n",
              "      <td>0</td>\n",
              "      <td>2</td>\n",
              "      <td>2</td>\n",
              "      <td>7</td>\n",
              "      <td>560</td>\n",
              "    </tr>\n",
              "  </tbody>\n",
              "</table>\n",
              "<p>21 rows × 21 columns</p>\n",
              "</div>"
            ],
            "text/plain": [
              "        ar  de  el    en    es   fr  he   id  it    ja  ...  ms  nl  pl   pt  \\\n",
              "index                                                   ...                    \n",
              "ar     528   0   0     0     0    0   0    0   0     0  ...   0   0   0    0   \n",
              "de       0  42   0     2     0    2   0    0   0     0  ...   0   2   0    0   \n",
              "el       0   0   9     0     1    0   0    0   0     0  ...   0   0   0    0   \n",
              "en       0   0   0  4616    15   11   0   13   3     3  ...   0   5   0    1   \n",
              "es       0   0   0    15  1403   11   0    3   4     0  ...   0   0   0    8   \n",
              "fr       0   0   0    14     5  196   0    1   0     0  ...   0   2   0    0   \n",
              "he       0   0   0     0     0    0  13    0   0     0  ...   0   0   0    0   \n",
              "id       0   0   0    24     2    4   0  730   0     1  ...   7   2   0    1   \n",
              "it       0   0   0     2     6    1   0    0  63     0  ...   0   0   0    1   \n",
              "ja       0   0   0     3     0    0   0    0   0  2463  ...   0   0   1    0   \n",
              "ko       0   0   0     0     0    0   0    0   0     0  ...   0   0   0    0   \n",
              "ms       0   0   0     2     0    0   0   21   0     0  ...   5   1   0    0   \n",
              "nl       0   0   0     4     0    5   0    0   0     0  ...   0  32   0    0   \n",
              "pl       1   1   0     4     0    0   0    0   0     0  ...   0   0  16    0   \n",
              "pt       0   0   0    23    39   20   0    3   5     0  ...   0   0   0  584   \n",
              "ru       0   0   0     0     0    0   0    0   0     0  ...   0   0   0    0   \n",
              "sv       0   3   0     3     0    0   0    0   0     0  ...   0   1   0    0   \n",
              "th       0   0   0     0     0    0   0    0   0     1  ...   0   0   0    0   \n",
              "tl       0   0   0    18     2    0   0    6   0     0  ...   0   0   0    1   \n",
              "tr       0   0   0     3     0    0   0    5   0     0  ...   0   1   0    1   \n",
              "und      9   1   0   211    65   20   0   78   5    16  ...   4   4   2   15   \n",
              "\n",
              "        ru  sv  th  tl   tr  und  \n",
              "index                             \n",
              "ar       0   0   0   0    0    1  \n",
              "de       0   0   0   0    0    2  \n",
              "el       0   0   0   0    0    1  \n",
              "en       1   0   1   0    0   88  \n",
              "es       0   0   0   0    1   31  \n",
              "fr       0   0   0   0    0    6  \n",
              "he       0   0   0   0    0    1  \n",
              "id       0   0   1   5    0   39  \n",
              "it       0   0   0   0    0    3  \n",
              "ja       0   0   0   0    0    9  \n",
              "ko       0   0   0   0    0    2  \n",
              "ms       0   0   0   1    1    0  \n",
              "nl       0   0   0   0    0    2  \n",
              "pl       0   0   0   0    0    4  \n",
              "pt       0   0   0   0    1   24  \n",
              "ru     242   0   0   0    0    1  \n",
              "sv       0   7   0   0    0    1  \n",
              "th       0   0  96   0    0    0  \n",
              "tl       0   0   0  54    0    8  \n",
              "tr       0   0   0   0  158    6  \n",
              "und      6   0   2   2    7  560  \n",
              "\n",
              "[21 rows x 21 columns]"
            ]
          },
          "metadata": {
            "tags": []
          },
          "execution_count": 64
        }
      ]
    },
    {
      "cell_type": "markdown",
      "metadata": {
        "id": "tfA_IbiBZ7yb"
      },
      "source": [
        "### Heatmap for Confusion matrix"
      ]
    },
    {
      "cell_type": "code",
      "metadata": {
        "id": "VV3z9P4tZ7yb"
      },
      "source": [
        "import seaborn as sn"
      ],
      "execution_count": null,
      "outputs": []
    },
    {
      "cell_type": "code",
      "metadata": {
        "id": "S-IJsDo9hWTd",
        "colab": {
          "base_uri": "https://localhost:8080/",
          "height": 942
        },
        "outputId": "6d80116c-a3ee-43e8-e8de-695abc2b821b"
      },
      "source": [
        "plt.figure(figsize = (50, 30))\n",
        "sn.set(font_scale=2) \n",
        "sn.heatmap(confusion_matrix_dataframe, annot=True, annot_kws={\"size\": 20}, fmt='.4g')"
      ],
      "execution_count": null,
      "outputs": [
        {
          "output_type": "execute_result",
          "data": {
            "text/plain": [
              "<AxesSubplot:ylabel='index'>"
            ]
          },
          "metadata": {
            "tags": []
          },
          "execution_count": 67
        },
        {
          "output_type": "display_data",
          "data": {
            "image/png": "[encoded data removed]",
            "text/plain": [
              "<Figure size 3600x2160 with 2 Axes>"
            ]
          },
          "metadata": {
            "tags": [],
            "needs_background": "light"
          }
        }
      ]
    },
    {
      "cell_type": "markdown",
      "metadata": {
        "id": "BdfkWMTBZ7yd"
      },
      "source": [
        "## Plotting correlation between Hyperparameters from Talos dataframe"
      ]
    },
    {
      "cell_type": "markdown",
      "metadata": {
        "id": "qvonxmO5ca81"
      },
      "source": [
        "##### Creating a dataframe from talos object and filtering hyperaparameter subset from it"
      ]
    },
    {
      "cell_type": "code",
      "metadata": {
        "id": "xBHOZMN2cbR4"
      },
      "source": [
        "params_df = t.data\n",
        "params_df = params_df[['batch_size','dropout', 'filters','hidden_dims', 'kernel_size', 'learning_rate','optimizer','pooling','strides']]"
      ],
      "execution_count": null,
      "outputs": []
    },
    {
      "cell_type": "code",
      "metadata": {
        "id": "y7Wq3idFcbVB"
      },
      "source": [
        "# changing pooling to a single value since only 1 pooling type used in Talos Scan\n",
        "params_df['pooling'] = 1"
      ],
      "execution_count": null,
      "outputs": []
    },
    {
      "cell_type": "code",
      "metadata": {
        "id": "y8mZGSu2cbry"
      },
      "source": [
        "# function to replace values in the optimizer column with indexes\n",
        "def replace_optim(x):\n",
        "  if x == 'Adam':\n",
        "    return 0\n",
        "  else:\n",
        "    return 1"
      ],
      "execution_count": null,
      "outputs": []
    },
    {
      "cell_type": "code",
      "metadata": {
        "id": "8jYprMGxej57"
      },
      "source": [
        "# applying function to change values of optimizer to indexes and dropping old optimizer column\n",
        "params_df['optimizer_num'] = params_df['optimizer'].apply(replace_optim)\n",
        "params_df.drop(columns='optimizer', inplace=True, axis=1)"
      ],
      "execution_count": null,
      "outputs": []
    },
    {
      "cell_type": "code",
      "metadata": {
        "id": "X_lf3zz6eyLd",
        "scrolled": true,
        "colab": {
          "base_uri": "https://localhost:8080/",
          "height": 617
        },
        "outputId": "ef7ce99d-2fc7-4c64-919b-522d44e8fae3"
      },
      "source": [
        "# plotting correlation plot for hyperparameters\n",
        "plt.rcParams['figure.figsize'] = (15.0, 10.0)\n",
        "sn.heatmap(params_df.corr(), annot = True,cmap= 'coolwarm', fmt='.1g')"
      ],
      "execution_count": null,
      "outputs": [
        {
          "output_type": "execute_result",
          "data": {
            "text/plain": [
              "<AxesSubplot:>"
            ]
          },
          "metadata": {
            "tags": []
          },
          "execution_count": 73
        },
        {
          "output_type": "display_data",
          "data": {
            "image/png": "[encoded data removed]",
            "text/plain": [
              "<Figure size 1080x720 with 2 Axes>"
            ]
          },
          "metadata": {
            "tags": []
          }
        }
      ]
    },
    {
      "cell_type": "code",
      "metadata": {
        "id": "cSmMVnyMZ7yj"
      },
      "source": [
        ""
      ],
      "execution_count": null,
      "outputs": []
    }
  ]
}